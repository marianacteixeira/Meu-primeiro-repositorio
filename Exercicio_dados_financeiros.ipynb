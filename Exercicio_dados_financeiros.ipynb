{
  "nbformat": 4,
  "nbformat_minor": 0,
  "metadata": {
    "colab": {
      "name": "Exercicio_dados_financeiros.ipynb",
      "provenance": []
    },
    "kernelspec": {
      "name": "python3",
      "display_name": "Python 3"
    },
    "language_info": {
      "name": "python"
    }
  },
  "cells": [
    {
      "cell_type": "markdown",
      "source": [
        "# Exercício 1: gráficos de candlestick com pontos de compra e venda\n",
        "\n",
        "**Apresentação:** resolvi fazer um gráfico com os preços de alguns ativos e dados de compra e venda do período de junho a agosto de 2022, usando dados do yfinance. A primeira parte do exercício mostra o resultado final, a segunda parte é um registro do trabalho, das dúvidas e das soluções encontradas."
      ],
      "metadata": {
        "id": "kaAMbgNyhVzN"
      }
    },
    {
      "cell_type": "markdown",
      "source": [
        "##**Parte 1**: Código final completo"
      ],
      "metadata": {
        "id": "BB9r3I32XJe7"
      }
    },
    {
      "cell_type": "markdown",
      "source": [
        "### 1. Instalações e obtenção de dados"
      ],
      "metadata": {
        "id": "vWhrMCUpXfdj"
      }
    },
    {
      "cell_type": "code",
      "source": [
        "!pip install plotly\n",
        "!pip install yfinance"
      ],
      "metadata": {
        "id": "RKMQAfvlWEeX"
      },
      "execution_count": null,
      "outputs": []
    },
    {
      "cell_type": "code",
      "source": [
        "import pandas as pd\n",
        "import plotly.graph_objects as go\n",
        "import yfinance as yf"
      ],
      "metadata": {
        "id": "44ZQ7d4gYRtJ"
      },
      "execution_count": null,
      "outputs": []
    },
    {
      "cell_type": "code",
      "source": [
        "# obtendo os dados dos ativos\n",
        "\n",
        "df_b3 = yf.download(\"B3SA3.SA\", start='2022-06-01', end='2022-08-02', interval = \"1d\")\n",
        "df_bradesco = yf.download(\"BBDC3.SA\", start='2022-06-01', end='2022-08-02', interval = \"1d\")\n",
        "df_copel = yf.download(\"CPLE6.SA\", start='2022-06-01', end='2022-08-02', interval = \"1d\")\n",
        "df_itausa = yf.download(\"ITSA4.SA\", start='2022-06-01', end='2022-08-02', interval = \"1d\")"
      ],
      "metadata": {
        "colab": {
          "base_uri": "https://localhost:8080/"
        },
        "id": "wjR40jnAYYzj",
        "outputId": "90e22dc7-dcc5-4646-b069-2ed36543182e"
      },
      "execution_count": null,
      "outputs": [
        {
          "output_type": "stream",
          "name": "stdout",
          "text": [
            "[*********************100%***********************]  1 of 1 completed\n",
            "[*********************100%***********************]  1 of 1 completed\n",
            "[*********************100%***********************]  1 of 1 completed\n",
            "[*********************100%***********************]  1 of 1 completed\n"
          ]
        }
      ]
    },
    {
      "cell_type": "code",
      "source": [
        "# importando os dados de compras e vendas\n",
        "\n",
        "investimentos = pd.read_csv('Investimentos - Mesa Mac.csv', sep = ';')"
      ],
      "metadata": {
        "id": "sJzOH6O1YzTJ"
      },
      "execution_count": null,
      "outputs": []
    },
    {
      "cell_type": "code",
      "source": [
        "# dataframe sem valores nan (compras sem vendas, posições não encerradas)\n",
        "\n",
        "df_sem_nan = investimentos.dropna(subset = ['venda'])"
      ],
      "metadata": {
        "id": "aAiqE47waJ_E"
      },
      "execution_count": null,
      "outputs": []
    },
    {
      "cell_type": "code",
      "source": [
        "#corrigindo o formato das datas\n",
        "\n",
        "data_compra_nova = []\n",
        "for data in investimentos['data_compra']:\n",
        "  data_nova = str(pd.to_datetime\n",
        "                  (data, dayfirst=True))[:10]\n",
        "  data_compra_nova.append(data_nova)\n",
        "\n",
        "data_compra_form = pd.DataFrame(data_compra_nova) #fazendo a lista criada no laço for virar um df\n",
        "data_compra_form.columns=['data_compra_nova'] #renomeando a coluna\n",
        "investimentos = pd.concat([investimentos, data_compra_form], axis = 1) #concatenando\n",
        "\n",
        "\n",
        "data_venda_nova = []\n",
        "for data in investimentos['data_venda']:\n",
        "  data_nova = str(pd.to_datetime\n",
        "                  (data, dayfirst=True))[:10]\n",
        "  data_venda_nova.append(data_nova)\n",
        "\n",
        "data_venda_form = pd.DataFrame(data_venda_nova) #fazendo a lista criada no laço for virar um df\n",
        "data_venda_form.columns=['data_venda_nova'] #renomeando a coluna\n",
        "investimentos = pd.concat([investimentos, data_venda_form], axis = 1) #concatenando"
      ],
      "metadata": {
        "id": "azGNhIlJZi26"
      },
      "execution_count": null,
      "outputs": []
    },
    {
      "cell_type": "markdown",
      "source": [
        "### 2. Gráficos"
      ],
      "metadata": {
        "id": "vwU7Iao-XhqR"
      }
    },
    {
      "cell_type": "markdown",
      "source": [
        "####B3"
      ],
      "metadata": {
        "id": "jtFGvoO6aRUh"
      }
    },
    {
      "cell_type": "code",
      "source": [
        "# B3\n",
        "\n",
        "# lista de preços\n",
        "\n",
        "b3_compra = []\n",
        "for valor in list(investimentos.compra[investimentos.Cod == 'B3SA3F']):\n",
        "  valor = valor.replace(',', '.')\n",
        "  b3_compra.append(float(valor))\n",
        "\n",
        "b3_venda = []\n",
        "for valor in list(df_sem_nan.venda[df_sem_nan.Cod == 'B3SA3F']):\n",
        "  valor = valor.replace(',', '.')\n",
        "  b3_venda.append(float(valor))\n",
        "\n",
        "# lista de datas\n",
        "b3_data_compra = list(investimentos.data_compra_nova[investimentos.Cod == 'B3SA3F'])\n",
        "b3_data_venda = list(df_sem_nan.data_venda_nova[df_sem_nan.Cod == 'B3SA3F'])\n",
        "\n",
        "\n",
        "# gráfico\n",
        "\n",
        "fig_b3 = go.Figure()\n",
        "fig_b3.add_trace(go.Candlestick(name='B3SA3',x=df_b3.index, close=df_b3['Close'], open=df_b3['Open'], high=df_b3['High'], low=df_b3['Low']))\n",
        "fig_b3.update_xaxes(rangebreaks=[\n",
        "    dict(bounds=[\"sat\", \"mon\"]), # não mostrar finais de semana (usei mon igual a aula, mesmo achando que está errado, porque o resultado é melhor)\n",
        "    dict(values=[\"2022-06-16\",\"2022-07-09\"]) # não mostrar corpus christi e 9 de julho\n",
        "    ])\n",
        "fig_b3.add_trace(go.Scatter(name = 'compras', #nome do traço (pontos)\n",
        "                             mode='markers', # plota como pontos e não traço/linha\n",
        "                             marker_symbol = 0, # tipo do marcador\n",
        "                             marker_size= 10, # tamanho do marcador \n",
        "                             marker_line_color = '#1616A7', #contorno do marcador\n",
        "                             marker_line_width=1, # espessura do contorno\n",
        "                             x = b3_data_compra, \n",
        "                             y = b3_compra, \n",
        "                             marker_color= '#19D3F3')) # cor dos pontos\n",
        "fig_b3.add_trace(go.Scatter(name = 'vendas', #nome do traço (pontos)\n",
        "                             mode='markers', # plota como pontos e não traço/linha\n",
        "                             marker_symbol = 0, # tipo do marcador\n",
        "                             marker_size= 10, # tamanho do marcador \n",
        "                             marker_line_color = '#FF9900', #contorno do marcador\n",
        "                             marker_line_width=1,\n",
        "                             x = b3_data_venda,\n",
        "                             y = b3_venda, \n",
        "                             marker_color= 'yellow')) # cor dos pontos\n",
        "fig_b3.update_layout(xaxis_rangeslider_visible=False, title_text = 'B3')\n",
        "fig_b3.show()"
      ],
      "metadata": {
        "colab": {
          "base_uri": "https://localhost:8080/",
          "height": 542
        },
        "id": "V5eneHDFXjsS",
        "outputId": "c6410557-d18a-457c-b312-3bee8dbe57fc"
      },
      "execution_count": null,
      "outputs": [
        {
          "output_type": "display_data",
          "data": {
            "text/html": [
              "<html>\n",
              "<head><meta charset=\"utf-8\" /></head>\n",
              "<body>\n",
              "    <div>            <script src=\"https://cdnjs.cloudflare.com/ajax/libs/mathjax/2.7.5/MathJax.js?config=TeX-AMS-MML_SVG\"></script><script type=\"text/javascript\">if (window.MathJax) {MathJax.Hub.Config({SVG: {font: \"STIX-Web\"}});}</script>                <script type=\"text/javascript\">window.PlotlyConfig = {MathJaxConfig: 'local'};</script>\n",
              "        <script src=\"https://cdn.plot.ly/plotly-2.8.3.min.js\"></script>                <div id=\"ff36c9ff-de68-48d7-936d-124870164983\" class=\"plotly-graph-div\" style=\"height:525px; width:100%;\"></div>            <script type=\"text/javascript\">                                    window.PLOTLYENV=window.PLOTLYENV || {};                                    if (document.getElementById(\"ff36c9ff-de68-48d7-936d-124870164983\")) {                    Plotly.newPlot(                        \"ff36c9ff-de68-48d7-936d-124870164983\",                        [{\"close\":[12.5,12.890000343322754,12.670000076293945,12.279999732971191,11.890000343322754,11.789999961853027,11.949999809265137,11.65999984741211,11.539999961853027,11.489999771118164,11.609999656677246,11.449999809265137,11.550000190734863,11.489999771118164,11.649999618530273,11.579999923706055,11.600000381469727,11.600000381469727,11.270000457763672,10.949999809265137,10.960000038146973,11.1899995803833,11.079999923706055,11.270000457763672,11.109999656677246,11.359999656677246,11.4399995803833,10.770000457763672,10.539999961853027,10.279999732971191,10.279999732971191,10.029999732971191,10.270000457763672,10.210000038146973,10.539999961853027,11.010000228881836,10.720000267028809,10.729999542236328,10.729999542236328,10.880000114440918,11.260000228881836,11.09000015258789,10.869999885559082],\"high\":[12.829999923706055,12.989999771118164,12.920000076293945,12.789999961853027,12.25,12.050000190734863,12.15999984741211,11.9399995803833,11.680000305175781,11.619999885559082,11.800000190734863,11.489999771118164,11.619999885559082,11.770000457763672,11.670000076293945,11.899999618530273,11.819999694824219,11.760000228881836,11.819999694824219,11.300000190734863,11.079999923706055,11.3100004196167,11.350000381469727,11.34000015258789,11.430000305175781,11.420000076293945,11.529999732971191,11.220000267028809,10.819999694824219,10.609999656677246,10.359999656677246,10.329999923706055,10.4399995803833,10.5,10.59000015258789,11.069999694824219,11.180000305175781,10.789999961853027,10.850000381469727,10.930000305175781,11.369999885559082,11.359999656677246,11.119999885559082],\"low\":[12.489999771118164,12.59000015258789,12.59000015258789,12.220000267028809,11.8100004196167,11.739999771118164,11.760000228881836,11.649999618530273,11.3100004196167,11.380000114440918,11.449999809265137,11.170000076293945,11.289999961853027,11.399999618530273,11.350000381469727,11.550000190734863,11.539999961853027,11.510000228881836,11.180000305175781,10.890000343322754,10.619999885559082,10.729999542236328,11.020000457763672,10.9399995803833,10.90999984741211,11.15999984741211,11.319999694824219,10.6899995803833,10.420000076293945,10.229999542236328,9.710000038146973,9.979999542236328,10.020000457763672,10.130000114440918,10.140000343322754,10.510000228881836,10.619999885559082,10.489999771118164,10.649999618530273,10.619999885559082,10.739999771118164,11.050000190734863,10.710000038146973],\"name\":\"B3SA3\",\"open\":[12.770000457763672,12.59000015258789,12.850000381469727,12.770000457763672,12.170000076293945,11.800000190734863,11.779999732971191,11.800000190734863,11.489999771118164,11.529999732971191,11.710000038146973,11.399999618530273,11.460000038146973,11.600000381469727,11.479999542236328,11.630000114440918,11.739999771118164,11.680000305175781,11.640000343322754,11.279999732971191,10.630000114440918,10.75,11.109999656677246,11.0,11.229999542236328,11.289999961853027,11.390000343322754,11.210000038146973,10.819999694824219,10.420000076293945,10.069999694824219,10.210000038146973,10.09000015258789,10.270000457763672,10.1899995803833,10.5600004196167,11.079999923706055,10.789999961853027,10.720000267028809,10.869999885559082,10.75,11.359999656677246,11.020000457763672],\"x\":[\"2022-06-01T00:00:00\",\"2022-06-02T00:00:00\",\"2022-06-03T00:00:00\",\"2022-06-06T00:00:00\",\"2022-06-07T00:00:00\",\"2022-06-08T00:00:00\",\"2022-06-09T00:00:00\",\"2022-06-10T00:00:00\",\"2022-06-13T00:00:00\",\"2022-06-14T00:00:00\",\"2022-06-15T00:00:00\",\"2022-06-17T00:00:00\",\"2022-06-20T00:00:00\",\"2022-06-21T00:00:00\",\"2022-06-22T00:00:00\",\"2022-06-23T00:00:00\",\"2022-06-24T00:00:00\",\"2022-06-27T00:00:00\",\"2022-06-28T00:00:00\",\"2022-06-29T00:00:00\",\"2022-06-30T00:00:00\",\"2022-07-01T00:00:00\",\"2022-07-04T00:00:00\",\"2022-07-05T00:00:00\",\"2022-07-06T00:00:00\",\"2022-07-07T00:00:00\",\"2022-07-08T00:00:00\",\"2022-07-11T00:00:00\",\"2022-07-12T00:00:00\",\"2022-07-13T00:00:00\",\"2022-07-14T00:00:00\",\"2022-07-15T00:00:00\",\"2022-07-18T00:00:00\",\"2022-07-19T00:00:00\",\"2022-07-20T00:00:00\",\"2022-07-21T00:00:00\",\"2022-07-22T00:00:00\",\"2022-07-25T00:00:00\",\"2022-07-26T00:00:00\",\"2022-07-27T00:00:00\",\"2022-07-28T00:00:00\",\"2022-07-29T00:00:00\",\"2022-08-01T00:00:00\"],\"type\":\"candlestick\"},{\"marker\":{\"color\":\"#19D3F3\",\"line\":{\"color\":\"#1616A7\",\"width\":1},\"size\":10,\"symbol\":0},\"mode\":\"markers\",\"name\":\"compras\",\"x\":[\"2022-06-17\",\"2022-06-29\",\"2022-06-30\",\"2022-07-07\",\"2022-07-11\",\"2022-07-11\",\"2022-07-12\",\"2022-07-12\",\"2022-07-14\",\"2022-07-14\",\"2022-07-19\",\"2022-08-02\",\"2022-08-02\"],\"y\":[11.27,10.95,10.63,11.25,10.99,10.88,10.63,10.62,9.96,9.9,10.16,10.75,10.68],\"type\":\"scatter\"},{\"marker\":{\"color\":\"yellow\",\"line\":{\"color\":\"#FF9900\",\"width\":1},\"size\":10,\"symbol\":0},\"mode\":\"markers\",\"name\":\"vendas\",\"x\":[\"2022-07-04\",\"2022-07-04\",\"2022-07-05\",\"2022-08-03\",\"2022-08-01\",\"2022-08-01\",\"2022-07-21\",\"2022-07-18\",\"2022-08-01\"],\"y\":[11.3,11.26,11.15,11.11,10.87,10.85,11.01,10.4,10.82],\"type\":\"scatter\"}],                        {\"template\":{\"data\":{\"bar\":[{\"error_x\":{\"color\":\"#2a3f5f\"},\"error_y\":{\"color\":\"#2a3f5f\"},\"marker\":{\"line\":{\"color\":\"#E5ECF6\",\"width\":0.5},\"pattern\":{\"fillmode\":\"overlay\",\"size\":10,\"solidity\":0.2}},\"type\":\"bar\"}],\"barpolar\":[{\"marker\":{\"line\":{\"color\":\"#E5ECF6\",\"width\":0.5},\"pattern\":{\"fillmode\":\"overlay\",\"size\":10,\"solidity\":0.2}},\"type\":\"barpolar\"}],\"carpet\":[{\"aaxis\":{\"endlinecolor\":\"#2a3f5f\",\"gridcolor\":\"white\",\"linecolor\":\"white\",\"minorgridcolor\":\"white\",\"startlinecolor\":\"#2a3f5f\"},\"baxis\":{\"endlinecolor\":\"#2a3f5f\",\"gridcolor\":\"white\",\"linecolor\":\"white\",\"minorgridcolor\":\"white\",\"startlinecolor\":\"#2a3f5f\"},\"type\":\"carpet\"}],\"choropleth\":[{\"colorbar\":{\"outlinewidth\":0,\"ticks\":\"\"},\"type\":\"choropleth\"}],\"contour\":[{\"colorbar\":{\"outlinewidth\":0,\"ticks\":\"\"},\"colorscale\":[[0.0,\"#0d0887\"],[0.1111111111111111,\"#46039f\"],[0.2222222222222222,\"#7201a8\"],[0.3333333333333333,\"#9c179e\"],[0.4444444444444444,\"#bd3786\"],[0.5555555555555556,\"#d8576b\"],[0.6666666666666666,\"#ed7953\"],[0.7777777777777778,\"#fb9f3a\"],[0.8888888888888888,\"#fdca26\"],[1.0,\"#f0f921\"]],\"type\":\"contour\"}],\"contourcarpet\":[{\"colorbar\":{\"outlinewidth\":0,\"ticks\":\"\"},\"type\":\"contourcarpet\"}],\"heatmap\":[{\"colorbar\":{\"outlinewidth\":0,\"ticks\":\"\"},\"colorscale\":[[0.0,\"#0d0887\"],[0.1111111111111111,\"#46039f\"],[0.2222222222222222,\"#7201a8\"],[0.3333333333333333,\"#9c179e\"],[0.4444444444444444,\"#bd3786\"],[0.5555555555555556,\"#d8576b\"],[0.6666666666666666,\"#ed7953\"],[0.7777777777777778,\"#fb9f3a\"],[0.8888888888888888,\"#fdca26\"],[1.0,\"#f0f921\"]],\"type\":\"heatmap\"}],\"heatmapgl\":[{\"colorbar\":{\"outlinewidth\":0,\"ticks\":\"\"},\"colorscale\":[[0.0,\"#0d0887\"],[0.1111111111111111,\"#46039f\"],[0.2222222222222222,\"#7201a8\"],[0.3333333333333333,\"#9c179e\"],[0.4444444444444444,\"#bd3786\"],[0.5555555555555556,\"#d8576b\"],[0.6666666666666666,\"#ed7953\"],[0.7777777777777778,\"#fb9f3a\"],[0.8888888888888888,\"#fdca26\"],[1.0,\"#f0f921\"]],\"type\":\"heatmapgl\"}],\"histogram\":[{\"marker\":{\"pattern\":{\"fillmode\":\"overlay\",\"size\":10,\"solidity\":0.2}},\"type\":\"histogram\"}],\"histogram2d\":[{\"colorbar\":{\"outlinewidth\":0,\"ticks\":\"\"},\"colorscale\":[[0.0,\"#0d0887\"],[0.1111111111111111,\"#46039f\"],[0.2222222222222222,\"#7201a8\"],[0.3333333333333333,\"#9c179e\"],[0.4444444444444444,\"#bd3786\"],[0.5555555555555556,\"#d8576b\"],[0.6666666666666666,\"#ed7953\"],[0.7777777777777778,\"#fb9f3a\"],[0.8888888888888888,\"#fdca26\"],[1.0,\"#f0f921\"]],\"type\":\"histogram2d\"}],\"histogram2dcontour\":[{\"colorbar\":{\"outlinewidth\":0,\"ticks\":\"\"},\"colorscale\":[[0.0,\"#0d0887\"],[0.1111111111111111,\"#46039f\"],[0.2222222222222222,\"#7201a8\"],[0.3333333333333333,\"#9c179e\"],[0.4444444444444444,\"#bd3786\"],[0.5555555555555556,\"#d8576b\"],[0.6666666666666666,\"#ed7953\"],[0.7777777777777778,\"#fb9f3a\"],[0.8888888888888888,\"#fdca26\"],[1.0,\"#f0f921\"]],\"type\":\"histogram2dcontour\"}],\"mesh3d\":[{\"colorbar\":{\"outlinewidth\":0,\"ticks\":\"\"},\"type\":\"mesh3d\"}],\"parcoords\":[{\"line\":{\"colorbar\":{\"outlinewidth\":0,\"ticks\":\"\"}},\"type\":\"parcoords\"}],\"pie\":[{\"automargin\":true,\"type\":\"pie\"}],\"scatter\":[{\"marker\":{\"colorbar\":{\"outlinewidth\":0,\"ticks\":\"\"}},\"type\":\"scatter\"}],\"scatter3d\":[{\"line\":{\"colorbar\":{\"outlinewidth\":0,\"ticks\":\"\"}},\"marker\":{\"colorbar\":{\"outlinewidth\":0,\"ticks\":\"\"}},\"type\":\"scatter3d\"}],\"scattercarpet\":[{\"marker\":{\"colorbar\":{\"outlinewidth\":0,\"ticks\":\"\"}},\"type\":\"scattercarpet\"}],\"scattergeo\":[{\"marker\":{\"colorbar\":{\"outlinewidth\":0,\"ticks\":\"\"}},\"type\":\"scattergeo\"}],\"scattergl\":[{\"marker\":{\"colorbar\":{\"outlinewidth\":0,\"ticks\":\"\"}},\"type\":\"scattergl\"}],\"scattermapbox\":[{\"marker\":{\"colorbar\":{\"outlinewidth\":0,\"ticks\":\"\"}},\"type\":\"scattermapbox\"}],\"scatterpolar\":[{\"marker\":{\"colorbar\":{\"outlinewidth\":0,\"ticks\":\"\"}},\"type\":\"scatterpolar\"}],\"scatterpolargl\":[{\"marker\":{\"colorbar\":{\"outlinewidth\":0,\"ticks\":\"\"}},\"type\":\"scatterpolargl\"}],\"scatterternary\":[{\"marker\":{\"colorbar\":{\"outlinewidth\":0,\"ticks\":\"\"}},\"type\":\"scatterternary\"}],\"surface\":[{\"colorbar\":{\"outlinewidth\":0,\"ticks\":\"\"},\"colorscale\":[[0.0,\"#0d0887\"],[0.1111111111111111,\"#46039f\"],[0.2222222222222222,\"#7201a8\"],[0.3333333333333333,\"#9c179e\"],[0.4444444444444444,\"#bd3786\"],[0.5555555555555556,\"#d8576b\"],[0.6666666666666666,\"#ed7953\"],[0.7777777777777778,\"#fb9f3a\"],[0.8888888888888888,\"#fdca26\"],[1.0,\"#f0f921\"]],\"type\":\"surface\"}],\"table\":[{\"cells\":{\"fill\":{\"color\":\"#EBF0F8\"},\"line\":{\"color\":\"white\"}},\"header\":{\"fill\":{\"color\":\"#C8D4E3\"},\"line\":{\"color\":\"white\"}},\"type\":\"table\"}]},\"layout\":{\"annotationdefaults\":{\"arrowcolor\":\"#2a3f5f\",\"arrowhead\":0,\"arrowwidth\":1},\"autotypenumbers\":\"strict\",\"coloraxis\":{\"colorbar\":{\"outlinewidth\":0,\"ticks\":\"\"}},\"colorscale\":{\"diverging\":[[0,\"#8e0152\"],[0.1,\"#c51b7d\"],[0.2,\"#de77ae\"],[0.3,\"#f1b6da\"],[0.4,\"#fde0ef\"],[0.5,\"#f7f7f7\"],[0.6,\"#e6f5d0\"],[0.7,\"#b8e186\"],[0.8,\"#7fbc41\"],[0.9,\"#4d9221\"],[1,\"#276419\"]],\"sequential\":[[0.0,\"#0d0887\"],[0.1111111111111111,\"#46039f\"],[0.2222222222222222,\"#7201a8\"],[0.3333333333333333,\"#9c179e\"],[0.4444444444444444,\"#bd3786\"],[0.5555555555555556,\"#d8576b\"],[0.6666666666666666,\"#ed7953\"],[0.7777777777777778,\"#fb9f3a\"],[0.8888888888888888,\"#fdca26\"],[1.0,\"#f0f921\"]],\"sequentialminus\":[[0.0,\"#0d0887\"],[0.1111111111111111,\"#46039f\"],[0.2222222222222222,\"#7201a8\"],[0.3333333333333333,\"#9c179e\"],[0.4444444444444444,\"#bd3786\"],[0.5555555555555556,\"#d8576b\"],[0.6666666666666666,\"#ed7953\"],[0.7777777777777778,\"#fb9f3a\"],[0.8888888888888888,\"#fdca26\"],[1.0,\"#f0f921\"]]},\"colorway\":[\"#636efa\",\"#EF553B\",\"#00cc96\",\"#ab63fa\",\"#FFA15A\",\"#19d3f3\",\"#FF6692\",\"#B6E880\",\"#FF97FF\",\"#FECB52\"],\"font\":{\"color\":\"#2a3f5f\"},\"geo\":{\"bgcolor\":\"white\",\"lakecolor\":\"white\",\"landcolor\":\"#E5ECF6\",\"showlakes\":true,\"showland\":true,\"subunitcolor\":\"white\"},\"hoverlabel\":{\"align\":\"left\"},\"hovermode\":\"closest\",\"mapbox\":{\"style\":\"light\"},\"paper_bgcolor\":\"white\",\"plot_bgcolor\":\"#E5ECF6\",\"polar\":{\"angularaxis\":{\"gridcolor\":\"white\",\"linecolor\":\"white\",\"ticks\":\"\"},\"bgcolor\":\"#E5ECF6\",\"radialaxis\":{\"gridcolor\":\"white\",\"linecolor\":\"white\",\"ticks\":\"\"}},\"scene\":{\"xaxis\":{\"backgroundcolor\":\"#E5ECF6\",\"gridcolor\":\"white\",\"gridwidth\":2,\"linecolor\":\"white\",\"showbackground\":true,\"ticks\":\"\",\"zerolinecolor\":\"white\"},\"yaxis\":{\"backgroundcolor\":\"#E5ECF6\",\"gridcolor\":\"white\",\"gridwidth\":2,\"linecolor\":\"white\",\"showbackground\":true,\"ticks\":\"\",\"zerolinecolor\":\"white\"},\"zaxis\":{\"backgroundcolor\":\"#E5ECF6\",\"gridcolor\":\"white\",\"gridwidth\":2,\"linecolor\":\"white\",\"showbackground\":true,\"ticks\":\"\",\"zerolinecolor\":\"white\"}},\"shapedefaults\":{\"line\":{\"color\":\"#2a3f5f\"}},\"ternary\":{\"aaxis\":{\"gridcolor\":\"white\",\"linecolor\":\"white\",\"ticks\":\"\"},\"baxis\":{\"gridcolor\":\"white\",\"linecolor\":\"white\",\"ticks\":\"\"},\"bgcolor\":\"#E5ECF6\",\"caxis\":{\"gridcolor\":\"white\",\"linecolor\":\"white\",\"ticks\":\"\"}},\"title\":{\"x\":0.05},\"xaxis\":{\"automargin\":true,\"gridcolor\":\"white\",\"linecolor\":\"white\",\"ticks\":\"\",\"title\":{\"standoff\":15},\"zerolinecolor\":\"white\",\"zerolinewidth\":2},\"yaxis\":{\"automargin\":true,\"gridcolor\":\"white\",\"linecolor\":\"white\",\"ticks\":\"\",\"title\":{\"standoff\":15},\"zerolinecolor\":\"white\",\"zerolinewidth\":2}}},\"xaxis\":{\"rangebreaks\":[{\"bounds\":[\"sat\",\"mon\"]},{\"values\":[\"2022-06-16\",\"2022-07-09\"]}],\"rangeslider\":{\"visible\":false}},\"title\":{\"text\":\"B3\"}},                        {\"responsive\": true}                    ).then(function(){\n",
              "                            \n",
              "var gd = document.getElementById('ff36c9ff-de68-48d7-936d-124870164983');\n",
              "var x = new MutationObserver(function (mutations, observer) {{\n",
              "        var display = window.getComputedStyle(gd).display;\n",
              "        if (!display || display === 'none') {{\n",
              "            console.log([gd, 'removed!']);\n",
              "            Plotly.purge(gd);\n",
              "            observer.disconnect();\n",
              "        }}\n",
              "}});\n",
              "\n",
              "// Listen for the removal of the full notebook cells\n",
              "var notebookContainer = gd.closest('#notebook-container');\n",
              "if (notebookContainer) {{\n",
              "    x.observe(notebookContainer, {childList: true});\n",
              "}}\n",
              "\n",
              "// Listen for the clearing of the current output cell\n",
              "var outputEl = gd.closest('.output');\n",
              "if (outputEl) {{\n",
              "    x.observe(outputEl, {childList: true});\n",
              "}}\n",
              "\n",
              "                        })                };                            </script>        </div>\n",
              "</body>\n",
              "</html>"
            ]
          },
          "metadata": {}
        }
      ]
    },
    {
      "cell_type": "markdown",
      "source": [
        "####Bradesco"
      ],
      "metadata": {
        "id": "24-WZcUzaaLn"
      }
    },
    {
      "cell_type": "code",
      "source": [
        "# Bradesco\n",
        "\n",
        "# lista de preços\n",
        "\n",
        "bradesco_compra = []\n",
        "for valor in list(investimentos.compra[investimentos.Cod == 'BBDC3F']):\n",
        "  valor = valor.replace(',', '.')\n",
        "  bradesco_compra.append(float(valor))\n",
        "\n",
        "bradesco_venda = []\n",
        "for valor in list(df_sem_nan.venda[df_sem_nan.Cod == 'BBDC3F']):\n",
        "  valor = valor.replace(',', '.')\n",
        "  bradesco_venda.append(float(valor))\n",
        "\n",
        "# lista de datas\n",
        "bradesco_data_compra = list(investimentos.data_compra_nova[investimentos.Cod == 'BBDC3F'])\n",
        "bradesco_data_venda = list(df_sem_nan.data_venda_nova[df_sem_nan.Cod == 'BBDC3F'])\n",
        "\n",
        "\n",
        "# gráfico\n",
        "\n",
        "fig_bradesco = go.Figure()\n",
        "fig_bradesco.add_trace(go.Candlestick(name='BBDC3F',x=df_bradesco.index, close=df_bradesco['Close'], open=df_bradesco['Open'], high=df_bradesco['High'], low=df_bradesco['Low']))\n",
        "fig_bradesco.update_xaxes(rangebreaks=[\n",
        "    dict(bounds=[\"sat\", \"mon\"]), # não mostrar finais de semana (usei mon igual a aula, mesmo achando que está errado, porque o resultado é melhor)\n",
        "    dict(values=[\"2022-06-16\",\"2022-07-09\"]) # não mostrar corpus christi e 9 de julho\n",
        "    ])\n",
        "fig_bradesco.add_trace(go.Scatter(name = 'compras', #nome do traço (pontos)\n",
        "                             mode='markers', # plota como pontos e não traço/linha\n",
        "                             marker_symbol = 0, # tipo do marcador\n",
        "                             marker_size= 10, # tamanho do marcador \n",
        "                             marker_line_color = '#1616A7', #contorno do marcador\n",
        "                             marker_line_width=1, # espessura do contorno\n",
        "                             x = bradesco_data_compra, \n",
        "                             y = bradesco_compra, \n",
        "                             marker_color= '#19D3F3')) # cor dos pontos\n",
        "fig_bradesco.add_trace(go.Scatter(name = 'vendas', #nome do traço (pontos)\n",
        "                             mode='markers', # plota como pontos e não traço/linha\n",
        "                             marker_symbol = 0, # tipo do marcador\n",
        "                             marker_size= 10, # tamanho do marcador \n",
        "                             marker_line_color = '#FF9900', #contorno do marcador\n",
        "                             marker_line_width=1,\n",
        "                             x = bradesco_data_venda,\n",
        "                             y = bradesco_venda, \n",
        "                             marker_color= 'yellow')) # cor dos pontos\n",
        "fig_bradesco.update_layout(xaxis_rangeslider_visible=False, title_text = 'Bradesco')\n",
        "fig_bradesco.show()"
      ],
      "metadata": {
        "colab": {
          "base_uri": "https://localhost:8080/",
          "height": 542
        },
        "id": "MtHDWXFVaiQ0",
        "outputId": "632f65a8-831a-4ca8-b3a1-63b71fd003a8"
      },
      "execution_count": null,
      "outputs": [
        {
          "output_type": "display_data",
          "data": {
            "text/html": [
              "<html>\n",
              "<head><meta charset=\"utf-8\" /></head>\n",
              "<body>\n",
              "    <div>            <script src=\"https://cdnjs.cloudflare.com/ajax/libs/mathjax/2.7.5/MathJax.js?config=TeX-AMS-MML_SVG\"></script><script type=\"text/javascript\">if (window.MathJax) {MathJax.Hub.Config({SVG: {font: \"STIX-Web\"}});}</script>                <script type=\"text/javascript\">window.PlotlyConfig = {MathJaxConfig: 'local'};</script>\n",
              "        <script src=\"https://cdn.plot.ly/plotly-2.8.3.min.js\"></script>                <div id=\"42e6417f-5a96-4883-b2d1-a34bcef0d2ec\" class=\"plotly-graph-div\" style=\"height:525px; width:100%;\"></div>            <script type=\"text/javascript\">                                    window.PLOTLYENV=window.PLOTLYENV || {};                                    if (document.getElementById(\"42e6417f-5a96-4883-b2d1-a34bcef0d2ec\")) {                    Plotly.newPlot(                        \"42e6417f-5a96-4883-b2d1-a34bcef0d2ec\",                        [{\"close\":[16.600000381469727,16.600000381469727,16.5,16.420000076293945,16.280000686645508,16.100000381469727,16.1200008392334,15.90999984741211,15.65999984741211,15.539999961853027,15.649999618530273,15.399999618530273,15.710000038146973,15.420000076293945,15.34000015258789,14.970000267028809,14.949999809265137,15.079999923706055,14.9399995803833,14.720000267028809,14.380000114440918,14.40999984741211,14.239999771118164,14.289999961853027,14.239999771118164,14.420000076293945,14.470000267028809,14.25,14.210000038146973,13.9399995803833,13.630000114440918,13.75,13.859999656677246,14.329999923706055,14.100000381469727,14.270000457763672,14.15999984741211,14.3100004196167,14.279999732971191,14.359999656677246,14.420000076293945,14.470000267028809,14.4399995803833],\"high\":[16.850000381469727,16.770000457763672,16.610000610351562,16.6200008392334,16.399999618530273,16.290000915527344,16.290000915527344,16.010000228881836,15.829999923706055,15.800000190734863,15.819999694824219,15.5600004196167,15.890000343322754,15.729999542236328,15.489999771118164,15.420000076293945,15.140000343322754,15.149999618530273,15.3100004196167,15.029999732971191,14.579999923706055,14.520000457763672,14.390000343322754,14.329999923706055,14.369999885559082,14.510000228881836,14.59000015258789,14.4399995803833,14.380000114440918,14.229999542236328,13.8100004196167,13.859999656677246,14.020000457763672,14.34000015258789,14.350000381469727,14.3100004196167,14.319999694824219,14.430000305175781,14.470000267028809,14.390000343322754,14.4399995803833,14.670000076293945,14.569999694824219],\"low\":[16.600000381469727,16.360000610351562,16.420000076293945,16.3700008392334,16.209999084472656,16.020000457763672,15.949999809265137,15.739999771118164,15.550000190734863,15.40999984741211,15.5,15.170000076293945,15.40999984741211,15.350000381469727,15.25,14.960000038146973,14.859999656677246,14.869999885559082,14.829999923706055,14.65999984741211,14.300000190734863,14.100000381469727,14.229999542236328,14.039999961853027,14.119999885559082,14.300000190734863,14.34000015258789,14.15999984741211,14.029999732971191,13.920000076293945,13.529999732971191,13.550000190734863,13.720000267028809,13.859999656677246,14.039999961853027,13.970000267028809,14.079999923706055,14.210000038146973,14.199999809265137,14.239999771118164,14.109999656677246,14.34000015258789,14.329999923706055],\"name\":\"BBDC3F\",\"open\":[16.75,16.770000457763672,16.59000015258789,16.5,16.34000015258789,16.1200008392334,16.1200008392334,15.949999809265137,15.75,15.640000343322754,15.710000038146973,15.4399995803833,15.40999984741211,15.609999656677246,15.420000076293945,15.369999885559082,15.140000343322754,14.960000038146973,15.180000305175781,15.020000457763672,14.569999694824219,14.319999694824219,14.390000343322754,14.130000114440918,14.279999732971191,14.359999656677246,14.479999542236328,14.369999885559082,14.260000228881836,14.130000114440918,13.8100004196167,13.729999542236328,13.829999923706055,13.899999618530273,14.260000228881836,14.029999732971191,14.319999694824219,14.25,14.350000381469727,14.3100004196167,14.319999694824219,14.399999618530273,14.470000267028809],\"x\":[\"2022-06-01T00:00:00\",\"2022-06-02T00:00:00\",\"2022-06-03T00:00:00\",\"2022-06-06T00:00:00\",\"2022-06-07T00:00:00\",\"2022-06-08T00:00:00\",\"2022-06-09T00:00:00\",\"2022-06-10T00:00:00\",\"2022-06-13T00:00:00\",\"2022-06-14T00:00:00\",\"2022-06-15T00:00:00\",\"2022-06-17T00:00:00\",\"2022-06-20T00:00:00\",\"2022-06-21T00:00:00\",\"2022-06-22T00:00:00\",\"2022-06-23T00:00:00\",\"2022-06-24T00:00:00\",\"2022-06-27T00:00:00\",\"2022-06-28T00:00:00\",\"2022-06-29T00:00:00\",\"2022-06-30T00:00:00\",\"2022-07-01T00:00:00\",\"2022-07-04T00:00:00\",\"2022-07-05T00:00:00\",\"2022-07-06T00:00:00\",\"2022-07-07T00:00:00\",\"2022-07-08T00:00:00\",\"2022-07-11T00:00:00\",\"2022-07-12T00:00:00\",\"2022-07-13T00:00:00\",\"2022-07-14T00:00:00\",\"2022-07-15T00:00:00\",\"2022-07-18T00:00:00\",\"2022-07-19T00:00:00\",\"2022-07-20T00:00:00\",\"2022-07-21T00:00:00\",\"2022-07-22T00:00:00\",\"2022-07-25T00:00:00\",\"2022-07-26T00:00:00\",\"2022-07-27T00:00:00\",\"2022-07-28T00:00:00\",\"2022-07-29T00:00:00\",\"2022-08-01T00:00:00\"],\"type\":\"candlestick\"},{\"marker\":{\"color\":\"#19D3F3\",\"line\":{\"color\":\"#1616A7\",\"width\":1},\"size\":10,\"symbol\":0},\"mode\":\"markers\",\"name\":\"compras\",\"x\":[\"2022-06-30\",\"2022-06-30\",\"2022-07-05\",\"2022-07-07\",\"2022-07-11\",\"2022-07-14\",\"2022-07-14\",\"2022-07-21\",\"2022-07-22\"],\"y\":[14.4,14.37,14.16,14.34,14.32,13.62,13.6,14.27,14.2],\"type\":\"scatter\"},{\"marker\":{\"color\":\"yellow\",\"line\":{\"color\":\"#FF9900\",\"width\":1},\"size\":10,\"symbol\":0},\"mode\":\"markers\",\"name\":\"vendas\",\"x\":[\"2022-08-02\",\"2022-08-02\",\"2022-07-06\",\"2022-08-02\",\"2022-08-01\",\"2022-07-19\",\"2022-07-19\",\"2022-08-01\",\"2022-08-01\"],\"y\":[14.69,14.62,14.29,14.49,14.45,14.27,14.27,14.42,14.43],\"type\":\"scatter\"}],                        {\"template\":{\"data\":{\"bar\":[{\"error_x\":{\"color\":\"#2a3f5f\"},\"error_y\":{\"color\":\"#2a3f5f\"},\"marker\":{\"line\":{\"color\":\"#E5ECF6\",\"width\":0.5},\"pattern\":{\"fillmode\":\"overlay\",\"size\":10,\"solidity\":0.2}},\"type\":\"bar\"}],\"barpolar\":[{\"marker\":{\"line\":{\"color\":\"#E5ECF6\",\"width\":0.5},\"pattern\":{\"fillmode\":\"overlay\",\"size\":10,\"solidity\":0.2}},\"type\":\"barpolar\"}],\"carpet\":[{\"aaxis\":{\"endlinecolor\":\"#2a3f5f\",\"gridcolor\":\"white\",\"linecolor\":\"white\",\"minorgridcolor\":\"white\",\"startlinecolor\":\"#2a3f5f\"},\"baxis\":{\"endlinecolor\":\"#2a3f5f\",\"gridcolor\":\"white\",\"linecolor\":\"white\",\"minorgridcolor\":\"white\",\"startlinecolor\":\"#2a3f5f\"},\"type\":\"carpet\"}],\"choropleth\":[{\"colorbar\":{\"outlinewidth\":0,\"ticks\":\"\"},\"type\":\"choropleth\"}],\"contour\":[{\"colorbar\":{\"outlinewidth\":0,\"ticks\":\"\"},\"colorscale\":[[0.0,\"#0d0887\"],[0.1111111111111111,\"#46039f\"],[0.2222222222222222,\"#7201a8\"],[0.3333333333333333,\"#9c179e\"],[0.4444444444444444,\"#bd3786\"],[0.5555555555555556,\"#d8576b\"],[0.6666666666666666,\"#ed7953\"],[0.7777777777777778,\"#fb9f3a\"],[0.8888888888888888,\"#fdca26\"],[1.0,\"#f0f921\"]],\"type\":\"contour\"}],\"contourcarpet\":[{\"colorbar\":{\"outlinewidth\":0,\"ticks\":\"\"},\"type\":\"contourcarpet\"}],\"heatmap\":[{\"colorbar\":{\"outlinewidth\":0,\"ticks\":\"\"},\"colorscale\":[[0.0,\"#0d0887\"],[0.1111111111111111,\"#46039f\"],[0.2222222222222222,\"#7201a8\"],[0.3333333333333333,\"#9c179e\"],[0.4444444444444444,\"#bd3786\"],[0.5555555555555556,\"#d8576b\"],[0.6666666666666666,\"#ed7953\"],[0.7777777777777778,\"#fb9f3a\"],[0.8888888888888888,\"#fdca26\"],[1.0,\"#f0f921\"]],\"type\":\"heatmap\"}],\"heatmapgl\":[{\"colorbar\":{\"outlinewidth\":0,\"ticks\":\"\"},\"colorscale\":[[0.0,\"#0d0887\"],[0.1111111111111111,\"#46039f\"],[0.2222222222222222,\"#7201a8\"],[0.3333333333333333,\"#9c179e\"],[0.4444444444444444,\"#bd3786\"],[0.5555555555555556,\"#d8576b\"],[0.6666666666666666,\"#ed7953\"],[0.7777777777777778,\"#fb9f3a\"],[0.8888888888888888,\"#fdca26\"],[1.0,\"#f0f921\"]],\"type\":\"heatmapgl\"}],\"histogram\":[{\"marker\":{\"pattern\":{\"fillmode\":\"overlay\",\"size\":10,\"solidity\":0.2}},\"type\":\"histogram\"}],\"histogram2d\":[{\"colorbar\":{\"outlinewidth\":0,\"ticks\":\"\"},\"colorscale\":[[0.0,\"#0d0887\"],[0.1111111111111111,\"#46039f\"],[0.2222222222222222,\"#7201a8\"],[0.3333333333333333,\"#9c179e\"],[0.4444444444444444,\"#bd3786\"],[0.5555555555555556,\"#d8576b\"],[0.6666666666666666,\"#ed7953\"],[0.7777777777777778,\"#fb9f3a\"],[0.8888888888888888,\"#fdca26\"],[1.0,\"#f0f921\"]],\"type\":\"histogram2d\"}],\"histogram2dcontour\":[{\"colorbar\":{\"outlinewidth\":0,\"ticks\":\"\"},\"colorscale\":[[0.0,\"#0d0887\"],[0.1111111111111111,\"#46039f\"],[0.2222222222222222,\"#7201a8\"],[0.3333333333333333,\"#9c179e\"],[0.4444444444444444,\"#bd3786\"],[0.5555555555555556,\"#d8576b\"],[0.6666666666666666,\"#ed7953\"],[0.7777777777777778,\"#fb9f3a\"],[0.8888888888888888,\"#fdca26\"],[1.0,\"#f0f921\"]],\"type\":\"histogram2dcontour\"}],\"mesh3d\":[{\"colorbar\":{\"outlinewidth\":0,\"ticks\":\"\"},\"type\":\"mesh3d\"}],\"parcoords\":[{\"line\":{\"colorbar\":{\"outlinewidth\":0,\"ticks\":\"\"}},\"type\":\"parcoords\"}],\"pie\":[{\"automargin\":true,\"type\":\"pie\"}],\"scatter\":[{\"marker\":{\"colorbar\":{\"outlinewidth\":0,\"ticks\":\"\"}},\"type\":\"scatter\"}],\"scatter3d\":[{\"line\":{\"colorbar\":{\"outlinewidth\":0,\"ticks\":\"\"}},\"marker\":{\"colorbar\":{\"outlinewidth\":0,\"ticks\":\"\"}},\"type\":\"scatter3d\"}],\"scattercarpet\":[{\"marker\":{\"colorbar\":{\"outlinewidth\":0,\"ticks\":\"\"}},\"type\":\"scattercarpet\"}],\"scattergeo\":[{\"marker\":{\"colorbar\":{\"outlinewidth\":0,\"ticks\":\"\"}},\"type\":\"scattergeo\"}],\"scattergl\":[{\"marker\":{\"colorbar\":{\"outlinewidth\":0,\"ticks\":\"\"}},\"type\":\"scattergl\"}],\"scattermapbox\":[{\"marker\":{\"colorbar\":{\"outlinewidth\":0,\"ticks\":\"\"}},\"type\":\"scattermapbox\"}],\"scatterpolar\":[{\"marker\":{\"colorbar\":{\"outlinewidth\":0,\"ticks\":\"\"}},\"type\":\"scatterpolar\"}],\"scatterpolargl\":[{\"marker\":{\"colorbar\":{\"outlinewidth\":0,\"ticks\":\"\"}},\"type\":\"scatterpolargl\"}],\"scatterternary\":[{\"marker\":{\"colorbar\":{\"outlinewidth\":0,\"ticks\":\"\"}},\"type\":\"scatterternary\"}],\"surface\":[{\"colorbar\":{\"outlinewidth\":0,\"ticks\":\"\"},\"colorscale\":[[0.0,\"#0d0887\"],[0.1111111111111111,\"#46039f\"],[0.2222222222222222,\"#7201a8\"],[0.3333333333333333,\"#9c179e\"],[0.4444444444444444,\"#bd3786\"],[0.5555555555555556,\"#d8576b\"],[0.6666666666666666,\"#ed7953\"],[0.7777777777777778,\"#fb9f3a\"],[0.8888888888888888,\"#fdca26\"],[1.0,\"#f0f921\"]],\"type\":\"surface\"}],\"table\":[{\"cells\":{\"fill\":{\"color\":\"#EBF0F8\"},\"line\":{\"color\":\"white\"}},\"header\":{\"fill\":{\"color\":\"#C8D4E3\"},\"line\":{\"color\":\"white\"}},\"type\":\"table\"}]},\"layout\":{\"annotationdefaults\":{\"arrowcolor\":\"#2a3f5f\",\"arrowhead\":0,\"arrowwidth\":1},\"autotypenumbers\":\"strict\",\"coloraxis\":{\"colorbar\":{\"outlinewidth\":0,\"ticks\":\"\"}},\"colorscale\":{\"diverging\":[[0,\"#8e0152\"],[0.1,\"#c51b7d\"],[0.2,\"#de77ae\"],[0.3,\"#f1b6da\"],[0.4,\"#fde0ef\"],[0.5,\"#f7f7f7\"],[0.6,\"#e6f5d0\"],[0.7,\"#b8e186\"],[0.8,\"#7fbc41\"],[0.9,\"#4d9221\"],[1,\"#276419\"]],\"sequential\":[[0.0,\"#0d0887\"],[0.1111111111111111,\"#46039f\"],[0.2222222222222222,\"#7201a8\"],[0.3333333333333333,\"#9c179e\"],[0.4444444444444444,\"#bd3786\"],[0.5555555555555556,\"#d8576b\"],[0.6666666666666666,\"#ed7953\"],[0.7777777777777778,\"#fb9f3a\"],[0.8888888888888888,\"#fdca26\"],[1.0,\"#f0f921\"]],\"sequentialminus\":[[0.0,\"#0d0887\"],[0.1111111111111111,\"#46039f\"],[0.2222222222222222,\"#7201a8\"],[0.3333333333333333,\"#9c179e\"],[0.4444444444444444,\"#bd3786\"],[0.5555555555555556,\"#d8576b\"],[0.6666666666666666,\"#ed7953\"],[0.7777777777777778,\"#fb9f3a\"],[0.8888888888888888,\"#fdca26\"],[1.0,\"#f0f921\"]]},\"colorway\":[\"#636efa\",\"#EF553B\",\"#00cc96\",\"#ab63fa\",\"#FFA15A\",\"#19d3f3\",\"#FF6692\",\"#B6E880\",\"#FF97FF\",\"#FECB52\"],\"font\":{\"color\":\"#2a3f5f\"},\"geo\":{\"bgcolor\":\"white\",\"lakecolor\":\"white\",\"landcolor\":\"#E5ECF6\",\"showlakes\":true,\"showland\":true,\"subunitcolor\":\"white\"},\"hoverlabel\":{\"align\":\"left\"},\"hovermode\":\"closest\",\"mapbox\":{\"style\":\"light\"},\"paper_bgcolor\":\"white\",\"plot_bgcolor\":\"#E5ECF6\",\"polar\":{\"angularaxis\":{\"gridcolor\":\"white\",\"linecolor\":\"white\",\"ticks\":\"\"},\"bgcolor\":\"#E5ECF6\",\"radialaxis\":{\"gridcolor\":\"white\",\"linecolor\":\"white\",\"ticks\":\"\"}},\"scene\":{\"xaxis\":{\"backgroundcolor\":\"#E5ECF6\",\"gridcolor\":\"white\",\"gridwidth\":2,\"linecolor\":\"white\",\"showbackground\":true,\"ticks\":\"\",\"zerolinecolor\":\"white\"},\"yaxis\":{\"backgroundcolor\":\"#E5ECF6\",\"gridcolor\":\"white\",\"gridwidth\":2,\"linecolor\":\"white\",\"showbackground\":true,\"ticks\":\"\",\"zerolinecolor\":\"white\"},\"zaxis\":{\"backgroundcolor\":\"#E5ECF6\",\"gridcolor\":\"white\",\"gridwidth\":2,\"linecolor\":\"white\",\"showbackground\":true,\"ticks\":\"\",\"zerolinecolor\":\"white\"}},\"shapedefaults\":{\"line\":{\"color\":\"#2a3f5f\"}},\"ternary\":{\"aaxis\":{\"gridcolor\":\"white\",\"linecolor\":\"white\",\"ticks\":\"\"},\"baxis\":{\"gridcolor\":\"white\",\"linecolor\":\"white\",\"ticks\":\"\"},\"bgcolor\":\"#E5ECF6\",\"caxis\":{\"gridcolor\":\"white\",\"linecolor\":\"white\",\"ticks\":\"\"}},\"title\":{\"x\":0.05},\"xaxis\":{\"automargin\":true,\"gridcolor\":\"white\",\"linecolor\":\"white\",\"ticks\":\"\",\"title\":{\"standoff\":15},\"zerolinecolor\":\"white\",\"zerolinewidth\":2},\"yaxis\":{\"automargin\":true,\"gridcolor\":\"white\",\"linecolor\":\"white\",\"ticks\":\"\",\"title\":{\"standoff\":15},\"zerolinecolor\":\"white\",\"zerolinewidth\":2}}},\"xaxis\":{\"rangebreaks\":[{\"bounds\":[\"sat\",\"mon\"]},{\"values\":[\"2022-06-16\",\"2022-07-09\"]}],\"rangeslider\":{\"visible\":false}},\"title\":{\"text\":\"Bradesco\"}},                        {\"responsive\": true}                    ).then(function(){\n",
              "                            \n",
              "var gd = document.getElementById('42e6417f-5a96-4883-b2d1-a34bcef0d2ec');\n",
              "var x = new MutationObserver(function (mutations, observer) {{\n",
              "        var display = window.getComputedStyle(gd).display;\n",
              "        if (!display || display === 'none') {{\n",
              "            console.log([gd, 'removed!']);\n",
              "            Plotly.purge(gd);\n",
              "            observer.disconnect();\n",
              "        }}\n",
              "}});\n",
              "\n",
              "// Listen for the removal of the full notebook cells\n",
              "var notebookContainer = gd.closest('#notebook-container');\n",
              "if (notebookContainer) {{\n",
              "    x.observe(notebookContainer, {childList: true});\n",
              "}}\n",
              "\n",
              "// Listen for the clearing of the current output cell\n",
              "var outputEl = gd.closest('.output');\n",
              "if (outputEl) {{\n",
              "    x.observe(outputEl, {childList: true});\n",
              "}}\n",
              "\n",
              "                        })                };                            </script>        </div>\n",
              "</body>\n",
              "</html>"
            ]
          },
          "metadata": {}
        }
      ]
    },
    {
      "cell_type": "markdown",
      "source": [
        "####Copel"
      ],
      "metadata": {
        "id": "_Vnv71HNsDCO"
      }
    },
    {
      "cell_type": "code",
      "source": [
        "# Copel\n",
        "\n",
        "# lista de preços\n",
        "\n",
        "copel_compra = []\n",
        "for valor in list(investimentos.compra[investimentos.Cod == 'CPLE6F']):\n",
        "  valor = valor.replace(',', '.')\n",
        "  copel_compra.append(float(valor))\n",
        "\n",
        "copel_venda = []\n",
        "for valor in list(df_sem_nan.venda[df_sem_nan.Cod == 'CPLE6F']):\n",
        "  valor = valor.replace(',', '.')\n",
        "  copel_venda.append(float(valor))\n",
        "\n",
        "# lista de datas\n",
        "copel_data_compra = list(investimentos.data_compra_nova[investimentos.Cod == 'CPLE6F'])\n",
        "copel_data_venda = list(df_sem_nan.data_venda_nova[df_sem_nan.Cod == 'CPLE6F'])\n",
        "\n",
        "\n",
        "# gráfico\n",
        "\n",
        "fig_copel = go.Figure()\n",
        "fig_copel.add_trace(go.Candlestick(name='CPLE6F',x=df_copel.index, close=df_copel['Close'], open=df_copel['Open'], high=df_copel['High'], low=df_copel['Low']))\n",
        "fig_copel.update_xaxes(rangebreaks=[\n",
        "    dict(bounds=[\"sat\", \"mon\"]), # não mostrar finais de semana (usei mon igual a aula, mesmo achando que está errado, porque o resultado é melhor)\n",
        "    dict(values=[\"2022-06-16\",\"2022-07-09\"]) # não mostrar corpus christi e 9 de julho\n",
        "    ])\n",
        "fig_copel.add_trace(go.Scatter(name = 'compras', #nome do traço (pontos)\n",
        "                             mode='markers', # plota como pontos e não traço/linha\n",
        "                             marker_symbol = 0, # tipo do marcador\n",
        "                             marker_size= 10, # tamanho do marcador \n",
        "                             marker_line_color = '#1616A7', #contorno do marcador\n",
        "                             marker_line_width=1, # espessura do contorno\n",
        "                             x = copel_data_compra, \n",
        "                             y = copel_compra, \n",
        "                             marker_color= '#19D3F3')) # cor dos pontos\n",
        "fig_copel.add_trace(go.Scatter(name = 'vendas', #nome do traço (pontos)\n",
        "                             mode='markers', # plota como pontos e não traço/linha\n",
        "                             marker_symbol = 0, # tipo do marcador\n",
        "                             marker_size= 10, # tamanho do marcador \n",
        "                             marker_line_color = '#FF9900', #contorno do marcador\n",
        "                             marker_line_width=1,\n",
        "                             x = copel_data_venda,\n",
        "                             y = copel_venda, \n",
        "                             marker_color= 'yellow')) # cor dos pontos\n",
        "fig_copel.update_layout(xaxis_rangeslider_visible=False, title_text = 'Copel')\n",
        "fig_copel.show()"
      ],
      "metadata": {
        "colab": {
          "base_uri": "https://localhost:8080/",
          "height": 542
        },
        "id": "IupVQn5YhkDa",
        "outputId": "66f08505-6970-4ae1-f05c-6c24f6eb6256"
      },
      "execution_count": null,
      "outputs": [
        {
          "output_type": "display_data",
          "data": {
            "text/html": [
              "<html>\n",
              "<head><meta charset=\"utf-8\" /></head>\n",
              "<body>\n",
              "    <div>            <script src=\"https://cdnjs.cloudflare.com/ajax/libs/mathjax/2.7.5/MathJax.js?config=TeX-AMS-MML_SVG\"></script><script type=\"text/javascript\">if (window.MathJax) {MathJax.Hub.Config({SVG: {font: \"STIX-Web\"}});}</script>                <script type=\"text/javascript\">window.PlotlyConfig = {MathJaxConfig: 'local'};</script>\n",
              "        <script src=\"https://cdn.plot.ly/plotly-2.8.3.min.js\"></script>                <div id=\"bc072b4a-439b-4d9c-90f2-bd14de2ea6d4\" class=\"plotly-graph-div\" style=\"height:525px; width:100%;\"></div>            <script type=\"text/javascript\">                                    window.PLOTLYENV=window.PLOTLYENV || {};                                    if (document.getElementById(\"bc072b4a-439b-4d9c-90f2-bd14de2ea6d4\")) {                    Plotly.newPlot(                        \"bc072b4a-439b-4d9c-90f2-bd14de2ea6d4\",                        [{\"close\":[7.329999923706055,7.409999847412109,7.269999980926514,7.210000038146973,7.099999904632568,7.059999942779541,7.050000190734863,6.949999809265137,6.889999866485596,6.900000095367432,7.019999980926514,7.0,7.010000228881836,6.880000114440918,7.03000020980835,6.880000114440918,6.929999828338623,7.039999961853027,6.989999771118164,6.849999904632568,6.829999923706055,6.980000019073486,6.869999885559082,6.800000190734863,6.769999980926514,6.789999961853027,6.849999904632568,6.840000152587891,6.900000095367432,6.800000190734863,6.820000171661377,6.920000076293945,6.820000171661377,6.829999923706055,6.849999904632568,6.849999904632568,6.900000095367432,7.010000228881836,6.849999904632568,6.880000114440918,6.940000057220459,6.989999771118164,6.889999866485596],\"high\":[7.380000114440918,7.46999979019165,7.449999809265137,7.320000171661377,7.239999771118164,7.139999866485596,7.179999828338623,7.03000020980835,6.96999979019165,7.019999980926514,7.079999923706055,7.0,7.059999942779541,7.079999923706055,7.059999942779541,7.079999923706055,6.96999979019165,7.130000114440918,7.130000114440918,7.050000190734863,6.920000076293945,7.070000171661377,6.989999771118164,6.880000114440918,6.800000190734863,6.849999904632568,6.920000076293945,6.909999847412109,6.960000038146973,6.929999828338623,6.849999904632568,6.949999809265137,6.989999771118164,6.880000114440918,6.909999847412109,6.900000095367432,6.940000057220459,7.03000020980835,7.079999923706055,6.929999828338623,6.980000019073486,7.03000020980835,7.0],\"low\":[7.260000228881836,7.300000190734863,7.269999980926514,7.159999847412109,7.059999942779541,7.03000020980835,7.010000228881836,6.900000095367432,6.809999942779541,6.829999923706055,6.929999828338623,6.869999885559082,6.920000076293945,6.880000114440918,6.869999885559082,6.869999885559082,6.809999942779541,6.869999885559082,6.920000076293945,6.820000171661377,6.71999979019165,6.800000190734863,6.860000133514404,6.710000038146973,6.690000057220459,6.760000228881836,6.800000190734863,6.78000020980835,6.840000152587891,6.800000190734863,6.730000019073486,6.760000228881836,6.800000190734863,6.809999942779541,6.789999961853027,6.760000228881836,6.809999942779541,6.929999828338623,6.800000190734863,6.800000190734863,6.869999885559082,6.849999904632568,6.809999942779541],\"name\":\"CPLE6F\",\"open\":[7.369999885559082,7.389999866485596,7.429999828338623,7.289999961853027,7.21999979019165,7.079999923706055,7.059999942779541,7.010000228881836,6.860000133514404,6.920000076293945,6.949999809265137,6.940000057220459,7.010000228881836,7.050000190734863,6.900000095367432,7.070000171661377,6.920000076293945,6.940000057220459,7.090000152587891,7.019999980926514,6.800000190734863,6.829999923706055,6.980000019073486,6.849999904632568,6.769999980926514,6.800000190734863,6.820000171661377,6.820000171661377,6.869999885559082,6.869999885559082,6.769999980926514,6.829999923706055,6.940000057220459,6.860000133514404,6.809999942779541,6.840000152587891,6.869999885559082,6.929999828338623,7.039999961853027,6.880000114440918,6.889999866485596,6.929999828338623,7.0],\"x\":[\"2022-06-01T00:00:00\",\"2022-06-02T00:00:00\",\"2022-06-03T00:00:00\",\"2022-06-06T00:00:00\",\"2022-06-07T00:00:00\",\"2022-06-08T00:00:00\",\"2022-06-09T00:00:00\",\"2022-06-10T00:00:00\",\"2022-06-13T00:00:00\",\"2022-06-14T00:00:00\",\"2022-06-15T00:00:00\",\"2022-06-17T00:00:00\",\"2022-06-20T00:00:00\",\"2022-06-21T00:00:00\",\"2022-06-22T00:00:00\",\"2022-06-23T00:00:00\",\"2022-06-24T00:00:00\",\"2022-06-27T00:00:00\",\"2022-06-28T00:00:00\",\"2022-06-29T00:00:00\",\"2022-06-30T00:00:00\",\"2022-07-01T00:00:00\",\"2022-07-04T00:00:00\",\"2022-07-05T00:00:00\",\"2022-07-06T00:00:00\",\"2022-07-07T00:00:00\",\"2022-07-08T00:00:00\",\"2022-07-11T00:00:00\",\"2022-07-12T00:00:00\",\"2022-07-13T00:00:00\",\"2022-07-14T00:00:00\",\"2022-07-15T00:00:00\",\"2022-07-18T00:00:00\",\"2022-07-19T00:00:00\",\"2022-07-20T00:00:00\",\"2022-07-21T00:00:00\",\"2022-07-22T00:00:00\",\"2022-07-25T00:00:00\",\"2022-07-26T00:00:00\",\"2022-07-27T00:00:00\",\"2022-07-28T00:00:00\",\"2022-07-29T00:00:00\",\"2022-08-01T00:00:00\"],\"type\":\"candlestick\"},{\"marker\":{\"color\":\"#19D3F3\",\"line\":{\"color\":\"#1616A7\",\"width\":1},\"size\":10,\"symbol\":0},\"mode\":\"markers\",\"name\":\"compras\",\"x\":[\"2022-06-15\",\"2022-06-24\",\"2022-06-24\",\"2022-06-24\",\"2022-06-30\",\"2022-07-04\",\"2022-07-05\",\"2022-07-05\",\"2022-07-13\",\"2022-07-18\",\"2022-07-18\"],\"y\":[7.01,6.83,6.83,6.83,6.74,6.9,6.82,6.74,6.87,6.91,6.87],\"type\":\"scatter\"},{\"marker\":{\"color\":\"yellow\",\"line\":{\"color\":\"#FF9900\",\"width\":1},\"size\":10,\"symbol\":0},\"mode\":\"markers\",\"name\":\"vendas\",\"x\":[\"2022-06-27\",\"2022-06-27\",\"2022-07-08\",\"2022-07-12\",\"2022-07-11\",\"2022-07-11\",\"2022-07-07\",\"2022-07-28\",\"2022-07-28\"],\"y\":[7.08,7.11,6.92,6.96,6.84,6.91,6.83,6.94,6.94],\"type\":\"scatter\"}],                        {\"template\":{\"data\":{\"bar\":[{\"error_x\":{\"color\":\"#2a3f5f\"},\"error_y\":{\"color\":\"#2a3f5f\"},\"marker\":{\"line\":{\"color\":\"#E5ECF6\",\"width\":0.5},\"pattern\":{\"fillmode\":\"overlay\",\"size\":10,\"solidity\":0.2}},\"type\":\"bar\"}],\"barpolar\":[{\"marker\":{\"line\":{\"color\":\"#E5ECF6\",\"width\":0.5},\"pattern\":{\"fillmode\":\"overlay\",\"size\":10,\"solidity\":0.2}},\"type\":\"barpolar\"}],\"carpet\":[{\"aaxis\":{\"endlinecolor\":\"#2a3f5f\",\"gridcolor\":\"white\",\"linecolor\":\"white\",\"minorgridcolor\":\"white\",\"startlinecolor\":\"#2a3f5f\"},\"baxis\":{\"endlinecolor\":\"#2a3f5f\",\"gridcolor\":\"white\",\"linecolor\":\"white\",\"minorgridcolor\":\"white\",\"startlinecolor\":\"#2a3f5f\"},\"type\":\"carpet\"}],\"choropleth\":[{\"colorbar\":{\"outlinewidth\":0,\"ticks\":\"\"},\"type\":\"choropleth\"}],\"contour\":[{\"colorbar\":{\"outlinewidth\":0,\"ticks\":\"\"},\"colorscale\":[[0.0,\"#0d0887\"],[0.1111111111111111,\"#46039f\"],[0.2222222222222222,\"#7201a8\"],[0.3333333333333333,\"#9c179e\"],[0.4444444444444444,\"#bd3786\"],[0.5555555555555556,\"#d8576b\"],[0.6666666666666666,\"#ed7953\"],[0.7777777777777778,\"#fb9f3a\"],[0.8888888888888888,\"#fdca26\"],[1.0,\"#f0f921\"]],\"type\":\"contour\"}],\"contourcarpet\":[{\"colorbar\":{\"outlinewidth\":0,\"ticks\":\"\"},\"type\":\"contourcarpet\"}],\"heatmap\":[{\"colorbar\":{\"outlinewidth\":0,\"ticks\":\"\"},\"colorscale\":[[0.0,\"#0d0887\"],[0.1111111111111111,\"#46039f\"],[0.2222222222222222,\"#7201a8\"],[0.3333333333333333,\"#9c179e\"],[0.4444444444444444,\"#bd3786\"],[0.5555555555555556,\"#d8576b\"],[0.6666666666666666,\"#ed7953\"],[0.7777777777777778,\"#fb9f3a\"],[0.8888888888888888,\"#fdca26\"],[1.0,\"#f0f921\"]],\"type\":\"heatmap\"}],\"heatmapgl\":[{\"colorbar\":{\"outlinewidth\":0,\"ticks\":\"\"},\"colorscale\":[[0.0,\"#0d0887\"],[0.1111111111111111,\"#46039f\"],[0.2222222222222222,\"#7201a8\"],[0.3333333333333333,\"#9c179e\"],[0.4444444444444444,\"#bd3786\"],[0.5555555555555556,\"#d8576b\"],[0.6666666666666666,\"#ed7953\"],[0.7777777777777778,\"#fb9f3a\"],[0.8888888888888888,\"#fdca26\"],[1.0,\"#f0f921\"]],\"type\":\"heatmapgl\"}],\"histogram\":[{\"marker\":{\"pattern\":{\"fillmode\":\"overlay\",\"size\":10,\"solidity\":0.2}},\"type\":\"histogram\"}],\"histogram2d\":[{\"colorbar\":{\"outlinewidth\":0,\"ticks\":\"\"},\"colorscale\":[[0.0,\"#0d0887\"],[0.1111111111111111,\"#46039f\"],[0.2222222222222222,\"#7201a8\"],[0.3333333333333333,\"#9c179e\"],[0.4444444444444444,\"#bd3786\"],[0.5555555555555556,\"#d8576b\"],[0.6666666666666666,\"#ed7953\"],[0.7777777777777778,\"#fb9f3a\"],[0.8888888888888888,\"#fdca26\"],[1.0,\"#f0f921\"]],\"type\":\"histogram2d\"}],\"histogram2dcontour\":[{\"colorbar\":{\"outlinewidth\":0,\"ticks\":\"\"},\"colorscale\":[[0.0,\"#0d0887\"],[0.1111111111111111,\"#46039f\"],[0.2222222222222222,\"#7201a8\"],[0.3333333333333333,\"#9c179e\"],[0.4444444444444444,\"#bd3786\"],[0.5555555555555556,\"#d8576b\"],[0.6666666666666666,\"#ed7953\"],[0.7777777777777778,\"#fb9f3a\"],[0.8888888888888888,\"#fdca26\"],[1.0,\"#f0f921\"]],\"type\":\"histogram2dcontour\"}],\"mesh3d\":[{\"colorbar\":{\"outlinewidth\":0,\"ticks\":\"\"},\"type\":\"mesh3d\"}],\"parcoords\":[{\"line\":{\"colorbar\":{\"outlinewidth\":0,\"ticks\":\"\"}},\"type\":\"parcoords\"}],\"pie\":[{\"automargin\":true,\"type\":\"pie\"}],\"scatter\":[{\"marker\":{\"colorbar\":{\"outlinewidth\":0,\"ticks\":\"\"}},\"type\":\"scatter\"}],\"scatter3d\":[{\"line\":{\"colorbar\":{\"outlinewidth\":0,\"ticks\":\"\"}},\"marker\":{\"colorbar\":{\"outlinewidth\":0,\"ticks\":\"\"}},\"type\":\"scatter3d\"}],\"scattercarpet\":[{\"marker\":{\"colorbar\":{\"outlinewidth\":0,\"ticks\":\"\"}},\"type\":\"scattercarpet\"}],\"scattergeo\":[{\"marker\":{\"colorbar\":{\"outlinewidth\":0,\"ticks\":\"\"}},\"type\":\"scattergeo\"}],\"scattergl\":[{\"marker\":{\"colorbar\":{\"outlinewidth\":0,\"ticks\":\"\"}},\"type\":\"scattergl\"}],\"scattermapbox\":[{\"marker\":{\"colorbar\":{\"outlinewidth\":0,\"ticks\":\"\"}},\"type\":\"scattermapbox\"}],\"scatterpolar\":[{\"marker\":{\"colorbar\":{\"outlinewidth\":0,\"ticks\":\"\"}},\"type\":\"scatterpolar\"}],\"scatterpolargl\":[{\"marker\":{\"colorbar\":{\"outlinewidth\":0,\"ticks\":\"\"}},\"type\":\"scatterpolargl\"}],\"scatterternary\":[{\"marker\":{\"colorbar\":{\"outlinewidth\":0,\"ticks\":\"\"}},\"type\":\"scatterternary\"}],\"surface\":[{\"colorbar\":{\"outlinewidth\":0,\"ticks\":\"\"},\"colorscale\":[[0.0,\"#0d0887\"],[0.1111111111111111,\"#46039f\"],[0.2222222222222222,\"#7201a8\"],[0.3333333333333333,\"#9c179e\"],[0.4444444444444444,\"#bd3786\"],[0.5555555555555556,\"#d8576b\"],[0.6666666666666666,\"#ed7953\"],[0.7777777777777778,\"#fb9f3a\"],[0.8888888888888888,\"#fdca26\"],[1.0,\"#f0f921\"]],\"type\":\"surface\"}],\"table\":[{\"cells\":{\"fill\":{\"color\":\"#EBF0F8\"},\"line\":{\"color\":\"white\"}},\"header\":{\"fill\":{\"color\":\"#C8D4E3\"},\"line\":{\"color\":\"white\"}},\"type\":\"table\"}]},\"layout\":{\"annotationdefaults\":{\"arrowcolor\":\"#2a3f5f\",\"arrowhead\":0,\"arrowwidth\":1},\"autotypenumbers\":\"strict\",\"coloraxis\":{\"colorbar\":{\"outlinewidth\":0,\"ticks\":\"\"}},\"colorscale\":{\"diverging\":[[0,\"#8e0152\"],[0.1,\"#c51b7d\"],[0.2,\"#de77ae\"],[0.3,\"#f1b6da\"],[0.4,\"#fde0ef\"],[0.5,\"#f7f7f7\"],[0.6,\"#e6f5d0\"],[0.7,\"#b8e186\"],[0.8,\"#7fbc41\"],[0.9,\"#4d9221\"],[1,\"#276419\"]],\"sequential\":[[0.0,\"#0d0887\"],[0.1111111111111111,\"#46039f\"],[0.2222222222222222,\"#7201a8\"],[0.3333333333333333,\"#9c179e\"],[0.4444444444444444,\"#bd3786\"],[0.5555555555555556,\"#d8576b\"],[0.6666666666666666,\"#ed7953\"],[0.7777777777777778,\"#fb9f3a\"],[0.8888888888888888,\"#fdca26\"],[1.0,\"#f0f921\"]],\"sequentialminus\":[[0.0,\"#0d0887\"],[0.1111111111111111,\"#46039f\"],[0.2222222222222222,\"#7201a8\"],[0.3333333333333333,\"#9c179e\"],[0.4444444444444444,\"#bd3786\"],[0.5555555555555556,\"#d8576b\"],[0.6666666666666666,\"#ed7953\"],[0.7777777777777778,\"#fb9f3a\"],[0.8888888888888888,\"#fdca26\"],[1.0,\"#f0f921\"]]},\"colorway\":[\"#636efa\",\"#EF553B\",\"#00cc96\",\"#ab63fa\",\"#FFA15A\",\"#19d3f3\",\"#FF6692\",\"#B6E880\",\"#FF97FF\",\"#FECB52\"],\"font\":{\"color\":\"#2a3f5f\"},\"geo\":{\"bgcolor\":\"white\",\"lakecolor\":\"white\",\"landcolor\":\"#E5ECF6\",\"showlakes\":true,\"showland\":true,\"subunitcolor\":\"white\"},\"hoverlabel\":{\"align\":\"left\"},\"hovermode\":\"closest\",\"mapbox\":{\"style\":\"light\"},\"paper_bgcolor\":\"white\",\"plot_bgcolor\":\"#E5ECF6\",\"polar\":{\"angularaxis\":{\"gridcolor\":\"white\",\"linecolor\":\"white\",\"ticks\":\"\"},\"bgcolor\":\"#E5ECF6\",\"radialaxis\":{\"gridcolor\":\"white\",\"linecolor\":\"white\",\"ticks\":\"\"}},\"scene\":{\"xaxis\":{\"backgroundcolor\":\"#E5ECF6\",\"gridcolor\":\"white\",\"gridwidth\":2,\"linecolor\":\"white\",\"showbackground\":true,\"ticks\":\"\",\"zerolinecolor\":\"white\"},\"yaxis\":{\"backgroundcolor\":\"#E5ECF6\",\"gridcolor\":\"white\",\"gridwidth\":2,\"linecolor\":\"white\",\"showbackground\":true,\"ticks\":\"\",\"zerolinecolor\":\"white\"},\"zaxis\":{\"backgroundcolor\":\"#E5ECF6\",\"gridcolor\":\"white\",\"gridwidth\":2,\"linecolor\":\"white\",\"showbackground\":true,\"ticks\":\"\",\"zerolinecolor\":\"white\"}},\"shapedefaults\":{\"line\":{\"color\":\"#2a3f5f\"}},\"ternary\":{\"aaxis\":{\"gridcolor\":\"white\",\"linecolor\":\"white\",\"ticks\":\"\"},\"baxis\":{\"gridcolor\":\"white\",\"linecolor\":\"white\",\"ticks\":\"\"},\"bgcolor\":\"#E5ECF6\",\"caxis\":{\"gridcolor\":\"white\",\"linecolor\":\"white\",\"ticks\":\"\"}},\"title\":{\"x\":0.05},\"xaxis\":{\"automargin\":true,\"gridcolor\":\"white\",\"linecolor\":\"white\",\"ticks\":\"\",\"title\":{\"standoff\":15},\"zerolinecolor\":\"white\",\"zerolinewidth\":2},\"yaxis\":{\"automargin\":true,\"gridcolor\":\"white\",\"linecolor\":\"white\",\"ticks\":\"\",\"title\":{\"standoff\":15},\"zerolinecolor\":\"white\",\"zerolinewidth\":2}}},\"xaxis\":{\"rangebreaks\":[{\"bounds\":[\"sat\",\"mon\"]},{\"values\":[\"2022-06-16\",\"2022-07-09\"]}],\"rangeslider\":{\"visible\":false}},\"title\":{\"text\":\"Copel\"}},                        {\"responsive\": true}                    ).then(function(){\n",
              "                            \n",
              "var gd = document.getElementById('bc072b4a-439b-4d9c-90f2-bd14de2ea6d4');\n",
              "var x = new MutationObserver(function (mutations, observer) {{\n",
              "        var display = window.getComputedStyle(gd).display;\n",
              "        if (!display || display === 'none') {{\n",
              "            console.log([gd, 'removed!']);\n",
              "            Plotly.purge(gd);\n",
              "            observer.disconnect();\n",
              "        }}\n",
              "}});\n",
              "\n",
              "// Listen for the removal of the full notebook cells\n",
              "var notebookContainer = gd.closest('#notebook-container');\n",
              "if (notebookContainer) {{\n",
              "    x.observe(notebookContainer, {childList: true});\n",
              "}}\n",
              "\n",
              "// Listen for the clearing of the current output cell\n",
              "var outputEl = gd.closest('.output');\n",
              "if (outputEl) {{\n",
              "    x.observe(outputEl, {childList: true});\n",
              "}}\n",
              "\n",
              "                        })                };                            </script>        </div>\n",
              "</body>\n",
              "</html>"
            ]
          },
          "metadata": {}
        }
      ]
    },
    {
      "cell_type": "markdown",
      "source": [
        "####Itaúsa"
      ],
      "metadata": {
        "id": "ZaRryifEsFXh"
      }
    },
    {
      "cell_type": "code",
      "source": [
        "# Itaúsa\n",
        "\n",
        "# lista de preços\n",
        "\n",
        "itausa_compra = []\n",
        "for valor in list(investimentos.compra[investimentos.Cod == 'ITSA4F']):\n",
        "  valor = valor.replace(',', '.')\n",
        "  itausa_compra.append(float(valor))\n",
        "\n",
        "itausa_venda = []\n",
        "for valor in list(df_sem_nan.venda[df_sem_nan.Cod == 'ITSA4F']):\n",
        "  valor = valor.replace(',', '.')\n",
        "  itausa_venda.append(float(valor))\n",
        "\n",
        "# lista de datas\n",
        "itausa_data_compra = list(investimentos.data_compra_nova[investimentos.Cod == 'ITSA4F'])\n",
        "itausa_data_venda = list(df_sem_nan.data_venda_nova[df_sem_nan.Cod == 'ITSA4F'])\n",
        "\n",
        "\n",
        "# gráfico\n",
        "\n",
        "fig_itausa = go.Figure()\n",
        "fig_itausa.add_trace(go.Candlestick(name='ITSA4F',x=df_itausa.index, close=df_itausa['Close'], open=df_itausa['Open'], high=df_itausa['High'], low=df_itausa['Low']))\n",
        "fig_itausa.update_xaxes(rangebreaks=[\n",
        "    dict(bounds=[\"sat\", \"mon\"]), # não mostrar finais de semana (usei mon igual a aula, mesmo achando que está errado, porque o resultado é melhor)\n",
        "    dict(values=[\"2022-06-16\",\"2022-07-09\"]) # não mostrar corpus christi e 9 de julho\n",
        "    ])\n",
        "fig_itausa.add_trace(go.Scatter(name = 'compras', #nome do traço (pontos)\n",
        "                             mode='markers', # plota como pontos e não traço/linha\n",
        "                             marker_symbol = 0, # tipo do marcador\n",
        "                             marker_size= 10, # tamanho do marcador \n",
        "                             marker_line_color = '#1616A7', #contorno do marcador\n",
        "                             marker_line_width=1, # espessura do contorno\n",
        "                             x = itausa_data_compra, \n",
        "                             y = itausa_compra, \n",
        "                             marker_color= '#19D3F3')) # cor dos pontos\n",
        "fig_itausa.add_trace(go.Scatter(name = 'vendas', #nome do traço (pontos)\n",
        "                             mode='markers', # plota como pontos e não traço/linha\n",
        "                             marker_symbol = 0, # tipo do marcador\n",
        "                             marker_size= 10, # tamanho do marcador \n",
        "                             marker_line_color = '#FF9900', #contorno do marcador\n",
        "                             marker_line_width=1,\n",
        "                             x = itausa_data_venda,\n",
        "                             y = itausa_venda, \n",
        "                             marker_color= 'yellow')) # cor dos pontos\n",
        "fig_itausa.update_layout(xaxis_rangeslider_visible=False, title_text = 'Itaúsa')\n",
        "fig_itausa.show()"
      ],
      "metadata": {
        "colab": {
          "base_uri": "https://localhost:8080/",
          "height": 542
        },
        "id": "3Z7zuQvJhj7s",
        "outputId": "f1d01f9a-3cbd-459e-9345-1b1b5d6e1900"
      },
      "execution_count": null,
      "outputs": [
        {
          "output_type": "display_data",
          "data": {
            "text/html": [
              "<html>\n",
              "<head><meta charset=\"utf-8\" /></head>\n",
              "<body>\n",
              "    <div>            <script src=\"https://cdnjs.cloudflare.com/ajax/libs/mathjax/2.7.5/MathJax.js?config=TeX-AMS-MML_SVG\"></script><script type=\"text/javascript\">if (window.MathJax) {MathJax.Hub.Config({SVG: {font: \"STIX-Web\"}});}</script>                <script type=\"text/javascript\">window.PlotlyConfig = {MathJaxConfig: 'local'};</script>\n",
              "        <script src=\"https://cdn.plot.ly/plotly-2.8.3.min.js\"></script>                <div id=\"4ed2f31c-829d-4be3-ac90-0954e4e1c365\" class=\"plotly-graph-div\" style=\"height:525px; width:100%;\"></div>            <script type=\"text/javascript\">                                    window.PLOTLYENV=window.PLOTLYENV || {};                                    if (document.getElementById(\"4ed2f31c-829d-4be3-ac90-0954e4e1c365\")) {                    Plotly.newPlot(                        \"4ed2f31c-829d-4be3-ac90-0954e4e1c365\",                        [{\"close\":[9.489999771118164,9.529999732971191,9.390000343322754,9.430000305175781,9.329999923706055,9.199999809265137,9.069999694824219,8.890000343322754,8.75,8.720000267028809,8.789999961853027,8.630000114440918,8.899999618530273,8.819999694824219,8.859999656677246,8.670000076293945,8.630000114440918,8.739999771118164,8.630000114440918,8.539999961853027,8.34000015258789,8.319999694824219,8.25,8.260000228881836,8.25,8.34000015258789,8.390000343322754,8.220000267028809,8.199999809265137,8.119999885559082,8.100000381469727,8.350000381469727,8.430000305175781,8.59000015258789,8.460000038146973,8.5600004196167,8.470000267028809,8.539999961853027,8.520000457763672,8.5600004196167,8.649999618530273,8.630000114440918,8.539999961853027],\"high\":[9.600000381469727,9.609999656677246,9.529999732971191,9.470000267028809,9.4399995803833,9.350000381469727,9.289999961853027,9.050000190734863,8.850000381469727,8.84000015258789,8.880000114440918,8.880000114440918,9.010000228881836,9.0,8.890000343322754,8.890000343322754,8.770000457763672,8.760000228881836,8.829999923706055,8.729999542236328,8.510000228881836,8.34000015258789,8.329999923706055,8.289999961853027,8.34000015258789,8.430000305175781,8.470000267028809,8.34000015258789,8.279999732971191,8.260000228881836,8.170000076293945,8.390000343322754,8.539999961853027,8.640000343322754,8.59000015258789,8.579999923706055,8.600000381469727,8.59000015258789,8.609999656677246,8.59000015258789,8.680000305175781,8.760000228881836,8.680000305175781],\"low\":[9.460000038146973,9.420000076293945,9.369999885559082,9.34000015258789,9.300000190734863,9.149999618530273,9.069999694824219,8.850000381469727,8.6899995803833,8.649999618530273,8.739999771118164,8.569999694824219,8.630000114440918,8.760000228881836,8.739999771118164,8.670000076293945,8.630000114440918,8.649999618530273,8.569999694824219,8.529999732971191,8.3100004196167,8.199999809265137,8.199999809265137,8.130000114440918,8.15999984741211,8.279999732971191,8.329999923706055,8.149999618530273,8.130000114440918,8.100000381469727,7.960000038146973,8.050000190734863,8.279999732971191,8.420000076293945,8.4399995803833,8.380000114440918,8.390000343322754,8.489999771118164,8.4399995803833,8.489999771118164,8.5,8.59000015258789,8.449999809265137],\"name\":\"ITSA4F\",\"open\":[9.579999923706055,9.529999732971191,9.479999542236328,9.430000305175781,9.369999885559082,9.289999961853027,9.239999771118164,9.010000228881836,8.829999923706055,8.770000457763672,8.800000190734863,8.710000038146973,8.65999984741211,8.970000267028809,8.789999961853027,8.859999656677246,8.720000267028809,8.680000305175781,8.789999961853027,8.6899995803833,8.5,8.289999961853027,8.319999694824219,8.199999809265137,8.270000457763672,8.289999961853027,8.399999618530273,8.319999694824219,8.220000267028809,8.170000076293945,8.069999694824219,8.109999656677246,8.289999961853027,8.479999542236328,8.579999923706055,8.470000267028809,8.579999923706055,8.5,8.520000457763672,8.539999961853027,8.539999961853027,8.649999618530273,8.649999618530273],\"x\":[\"2022-06-01T00:00:00\",\"2022-06-02T00:00:00\",\"2022-06-03T00:00:00\",\"2022-06-06T00:00:00\",\"2022-06-07T00:00:00\",\"2022-06-08T00:00:00\",\"2022-06-09T00:00:00\",\"2022-06-10T00:00:00\",\"2022-06-13T00:00:00\",\"2022-06-14T00:00:00\",\"2022-06-15T00:00:00\",\"2022-06-17T00:00:00\",\"2022-06-20T00:00:00\",\"2022-06-21T00:00:00\",\"2022-06-22T00:00:00\",\"2022-06-23T00:00:00\",\"2022-06-24T00:00:00\",\"2022-06-27T00:00:00\",\"2022-06-28T00:00:00\",\"2022-06-29T00:00:00\",\"2022-06-30T00:00:00\",\"2022-07-01T00:00:00\",\"2022-07-04T00:00:00\",\"2022-07-05T00:00:00\",\"2022-07-06T00:00:00\",\"2022-07-07T00:00:00\",\"2022-07-08T00:00:00\",\"2022-07-11T00:00:00\",\"2022-07-12T00:00:00\",\"2022-07-13T00:00:00\",\"2022-07-14T00:00:00\",\"2022-07-15T00:00:00\",\"2022-07-18T00:00:00\",\"2022-07-19T00:00:00\",\"2022-07-20T00:00:00\",\"2022-07-21T00:00:00\",\"2022-07-22T00:00:00\",\"2022-07-25T00:00:00\",\"2022-07-26T00:00:00\",\"2022-07-27T00:00:00\",\"2022-07-28T00:00:00\",\"2022-07-29T00:00:00\",\"2022-08-01T00:00:00\"],\"type\":\"candlestick\"},{\"marker\":{\"color\":\"#19D3F3\",\"line\":{\"color\":\"#1616A7\",\"width\":1},\"size\":10,\"symbol\":0},\"mode\":\"markers\",\"name\":\"compras\",\"x\":[\"2022-06-15\",\"2022-06-24\",\"2022-06-29\",\"2022-06-30\",\"2022-07-11\",\"2022-07-11\",\"2022-07-11\",\"2022-07-14\"],\"y\":[8.85,8.73,8.68,8.42,8.25,8.24,8.18,8.05],\"type\":\"scatter\"},{\"marker\":{\"color\":\"yellow\",\"line\":{\"color\":\"#FF9900\",\"width\":1},\"size\":10,\"symbol\":0},\"mode\":\"markers\",\"name\":\"vendas\",\"x\":[\"2022-08-01\",\"2022-08-01\",\"2022-08-01\",\"2022-07-12\",\"2022-07-15\"],\"y\":[8.52,8.51,8.5,8.26,8.24],\"type\":\"scatter\"}],                        {\"template\":{\"data\":{\"bar\":[{\"error_x\":{\"color\":\"#2a3f5f\"},\"error_y\":{\"color\":\"#2a3f5f\"},\"marker\":{\"line\":{\"color\":\"#E5ECF6\",\"width\":0.5},\"pattern\":{\"fillmode\":\"overlay\",\"size\":10,\"solidity\":0.2}},\"type\":\"bar\"}],\"barpolar\":[{\"marker\":{\"line\":{\"color\":\"#E5ECF6\",\"width\":0.5},\"pattern\":{\"fillmode\":\"overlay\",\"size\":10,\"solidity\":0.2}},\"type\":\"barpolar\"}],\"carpet\":[{\"aaxis\":{\"endlinecolor\":\"#2a3f5f\",\"gridcolor\":\"white\",\"linecolor\":\"white\",\"minorgridcolor\":\"white\",\"startlinecolor\":\"#2a3f5f\"},\"baxis\":{\"endlinecolor\":\"#2a3f5f\",\"gridcolor\":\"white\",\"linecolor\":\"white\",\"minorgridcolor\":\"white\",\"startlinecolor\":\"#2a3f5f\"},\"type\":\"carpet\"}],\"choropleth\":[{\"colorbar\":{\"outlinewidth\":0,\"ticks\":\"\"},\"type\":\"choropleth\"}],\"contour\":[{\"colorbar\":{\"outlinewidth\":0,\"ticks\":\"\"},\"colorscale\":[[0.0,\"#0d0887\"],[0.1111111111111111,\"#46039f\"],[0.2222222222222222,\"#7201a8\"],[0.3333333333333333,\"#9c179e\"],[0.4444444444444444,\"#bd3786\"],[0.5555555555555556,\"#d8576b\"],[0.6666666666666666,\"#ed7953\"],[0.7777777777777778,\"#fb9f3a\"],[0.8888888888888888,\"#fdca26\"],[1.0,\"#f0f921\"]],\"type\":\"contour\"}],\"contourcarpet\":[{\"colorbar\":{\"outlinewidth\":0,\"ticks\":\"\"},\"type\":\"contourcarpet\"}],\"heatmap\":[{\"colorbar\":{\"outlinewidth\":0,\"ticks\":\"\"},\"colorscale\":[[0.0,\"#0d0887\"],[0.1111111111111111,\"#46039f\"],[0.2222222222222222,\"#7201a8\"],[0.3333333333333333,\"#9c179e\"],[0.4444444444444444,\"#bd3786\"],[0.5555555555555556,\"#d8576b\"],[0.6666666666666666,\"#ed7953\"],[0.7777777777777778,\"#fb9f3a\"],[0.8888888888888888,\"#fdca26\"],[1.0,\"#f0f921\"]],\"type\":\"heatmap\"}],\"heatmapgl\":[{\"colorbar\":{\"outlinewidth\":0,\"ticks\":\"\"},\"colorscale\":[[0.0,\"#0d0887\"],[0.1111111111111111,\"#46039f\"],[0.2222222222222222,\"#7201a8\"],[0.3333333333333333,\"#9c179e\"],[0.4444444444444444,\"#bd3786\"],[0.5555555555555556,\"#d8576b\"],[0.6666666666666666,\"#ed7953\"],[0.7777777777777778,\"#fb9f3a\"],[0.8888888888888888,\"#fdca26\"],[1.0,\"#f0f921\"]],\"type\":\"heatmapgl\"}],\"histogram\":[{\"marker\":{\"pattern\":{\"fillmode\":\"overlay\",\"size\":10,\"solidity\":0.2}},\"type\":\"histogram\"}],\"histogram2d\":[{\"colorbar\":{\"outlinewidth\":0,\"ticks\":\"\"},\"colorscale\":[[0.0,\"#0d0887\"],[0.1111111111111111,\"#46039f\"],[0.2222222222222222,\"#7201a8\"],[0.3333333333333333,\"#9c179e\"],[0.4444444444444444,\"#bd3786\"],[0.5555555555555556,\"#d8576b\"],[0.6666666666666666,\"#ed7953\"],[0.7777777777777778,\"#fb9f3a\"],[0.8888888888888888,\"#fdca26\"],[1.0,\"#f0f921\"]],\"type\":\"histogram2d\"}],\"histogram2dcontour\":[{\"colorbar\":{\"outlinewidth\":0,\"ticks\":\"\"},\"colorscale\":[[0.0,\"#0d0887\"],[0.1111111111111111,\"#46039f\"],[0.2222222222222222,\"#7201a8\"],[0.3333333333333333,\"#9c179e\"],[0.4444444444444444,\"#bd3786\"],[0.5555555555555556,\"#d8576b\"],[0.6666666666666666,\"#ed7953\"],[0.7777777777777778,\"#fb9f3a\"],[0.8888888888888888,\"#fdca26\"],[1.0,\"#f0f921\"]],\"type\":\"histogram2dcontour\"}],\"mesh3d\":[{\"colorbar\":{\"outlinewidth\":0,\"ticks\":\"\"},\"type\":\"mesh3d\"}],\"parcoords\":[{\"line\":{\"colorbar\":{\"outlinewidth\":0,\"ticks\":\"\"}},\"type\":\"parcoords\"}],\"pie\":[{\"automargin\":true,\"type\":\"pie\"}],\"scatter\":[{\"marker\":{\"colorbar\":{\"outlinewidth\":0,\"ticks\":\"\"}},\"type\":\"scatter\"}],\"scatter3d\":[{\"line\":{\"colorbar\":{\"outlinewidth\":0,\"ticks\":\"\"}},\"marker\":{\"colorbar\":{\"outlinewidth\":0,\"ticks\":\"\"}},\"type\":\"scatter3d\"}],\"scattercarpet\":[{\"marker\":{\"colorbar\":{\"outlinewidth\":0,\"ticks\":\"\"}},\"type\":\"scattercarpet\"}],\"scattergeo\":[{\"marker\":{\"colorbar\":{\"outlinewidth\":0,\"ticks\":\"\"}},\"type\":\"scattergeo\"}],\"scattergl\":[{\"marker\":{\"colorbar\":{\"outlinewidth\":0,\"ticks\":\"\"}},\"type\":\"scattergl\"}],\"scattermapbox\":[{\"marker\":{\"colorbar\":{\"outlinewidth\":0,\"ticks\":\"\"}},\"type\":\"scattermapbox\"}],\"scatterpolar\":[{\"marker\":{\"colorbar\":{\"outlinewidth\":0,\"ticks\":\"\"}},\"type\":\"scatterpolar\"}],\"scatterpolargl\":[{\"marker\":{\"colorbar\":{\"outlinewidth\":0,\"ticks\":\"\"}},\"type\":\"scatterpolargl\"}],\"scatterternary\":[{\"marker\":{\"colorbar\":{\"outlinewidth\":0,\"ticks\":\"\"}},\"type\":\"scatterternary\"}],\"surface\":[{\"colorbar\":{\"outlinewidth\":0,\"ticks\":\"\"},\"colorscale\":[[0.0,\"#0d0887\"],[0.1111111111111111,\"#46039f\"],[0.2222222222222222,\"#7201a8\"],[0.3333333333333333,\"#9c179e\"],[0.4444444444444444,\"#bd3786\"],[0.5555555555555556,\"#d8576b\"],[0.6666666666666666,\"#ed7953\"],[0.7777777777777778,\"#fb9f3a\"],[0.8888888888888888,\"#fdca26\"],[1.0,\"#f0f921\"]],\"type\":\"surface\"}],\"table\":[{\"cells\":{\"fill\":{\"color\":\"#EBF0F8\"},\"line\":{\"color\":\"white\"}},\"header\":{\"fill\":{\"color\":\"#C8D4E3\"},\"line\":{\"color\":\"white\"}},\"type\":\"table\"}]},\"layout\":{\"annotationdefaults\":{\"arrowcolor\":\"#2a3f5f\",\"arrowhead\":0,\"arrowwidth\":1},\"autotypenumbers\":\"strict\",\"coloraxis\":{\"colorbar\":{\"outlinewidth\":0,\"ticks\":\"\"}},\"colorscale\":{\"diverging\":[[0,\"#8e0152\"],[0.1,\"#c51b7d\"],[0.2,\"#de77ae\"],[0.3,\"#f1b6da\"],[0.4,\"#fde0ef\"],[0.5,\"#f7f7f7\"],[0.6,\"#e6f5d0\"],[0.7,\"#b8e186\"],[0.8,\"#7fbc41\"],[0.9,\"#4d9221\"],[1,\"#276419\"]],\"sequential\":[[0.0,\"#0d0887\"],[0.1111111111111111,\"#46039f\"],[0.2222222222222222,\"#7201a8\"],[0.3333333333333333,\"#9c179e\"],[0.4444444444444444,\"#bd3786\"],[0.5555555555555556,\"#d8576b\"],[0.6666666666666666,\"#ed7953\"],[0.7777777777777778,\"#fb9f3a\"],[0.8888888888888888,\"#fdca26\"],[1.0,\"#f0f921\"]],\"sequentialminus\":[[0.0,\"#0d0887\"],[0.1111111111111111,\"#46039f\"],[0.2222222222222222,\"#7201a8\"],[0.3333333333333333,\"#9c179e\"],[0.4444444444444444,\"#bd3786\"],[0.5555555555555556,\"#d8576b\"],[0.6666666666666666,\"#ed7953\"],[0.7777777777777778,\"#fb9f3a\"],[0.8888888888888888,\"#fdca26\"],[1.0,\"#f0f921\"]]},\"colorway\":[\"#636efa\",\"#EF553B\",\"#00cc96\",\"#ab63fa\",\"#FFA15A\",\"#19d3f3\",\"#FF6692\",\"#B6E880\",\"#FF97FF\",\"#FECB52\"],\"font\":{\"color\":\"#2a3f5f\"},\"geo\":{\"bgcolor\":\"white\",\"lakecolor\":\"white\",\"landcolor\":\"#E5ECF6\",\"showlakes\":true,\"showland\":true,\"subunitcolor\":\"white\"},\"hoverlabel\":{\"align\":\"left\"},\"hovermode\":\"closest\",\"mapbox\":{\"style\":\"light\"},\"paper_bgcolor\":\"white\",\"plot_bgcolor\":\"#E5ECF6\",\"polar\":{\"angularaxis\":{\"gridcolor\":\"white\",\"linecolor\":\"white\",\"ticks\":\"\"},\"bgcolor\":\"#E5ECF6\",\"radialaxis\":{\"gridcolor\":\"white\",\"linecolor\":\"white\",\"ticks\":\"\"}},\"scene\":{\"xaxis\":{\"backgroundcolor\":\"#E5ECF6\",\"gridcolor\":\"white\",\"gridwidth\":2,\"linecolor\":\"white\",\"showbackground\":true,\"ticks\":\"\",\"zerolinecolor\":\"white\"},\"yaxis\":{\"backgroundcolor\":\"#E5ECF6\",\"gridcolor\":\"white\",\"gridwidth\":2,\"linecolor\":\"white\",\"showbackground\":true,\"ticks\":\"\",\"zerolinecolor\":\"white\"},\"zaxis\":{\"backgroundcolor\":\"#E5ECF6\",\"gridcolor\":\"white\",\"gridwidth\":2,\"linecolor\":\"white\",\"showbackground\":true,\"ticks\":\"\",\"zerolinecolor\":\"white\"}},\"shapedefaults\":{\"line\":{\"color\":\"#2a3f5f\"}},\"ternary\":{\"aaxis\":{\"gridcolor\":\"white\",\"linecolor\":\"white\",\"ticks\":\"\"},\"baxis\":{\"gridcolor\":\"white\",\"linecolor\":\"white\",\"ticks\":\"\"},\"bgcolor\":\"#E5ECF6\",\"caxis\":{\"gridcolor\":\"white\",\"linecolor\":\"white\",\"ticks\":\"\"}},\"title\":{\"x\":0.05},\"xaxis\":{\"automargin\":true,\"gridcolor\":\"white\",\"linecolor\":\"white\",\"ticks\":\"\",\"title\":{\"standoff\":15},\"zerolinecolor\":\"white\",\"zerolinewidth\":2},\"yaxis\":{\"automargin\":true,\"gridcolor\":\"white\",\"linecolor\":\"white\",\"ticks\":\"\",\"title\":{\"standoff\":15},\"zerolinecolor\":\"white\",\"zerolinewidth\":2}}},\"xaxis\":{\"rangebreaks\":[{\"bounds\":[\"sat\",\"mon\"]},{\"values\":[\"2022-06-16\",\"2022-07-09\"]}],\"rangeslider\":{\"visible\":false}},\"title\":{\"text\":\"Ita\\u00fasa\"}},                        {\"responsive\": true}                    ).then(function(){\n",
              "                            \n",
              "var gd = document.getElementById('4ed2f31c-829d-4be3-ac90-0954e4e1c365');\n",
              "var x = new MutationObserver(function (mutations, observer) {{\n",
              "        var display = window.getComputedStyle(gd).display;\n",
              "        if (!display || display === 'none') {{\n",
              "            console.log([gd, 'removed!']);\n",
              "            Plotly.purge(gd);\n",
              "            observer.disconnect();\n",
              "        }}\n",
              "}});\n",
              "\n",
              "// Listen for the removal of the full notebook cells\n",
              "var notebookContainer = gd.closest('#notebook-container');\n",
              "if (notebookContainer) {{\n",
              "    x.observe(notebookContainer, {childList: true});\n",
              "}}\n",
              "\n",
              "// Listen for the clearing of the current output cell\n",
              "var outputEl = gd.closest('.output');\n",
              "if (outputEl) {{\n",
              "    x.observe(outputEl, {childList: true});\n",
              "}}\n",
              "\n",
              "                        })                };                            </script>        </div>\n",
              "</body>\n",
              "</html>"
            ]
          },
          "metadata": {}
        }
      ]
    },
    {
      "cell_type": "markdown",
      "source": [
        "## Parte 2: Anotações do processo"
      ],
      "metadata": {
        "id": "eQCqmKco_RzX"
      }
    },
    {
      "cell_type": "markdown",
      "source": [
        "Resolvi tentar fazer um gráfico com os preços dos ativos que eu comprei e vendi nos últimos dias (junho a agosto de 2022) usando a minha planilha de investimentos.\n",
        "\n",
        "Passos:\n",
        "\n",
        "1. fazer os gráficos de preços de B3SA3, BBDC3, CPLE6 e ITSA4 usando as aulas do Modal - gráfico de candlestick\n",
        "2. obter os dados de uma aba da planilha de investimentos\n",
        "3. adaptar a base de operações e concatenar na base de preços ou ver se consigo juntar fontes de dados diferentes no mesmo gráfico\n",
        "4. descobrir como diferenciar pontos de venda e pontos de compra no gráfico\n",
        "\n"
      ],
      "metadata": {
        "id": "B9-98r1I_ftw"
      }
    },
    {
      "cell_type": "markdown",
      "source": [
        "###Obtendo os dados de preço dos ativos"
      ],
      "metadata": {
        "id": "CAX-Gu1hEP_9"
      }
    },
    {
      "cell_type": "markdown",
      "source": [
        "\n",
        "\n",
        "1.   obter os preços no período desejado\n",
        "2.   criar os gráficos de candlestick\n",
        "3.   incluir marcações de compras e vendas\n",
        "\n"
      ],
      "metadata": {
        "id": "NSD0OmDYFlTc"
      }
    },
    {
      "cell_type": "code",
      "source": [
        "!pip install investpy\n",
        "!pip install plotly\n",
        "!pip install yfinance #tive que pegar o yf porque o investpy não tem um intervalo menor que daily"
      ],
      "metadata": {
        "id": "7Ox6KkZE_XnX"
      },
      "execution_count": null,
      "outputs": []
    },
    {
      "cell_type": "code",
      "source": [
        "import investpy\n",
        "import pandas as pd\n",
        "import plotly.graph_objects as go\n",
        "from plotly.subplots import make_subplots\n",
        "import yfinance as yf"
      ],
      "metadata": {
        "id": "5iefCPNwH5Fj"
      },
      "execution_count": null,
      "outputs": []
    },
    {
      "cell_type": "code",
      "source": [
        "# cada ação tem seu dataframe (coloquei início em maio pra dar mais candlesticks)\n",
        "# problema: fiz várias operações no mesmo dia, o investpy não tem um intervalo menor que diário\n",
        "# solução: isolei os dfs de investpy com \"ip\", os dfs oficiais serão do yf\n",
        "df_b3_ip = investpy.get_stock_historical_data('B3SA3', 'Brazil', '01/05/2022', '31/08/2022')\n",
        "df_bradesco_ip = investpy.get_stock_historical_data('BBDC3', 'Brazil', '01/05/2022', '31/08/2022')\n",
        "df_copel_ip = investpy.get_stock_historical_data('CPLE6', 'Brazil', '01/05/2022', '31/08/2022')\n",
        "df_itausa_ip = investpy.get_stock_historical_data('ITSA4', 'Brazil', '01/05/2022', '31/08/2022')"
      ],
      "metadata": {
        "id": "ppHoPor7ICmf"
      },
      "execution_count": null,
      "outputs": []
    },
    {
      "cell_type": "code",
      "source": [
        "df_b3 = yf.download(\"B3SA3.SA\", start='2022-06-01', end='2022-08-01', interval = \"1d\")\n",
        "df_bradesco = yf.download(\"BBDC3.SA\", start='2022-06-01', end='2022-08-01', interval = \"1d\")\n",
        "df_copel = yf.download(\"CPLE6.SA\", start='2022-06-01', end='2022-08-01', interval = \"1d\")\n",
        "df_itausa = yf.download(\"ITSA4.SA\", start='2022-06-01', end='2022-08-01', interval = \"1d\")\n",
        "\n",
        "# não deu pra ser interval menor que 60m\n",
        "# e o gráfico ficou feio demais, preciso dar um jeito de eliminar as horas de mercado fechado ou só vai dar certo o intervalo daily\n",
        "# problema: não tenho o horário das compras das ações, vai ter que ser no dia mesmo"
      ],
      "metadata": {
        "colab": {
          "base_uri": "https://localhost:8080/"
        },
        "id": "-HA_H07dVp_z",
        "outputId": "086af525-5c39-45fe-f356-9c1343408852"
      },
      "execution_count": null,
      "outputs": [
        {
          "output_type": "stream",
          "name": "stdout",
          "text": [
            "[*********************100%***********************]  1 of 1 completed\n",
            "[*********************100%***********************]  1 of 1 completed\n",
            "[*********************100%***********************]  1 of 1 completed\n",
            "[*********************100%***********************]  1 of 1 completed\n"
          ]
        }
      ]
    },
    {
      "cell_type": "code",
      "source": [
        "# vou fazer um subplot por ação porque não vai ficar legal misturar candlesticks de várias ações (nem sei se é possível)\n",
        "fig = make_subplots(rows=4, cols=1)\n",
        "fig.add_trace(go.Candlestick(name='B3SA3',x=df_b3.index, close=df_b3['Close'], open=df_b3['Open'],high=df_b3['High'], low=df_b3['Low']),row=1,col=1)\n",
        "fig.add_trace(go.Candlestick(name='BBDC3',x=df_bradesco.index, close=df_bradesco['Close'], open=df_bradesco['Open'],high=df_bradesco['High'], low=df_bradesco['Low']),row=2,col=1)\n",
        "fig.add_trace(go.Candlestick(name='CPLE6',x=df_copel.index, close=df_copel['Close'], open=df_copel['Open'],high=df_copel['High'], low=df_copel['Low']),row=3,col=1)\n",
        "fig.add_trace(go.Candlestick(name='ITSA4',x=df_itausa.index, close=df_itausa['Close'], open=df_itausa['Open'],high=df_itausa['High'], low=df_itausa['Low']),row=4,col=1)\n",
        "fig.update_layout(xaxis_rangeslider_visible=False)\n",
        "fig.show()\n",
        "\n",
        "#muuuito esquisito, vou tentar uma ação por vez, sem subplots"
      ],
      "metadata": {
        "id": "2xT2Hz6pIv1C"
      },
      "execution_count": null,
      "outputs": []
    },
    {
      "cell_type": "code",
      "source": [
        "fig_b3 = go.Figure()\n",
        "fig_b3.add_trace(go.Candlestick(name='B3SA3',x=df_b3.index, close=df_b3['Close'], open=df_b3['Open'],high=df_b3['High'], low=df_b3['Low']))\n",
        "fig_b3.update_layout(xaxis_rangeslider_visible=False, title_text = 'B3')\n",
        "fig_b3.show()\n",
        "\n",
        "fig_bradesco = go.Figure()\n",
        "fig_bradesco.add_trace(go.Candlestick(name='BBDC3',x=df_bradesco.index, close=df_bradesco['Close'], open=df_bradesco['Open'],high=df_bradesco['High'], low=df_bradesco['Low']))\n",
        "fig_bradesco.update_layout(xaxis_rangeslider_visible=False, title_text = 'Bradesco')\n",
        "fig_bradesco.show()\n",
        "\n",
        "fig_copel = go.Figure()\n",
        "fig_copel.add_trace(go.Candlestick(name='CPLE6',x=df_copel.index, close=df_copel['Close'], open=df_copel['Open'],high=df_copel['High'], low=df_copel['Low']))\n",
        "fig_copel.update_layout(xaxis_rangeslider_visible=False, title_text = 'Copel')\n",
        "fig_copel.show()\n",
        "\n",
        "fig_itausa = go.Figure()\n",
        "fig_itausa.add_trace(go.Candlestick(name='ITSA4',x=df_itausa.index, close=df_itausa['Close'], open=df_itausa['Open'],high=df_itausa['High'], low=df_itausa['Low']))\n",
        "fig_itausa.update_layout(xaxis_rangeslider_visible=False, title_text = 'Itaúsa')\n",
        "fig_itausa.show()\n",
        "\n",
        "# lindos!"
      ],
      "metadata": {
        "colab": {
          "base_uri": "https://localhost:8080/",
          "height": 1000
        },
        "id": "Xu6OWyqaIyHu",
        "outputId": "83c53588-ebc8-4b87-ff79-3adcf7086dcc"
      },
      "execution_count": null,
      "outputs": [
        {
          "output_type": "display_data",
          "data": {
            "text/html": [
              "<html>\n",
              "<head><meta charset=\"utf-8\" /></head>\n",
              "<body>\n",
              "    <div>            <script src=\"https://cdnjs.cloudflare.com/ajax/libs/mathjax/2.7.5/MathJax.js?config=TeX-AMS-MML_SVG\"></script><script type=\"text/javascript\">if (window.MathJax) {MathJax.Hub.Config({SVG: {font: \"STIX-Web\"}});}</script>                <script type=\"text/javascript\">window.PlotlyConfig = {MathJaxConfig: 'local'};</script>\n",
              "        <script src=\"https://cdn.plot.ly/plotly-2.8.3.min.js\"></script>                <div id=\"6ccb7711-f9b2-49f3-b1d4-1153df3bd8fd\" class=\"plotly-graph-div\" style=\"height:525px; width:100%;\"></div>            <script type=\"text/javascript\">                                    window.PLOTLYENV=window.PLOTLYENV || {};                                    if (document.getElementById(\"6ccb7711-f9b2-49f3-b1d4-1153df3bd8fd\")) {                    Plotly.newPlot(                        \"6ccb7711-f9b2-49f3-b1d4-1153df3bd8fd\",                        [{\"close\":[12.5,12.890000343322754,12.670000076293945,12.279999732971191,11.890000343322754,11.789999961853027,11.949999809265137,11.65999984741211,11.539999961853027,11.489999771118164,11.609999656677246,11.449999809265137,11.550000190734863,11.489999771118164,11.649999618530273,11.579999923706055,11.600000381469727,11.600000381469727,11.270000457763672,10.949999809265137,10.960000038146973,11.1899995803833,11.079999923706055,11.270000457763672,11.109999656677246,11.359999656677246,11.4399995803833,10.770000457763672,10.539999961853027,10.279999732971191,10.279999732971191,10.029999732971191,10.270000457763672,10.210000038146973,10.539999961853027,11.010000228881836,10.720000267028809,10.729999542236328,10.729999542236328,10.880000114440918,11.260000228881836,11.09000015258789],\"high\":[12.829999923706055,12.989999771118164,12.920000076293945,12.789999961853027,12.25,12.050000190734863,12.15999984741211,11.9399995803833,11.680000305175781,11.619999885559082,11.800000190734863,11.489999771118164,11.619999885559082,11.770000457763672,11.670000076293945,11.899999618530273,11.819999694824219,11.760000228881836,11.819999694824219,11.300000190734863,11.079999923706055,11.3100004196167,11.350000381469727,11.34000015258789,11.430000305175781,11.420000076293945,11.529999732971191,11.220000267028809,10.819999694824219,10.609999656677246,10.359999656677246,10.329999923706055,10.4399995803833,10.5,10.59000015258789,11.069999694824219,11.180000305175781,10.789999961853027,10.850000381469727,10.930000305175781,11.369999885559082,11.359999656677246],\"low\":[12.489999771118164,12.59000015258789,12.59000015258789,12.220000267028809,11.8100004196167,11.739999771118164,11.760000228881836,11.649999618530273,11.3100004196167,11.380000114440918,11.449999809265137,11.170000076293945,11.289999961853027,11.399999618530273,11.350000381469727,11.550000190734863,11.539999961853027,11.510000228881836,11.180000305175781,10.890000343322754,10.619999885559082,10.729999542236328,11.020000457763672,10.9399995803833,10.90999984741211,11.15999984741211,11.319999694824219,10.6899995803833,10.420000076293945,10.229999542236328,9.710000038146973,9.979999542236328,10.020000457763672,10.130000114440918,10.140000343322754,10.510000228881836,10.619999885559082,10.489999771118164,10.649999618530273,10.619999885559082,10.739999771118164,11.050000190734863],\"name\":\"B3SA3\",\"open\":[12.770000457763672,12.59000015258789,12.850000381469727,12.770000457763672,12.170000076293945,11.800000190734863,11.779999732971191,11.800000190734863,11.489999771118164,11.529999732971191,11.710000038146973,11.399999618530273,11.460000038146973,11.600000381469727,11.479999542236328,11.630000114440918,11.739999771118164,11.680000305175781,11.640000343322754,11.279999732971191,10.630000114440918,10.75,11.109999656677246,11.0,11.229999542236328,11.289999961853027,11.390000343322754,11.210000038146973,10.819999694824219,10.420000076293945,10.069999694824219,10.210000038146973,10.09000015258789,10.270000457763672,10.1899995803833,10.5600004196167,11.079999923706055,10.789999961853027,10.720000267028809,10.869999885559082,10.75,11.359999656677246],\"x\":[\"2022-06-01T00:00:00\",\"2022-06-02T00:00:00\",\"2022-06-03T00:00:00\",\"2022-06-06T00:00:00\",\"2022-06-07T00:00:00\",\"2022-06-08T00:00:00\",\"2022-06-09T00:00:00\",\"2022-06-10T00:00:00\",\"2022-06-13T00:00:00\",\"2022-06-14T00:00:00\",\"2022-06-15T00:00:00\",\"2022-06-17T00:00:00\",\"2022-06-20T00:00:00\",\"2022-06-21T00:00:00\",\"2022-06-22T00:00:00\",\"2022-06-23T00:00:00\",\"2022-06-24T00:00:00\",\"2022-06-27T00:00:00\",\"2022-06-28T00:00:00\",\"2022-06-29T00:00:00\",\"2022-06-30T00:00:00\",\"2022-07-01T00:00:00\",\"2022-07-04T00:00:00\",\"2022-07-05T00:00:00\",\"2022-07-06T00:00:00\",\"2022-07-07T00:00:00\",\"2022-07-08T00:00:00\",\"2022-07-11T00:00:00\",\"2022-07-12T00:00:00\",\"2022-07-13T00:00:00\",\"2022-07-14T00:00:00\",\"2022-07-15T00:00:00\",\"2022-07-18T00:00:00\",\"2022-07-19T00:00:00\",\"2022-07-20T00:00:00\",\"2022-07-21T00:00:00\",\"2022-07-22T00:00:00\",\"2022-07-25T00:00:00\",\"2022-07-26T00:00:00\",\"2022-07-27T00:00:00\",\"2022-07-28T00:00:00\",\"2022-07-29T00:00:00\"],\"type\":\"candlestick\"}],                        {\"template\":{\"data\":{\"bar\":[{\"error_x\":{\"color\":\"#2a3f5f\"},\"error_y\":{\"color\":\"#2a3f5f\"},\"marker\":{\"line\":{\"color\":\"#E5ECF6\",\"width\":0.5},\"pattern\":{\"fillmode\":\"overlay\",\"size\":10,\"solidity\":0.2}},\"type\":\"bar\"}],\"barpolar\":[{\"marker\":{\"line\":{\"color\":\"#E5ECF6\",\"width\":0.5},\"pattern\":{\"fillmode\":\"overlay\",\"size\":10,\"solidity\":0.2}},\"type\":\"barpolar\"}],\"carpet\":[{\"aaxis\":{\"endlinecolor\":\"#2a3f5f\",\"gridcolor\":\"white\",\"linecolor\":\"white\",\"minorgridcolor\":\"white\",\"startlinecolor\":\"#2a3f5f\"},\"baxis\":{\"endlinecolor\":\"#2a3f5f\",\"gridcolor\":\"white\",\"linecolor\":\"white\",\"minorgridcolor\":\"white\",\"startlinecolor\":\"#2a3f5f\"},\"type\":\"carpet\"}],\"choropleth\":[{\"colorbar\":{\"outlinewidth\":0,\"ticks\":\"\"},\"type\":\"choropleth\"}],\"contour\":[{\"colorbar\":{\"outlinewidth\":0,\"ticks\":\"\"},\"colorscale\":[[0.0,\"#0d0887\"],[0.1111111111111111,\"#46039f\"],[0.2222222222222222,\"#7201a8\"],[0.3333333333333333,\"#9c179e\"],[0.4444444444444444,\"#bd3786\"],[0.5555555555555556,\"#d8576b\"],[0.6666666666666666,\"#ed7953\"],[0.7777777777777778,\"#fb9f3a\"],[0.8888888888888888,\"#fdca26\"],[1.0,\"#f0f921\"]],\"type\":\"contour\"}],\"contourcarpet\":[{\"colorbar\":{\"outlinewidth\":0,\"ticks\":\"\"},\"type\":\"contourcarpet\"}],\"heatmap\":[{\"colorbar\":{\"outlinewidth\":0,\"ticks\":\"\"},\"colorscale\":[[0.0,\"#0d0887\"],[0.1111111111111111,\"#46039f\"],[0.2222222222222222,\"#7201a8\"],[0.3333333333333333,\"#9c179e\"],[0.4444444444444444,\"#bd3786\"],[0.5555555555555556,\"#d8576b\"],[0.6666666666666666,\"#ed7953\"],[0.7777777777777778,\"#fb9f3a\"],[0.8888888888888888,\"#fdca26\"],[1.0,\"#f0f921\"]],\"type\":\"heatmap\"}],\"heatmapgl\":[{\"colorbar\":{\"outlinewidth\":0,\"ticks\":\"\"},\"colorscale\":[[0.0,\"#0d0887\"],[0.1111111111111111,\"#46039f\"],[0.2222222222222222,\"#7201a8\"],[0.3333333333333333,\"#9c179e\"],[0.4444444444444444,\"#bd3786\"],[0.5555555555555556,\"#d8576b\"],[0.6666666666666666,\"#ed7953\"],[0.7777777777777778,\"#fb9f3a\"],[0.8888888888888888,\"#fdca26\"],[1.0,\"#f0f921\"]],\"type\":\"heatmapgl\"}],\"histogram\":[{\"marker\":{\"pattern\":{\"fillmode\":\"overlay\",\"size\":10,\"solidity\":0.2}},\"type\":\"histogram\"}],\"histogram2d\":[{\"colorbar\":{\"outlinewidth\":0,\"ticks\":\"\"},\"colorscale\":[[0.0,\"#0d0887\"],[0.1111111111111111,\"#46039f\"],[0.2222222222222222,\"#7201a8\"],[0.3333333333333333,\"#9c179e\"],[0.4444444444444444,\"#bd3786\"],[0.5555555555555556,\"#d8576b\"],[0.6666666666666666,\"#ed7953\"],[0.7777777777777778,\"#fb9f3a\"],[0.8888888888888888,\"#fdca26\"],[1.0,\"#f0f921\"]],\"type\":\"histogram2d\"}],\"histogram2dcontour\":[{\"colorbar\":{\"outlinewidth\":0,\"ticks\":\"\"},\"colorscale\":[[0.0,\"#0d0887\"],[0.1111111111111111,\"#46039f\"],[0.2222222222222222,\"#7201a8\"],[0.3333333333333333,\"#9c179e\"],[0.4444444444444444,\"#bd3786\"],[0.5555555555555556,\"#d8576b\"],[0.6666666666666666,\"#ed7953\"],[0.7777777777777778,\"#fb9f3a\"],[0.8888888888888888,\"#fdca26\"],[1.0,\"#f0f921\"]],\"type\":\"histogram2dcontour\"}],\"mesh3d\":[{\"colorbar\":{\"outlinewidth\":0,\"ticks\":\"\"},\"type\":\"mesh3d\"}],\"parcoords\":[{\"line\":{\"colorbar\":{\"outlinewidth\":0,\"ticks\":\"\"}},\"type\":\"parcoords\"}],\"pie\":[{\"automargin\":true,\"type\":\"pie\"}],\"scatter\":[{\"marker\":{\"colorbar\":{\"outlinewidth\":0,\"ticks\":\"\"}},\"type\":\"scatter\"}],\"scatter3d\":[{\"line\":{\"colorbar\":{\"outlinewidth\":0,\"ticks\":\"\"}},\"marker\":{\"colorbar\":{\"outlinewidth\":0,\"ticks\":\"\"}},\"type\":\"scatter3d\"}],\"scattercarpet\":[{\"marker\":{\"colorbar\":{\"outlinewidth\":0,\"ticks\":\"\"}},\"type\":\"scattercarpet\"}],\"scattergeo\":[{\"marker\":{\"colorbar\":{\"outlinewidth\":0,\"ticks\":\"\"}},\"type\":\"scattergeo\"}],\"scattergl\":[{\"marker\":{\"colorbar\":{\"outlinewidth\":0,\"ticks\":\"\"}},\"type\":\"scattergl\"}],\"scattermapbox\":[{\"marker\":{\"colorbar\":{\"outlinewidth\":0,\"ticks\":\"\"}},\"type\":\"scattermapbox\"}],\"scatterpolar\":[{\"marker\":{\"colorbar\":{\"outlinewidth\":0,\"ticks\":\"\"}},\"type\":\"scatterpolar\"}],\"scatterpolargl\":[{\"marker\":{\"colorbar\":{\"outlinewidth\":0,\"ticks\":\"\"}},\"type\":\"scatterpolargl\"}],\"scatterternary\":[{\"marker\":{\"colorbar\":{\"outlinewidth\":0,\"ticks\":\"\"}},\"type\":\"scatterternary\"}],\"surface\":[{\"colorbar\":{\"outlinewidth\":0,\"ticks\":\"\"},\"colorscale\":[[0.0,\"#0d0887\"],[0.1111111111111111,\"#46039f\"],[0.2222222222222222,\"#7201a8\"],[0.3333333333333333,\"#9c179e\"],[0.4444444444444444,\"#bd3786\"],[0.5555555555555556,\"#d8576b\"],[0.6666666666666666,\"#ed7953\"],[0.7777777777777778,\"#fb9f3a\"],[0.8888888888888888,\"#fdca26\"],[1.0,\"#f0f921\"]],\"type\":\"surface\"}],\"table\":[{\"cells\":{\"fill\":{\"color\":\"#EBF0F8\"},\"line\":{\"color\":\"white\"}},\"header\":{\"fill\":{\"color\":\"#C8D4E3\"},\"line\":{\"color\":\"white\"}},\"type\":\"table\"}]},\"layout\":{\"annotationdefaults\":{\"arrowcolor\":\"#2a3f5f\",\"arrowhead\":0,\"arrowwidth\":1},\"autotypenumbers\":\"strict\",\"coloraxis\":{\"colorbar\":{\"outlinewidth\":0,\"ticks\":\"\"}},\"colorscale\":{\"diverging\":[[0,\"#8e0152\"],[0.1,\"#c51b7d\"],[0.2,\"#de77ae\"],[0.3,\"#f1b6da\"],[0.4,\"#fde0ef\"],[0.5,\"#f7f7f7\"],[0.6,\"#e6f5d0\"],[0.7,\"#b8e186\"],[0.8,\"#7fbc41\"],[0.9,\"#4d9221\"],[1,\"#276419\"]],\"sequential\":[[0.0,\"#0d0887\"],[0.1111111111111111,\"#46039f\"],[0.2222222222222222,\"#7201a8\"],[0.3333333333333333,\"#9c179e\"],[0.4444444444444444,\"#bd3786\"],[0.5555555555555556,\"#d8576b\"],[0.6666666666666666,\"#ed7953\"],[0.7777777777777778,\"#fb9f3a\"],[0.8888888888888888,\"#fdca26\"],[1.0,\"#f0f921\"]],\"sequentialminus\":[[0.0,\"#0d0887\"],[0.1111111111111111,\"#46039f\"],[0.2222222222222222,\"#7201a8\"],[0.3333333333333333,\"#9c179e\"],[0.4444444444444444,\"#bd3786\"],[0.5555555555555556,\"#d8576b\"],[0.6666666666666666,\"#ed7953\"],[0.7777777777777778,\"#fb9f3a\"],[0.8888888888888888,\"#fdca26\"],[1.0,\"#f0f921\"]]},\"colorway\":[\"#636efa\",\"#EF553B\",\"#00cc96\",\"#ab63fa\",\"#FFA15A\",\"#19d3f3\",\"#FF6692\",\"#B6E880\",\"#FF97FF\",\"#FECB52\"],\"font\":{\"color\":\"#2a3f5f\"},\"geo\":{\"bgcolor\":\"white\",\"lakecolor\":\"white\",\"landcolor\":\"#E5ECF6\",\"showlakes\":true,\"showland\":true,\"subunitcolor\":\"white\"},\"hoverlabel\":{\"align\":\"left\"},\"hovermode\":\"closest\",\"mapbox\":{\"style\":\"light\"},\"paper_bgcolor\":\"white\",\"plot_bgcolor\":\"#E5ECF6\",\"polar\":{\"angularaxis\":{\"gridcolor\":\"white\",\"linecolor\":\"white\",\"ticks\":\"\"},\"bgcolor\":\"#E5ECF6\",\"radialaxis\":{\"gridcolor\":\"white\",\"linecolor\":\"white\",\"ticks\":\"\"}},\"scene\":{\"xaxis\":{\"backgroundcolor\":\"#E5ECF6\",\"gridcolor\":\"white\",\"gridwidth\":2,\"linecolor\":\"white\",\"showbackground\":true,\"ticks\":\"\",\"zerolinecolor\":\"white\"},\"yaxis\":{\"backgroundcolor\":\"#E5ECF6\",\"gridcolor\":\"white\",\"gridwidth\":2,\"linecolor\":\"white\",\"showbackground\":true,\"ticks\":\"\",\"zerolinecolor\":\"white\"},\"zaxis\":{\"backgroundcolor\":\"#E5ECF6\",\"gridcolor\":\"white\",\"gridwidth\":2,\"linecolor\":\"white\",\"showbackground\":true,\"ticks\":\"\",\"zerolinecolor\":\"white\"}},\"shapedefaults\":{\"line\":{\"color\":\"#2a3f5f\"}},\"ternary\":{\"aaxis\":{\"gridcolor\":\"white\",\"linecolor\":\"white\",\"ticks\":\"\"},\"baxis\":{\"gridcolor\":\"white\",\"linecolor\":\"white\",\"ticks\":\"\"},\"bgcolor\":\"#E5ECF6\",\"caxis\":{\"gridcolor\":\"white\",\"linecolor\":\"white\",\"ticks\":\"\"}},\"title\":{\"x\":0.05},\"xaxis\":{\"automargin\":true,\"gridcolor\":\"white\",\"linecolor\":\"white\",\"ticks\":\"\",\"title\":{\"standoff\":15},\"zerolinecolor\":\"white\",\"zerolinewidth\":2},\"yaxis\":{\"automargin\":true,\"gridcolor\":\"white\",\"linecolor\":\"white\",\"ticks\":\"\",\"title\":{\"standoff\":15},\"zerolinecolor\":\"white\",\"zerolinewidth\":2}}},\"xaxis\":{\"rangeslider\":{\"visible\":false}},\"title\":{\"text\":\"B3\"}},                        {\"responsive\": true}                    ).then(function(){\n",
              "                            \n",
              "var gd = document.getElementById('6ccb7711-f9b2-49f3-b1d4-1153df3bd8fd');\n",
              "var x = new MutationObserver(function (mutations, observer) {{\n",
              "        var display = window.getComputedStyle(gd).display;\n",
              "        if (!display || display === 'none') {{\n",
              "            console.log([gd, 'removed!']);\n",
              "            Plotly.purge(gd);\n",
              "            observer.disconnect();\n",
              "        }}\n",
              "}});\n",
              "\n",
              "// Listen for the removal of the full notebook cells\n",
              "var notebookContainer = gd.closest('#notebook-container');\n",
              "if (notebookContainer) {{\n",
              "    x.observe(notebookContainer, {childList: true});\n",
              "}}\n",
              "\n",
              "// Listen for the clearing of the current output cell\n",
              "var outputEl = gd.closest('.output');\n",
              "if (outputEl) {{\n",
              "    x.observe(outputEl, {childList: true});\n",
              "}}\n",
              "\n",
              "                        })                };                            </script>        </div>\n",
              "</body>\n",
              "</html>"
            ]
          },
          "metadata": {}
        },
        {
          "output_type": "display_data",
          "data": {
            "text/html": [
              "<html>\n",
              "<head><meta charset=\"utf-8\" /></head>\n",
              "<body>\n",
              "    <div>            <script src=\"https://cdnjs.cloudflare.com/ajax/libs/mathjax/2.7.5/MathJax.js?config=TeX-AMS-MML_SVG\"></script><script type=\"text/javascript\">if (window.MathJax) {MathJax.Hub.Config({SVG: {font: \"STIX-Web\"}});}</script>                <script type=\"text/javascript\">window.PlotlyConfig = {MathJaxConfig: 'local'};</script>\n",
              "        <script src=\"https://cdn.plot.ly/plotly-2.8.3.min.js\"></script>                <div id=\"776cf925-8c34-4e06-a61c-0eb3ff88ea05\" class=\"plotly-graph-div\" style=\"height:525px; width:100%;\"></div>            <script type=\"text/javascript\">                                    window.PLOTLYENV=window.PLOTLYENV || {};                                    if (document.getElementById(\"776cf925-8c34-4e06-a61c-0eb3ff88ea05\")) {                    Plotly.newPlot(                        \"776cf925-8c34-4e06-a61c-0eb3ff88ea05\",                        [{\"close\":[16.600000381469727,16.600000381469727,16.5,16.420000076293945,16.280000686645508,16.100000381469727,16.1200008392334,15.90999984741211,15.65999984741211,15.539999961853027,15.649999618530273,15.399999618530273,15.710000038146973,15.420000076293945,15.34000015258789,14.970000267028809,14.949999809265137,15.079999923706055,14.9399995803833,14.720000267028809,14.380000114440918,14.40999984741211,14.239999771118164,14.289999961853027,14.239999771118164,14.420000076293945,14.470000267028809,14.25,14.210000038146973,13.9399995803833,13.630000114440918,13.75,13.859999656677246,14.329999923706055,14.100000381469727,14.270000457763672,14.15999984741211,14.3100004196167,14.279999732971191,14.359999656677246,14.420000076293945,14.470000267028809],\"high\":[16.850000381469727,16.770000457763672,16.610000610351562,16.6200008392334,16.399999618530273,16.290000915527344,16.290000915527344,16.010000228881836,15.829999923706055,15.800000190734863,15.819999694824219,15.5600004196167,15.890000343322754,15.729999542236328,15.489999771118164,15.420000076293945,15.140000343322754,15.149999618530273,15.3100004196167,15.029999732971191,14.579999923706055,14.520000457763672,14.390000343322754,14.329999923706055,14.369999885559082,14.510000228881836,14.59000015258789,14.4399995803833,14.380000114440918,14.229999542236328,13.8100004196167,13.859999656677246,14.020000457763672,14.34000015258789,14.350000381469727,14.3100004196167,14.319999694824219,14.430000305175781,14.470000267028809,14.390000343322754,14.4399995803833,14.670000076293945],\"low\":[16.600000381469727,16.360000610351562,16.420000076293945,16.3700008392334,16.209999084472656,16.020000457763672,15.949999809265137,15.739999771118164,15.550000190734863,15.40999984741211,15.5,15.170000076293945,15.40999984741211,15.350000381469727,15.25,14.960000038146973,14.859999656677246,14.869999885559082,14.829999923706055,14.65999984741211,14.300000190734863,14.100000381469727,14.229999542236328,14.039999961853027,14.119999885559082,14.300000190734863,14.34000015258789,14.15999984741211,14.029999732971191,13.920000076293945,13.529999732971191,13.550000190734863,13.720000267028809,13.859999656677246,14.039999961853027,13.970000267028809,14.079999923706055,14.210000038146973,14.199999809265137,14.239999771118164,14.109999656677246,14.34000015258789],\"name\":\"BBDC3\",\"open\":[16.75,16.770000457763672,16.59000015258789,16.5,16.34000015258789,16.1200008392334,16.1200008392334,15.949999809265137,15.75,15.640000343322754,15.710000038146973,15.4399995803833,15.40999984741211,15.609999656677246,15.420000076293945,15.369999885559082,15.140000343322754,14.960000038146973,15.180000305175781,15.020000457763672,14.569999694824219,14.319999694824219,14.390000343322754,14.130000114440918,14.279999732971191,14.359999656677246,14.479999542236328,14.369999885559082,14.260000228881836,14.130000114440918,13.8100004196167,13.729999542236328,13.829999923706055,13.899999618530273,14.260000228881836,14.029999732971191,14.319999694824219,14.25,14.350000381469727,14.3100004196167,14.319999694824219,14.399999618530273],\"x\":[\"2022-06-01T00:00:00\",\"2022-06-02T00:00:00\",\"2022-06-03T00:00:00\",\"2022-06-06T00:00:00\",\"2022-06-07T00:00:00\",\"2022-06-08T00:00:00\",\"2022-06-09T00:00:00\",\"2022-06-10T00:00:00\",\"2022-06-13T00:00:00\",\"2022-06-14T00:00:00\",\"2022-06-15T00:00:00\",\"2022-06-17T00:00:00\",\"2022-06-20T00:00:00\",\"2022-06-21T00:00:00\",\"2022-06-22T00:00:00\",\"2022-06-23T00:00:00\",\"2022-06-24T00:00:00\",\"2022-06-27T00:00:00\",\"2022-06-28T00:00:00\",\"2022-06-29T00:00:00\",\"2022-06-30T00:00:00\",\"2022-07-01T00:00:00\",\"2022-07-04T00:00:00\",\"2022-07-05T00:00:00\",\"2022-07-06T00:00:00\",\"2022-07-07T00:00:00\",\"2022-07-08T00:00:00\",\"2022-07-11T00:00:00\",\"2022-07-12T00:00:00\",\"2022-07-13T00:00:00\",\"2022-07-14T00:00:00\",\"2022-07-15T00:00:00\",\"2022-07-18T00:00:00\",\"2022-07-19T00:00:00\",\"2022-07-20T00:00:00\",\"2022-07-21T00:00:00\",\"2022-07-22T00:00:00\",\"2022-07-25T00:00:00\",\"2022-07-26T00:00:00\",\"2022-07-27T00:00:00\",\"2022-07-28T00:00:00\",\"2022-07-29T00:00:00\"],\"type\":\"candlestick\"}],                        {\"template\":{\"data\":{\"bar\":[{\"error_x\":{\"color\":\"#2a3f5f\"},\"error_y\":{\"color\":\"#2a3f5f\"},\"marker\":{\"line\":{\"color\":\"#E5ECF6\",\"width\":0.5},\"pattern\":{\"fillmode\":\"overlay\",\"size\":10,\"solidity\":0.2}},\"type\":\"bar\"}],\"barpolar\":[{\"marker\":{\"line\":{\"color\":\"#E5ECF6\",\"width\":0.5},\"pattern\":{\"fillmode\":\"overlay\",\"size\":10,\"solidity\":0.2}},\"type\":\"barpolar\"}],\"carpet\":[{\"aaxis\":{\"endlinecolor\":\"#2a3f5f\",\"gridcolor\":\"white\",\"linecolor\":\"white\",\"minorgridcolor\":\"white\",\"startlinecolor\":\"#2a3f5f\"},\"baxis\":{\"endlinecolor\":\"#2a3f5f\",\"gridcolor\":\"white\",\"linecolor\":\"white\",\"minorgridcolor\":\"white\",\"startlinecolor\":\"#2a3f5f\"},\"type\":\"carpet\"}],\"choropleth\":[{\"colorbar\":{\"outlinewidth\":0,\"ticks\":\"\"},\"type\":\"choropleth\"}],\"contour\":[{\"colorbar\":{\"outlinewidth\":0,\"ticks\":\"\"},\"colorscale\":[[0.0,\"#0d0887\"],[0.1111111111111111,\"#46039f\"],[0.2222222222222222,\"#7201a8\"],[0.3333333333333333,\"#9c179e\"],[0.4444444444444444,\"#bd3786\"],[0.5555555555555556,\"#d8576b\"],[0.6666666666666666,\"#ed7953\"],[0.7777777777777778,\"#fb9f3a\"],[0.8888888888888888,\"#fdca26\"],[1.0,\"#f0f921\"]],\"type\":\"contour\"}],\"contourcarpet\":[{\"colorbar\":{\"outlinewidth\":0,\"ticks\":\"\"},\"type\":\"contourcarpet\"}],\"heatmap\":[{\"colorbar\":{\"outlinewidth\":0,\"ticks\":\"\"},\"colorscale\":[[0.0,\"#0d0887\"],[0.1111111111111111,\"#46039f\"],[0.2222222222222222,\"#7201a8\"],[0.3333333333333333,\"#9c179e\"],[0.4444444444444444,\"#bd3786\"],[0.5555555555555556,\"#d8576b\"],[0.6666666666666666,\"#ed7953\"],[0.7777777777777778,\"#fb9f3a\"],[0.8888888888888888,\"#fdca26\"],[1.0,\"#f0f921\"]],\"type\":\"heatmap\"}],\"heatmapgl\":[{\"colorbar\":{\"outlinewidth\":0,\"ticks\":\"\"},\"colorscale\":[[0.0,\"#0d0887\"],[0.1111111111111111,\"#46039f\"],[0.2222222222222222,\"#7201a8\"],[0.3333333333333333,\"#9c179e\"],[0.4444444444444444,\"#bd3786\"],[0.5555555555555556,\"#d8576b\"],[0.6666666666666666,\"#ed7953\"],[0.7777777777777778,\"#fb9f3a\"],[0.8888888888888888,\"#fdca26\"],[1.0,\"#f0f921\"]],\"type\":\"heatmapgl\"}],\"histogram\":[{\"marker\":{\"pattern\":{\"fillmode\":\"overlay\",\"size\":10,\"solidity\":0.2}},\"type\":\"histogram\"}],\"histogram2d\":[{\"colorbar\":{\"outlinewidth\":0,\"ticks\":\"\"},\"colorscale\":[[0.0,\"#0d0887\"],[0.1111111111111111,\"#46039f\"],[0.2222222222222222,\"#7201a8\"],[0.3333333333333333,\"#9c179e\"],[0.4444444444444444,\"#bd3786\"],[0.5555555555555556,\"#d8576b\"],[0.6666666666666666,\"#ed7953\"],[0.7777777777777778,\"#fb9f3a\"],[0.8888888888888888,\"#fdca26\"],[1.0,\"#f0f921\"]],\"type\":\"histogram2d\"}],\"histogram2dcontour\":[{\"colorbar\":{\"outlinewidth\":0,\"ticks\":\"\"},\"colorscale\":[[0.0,\"#0d0887\"],[0.1111111111111111,\"#46039f\"],[0.2222222222222222,\"#7201a8\"],[0.3333333333333333,\"#9c179e\"],[0.4444444444444444,\"#bd3786\"],[0.5555555555555556,\"#d8576b\"],[0.6666666666666666,\"#ed7953\"],[0.7777777777777778,\"#fb9f3a\"],[0.8888888888888888,\"#fdca26\"],[1.0,\"#f0f921\"]],\"type\":\"histogram2dcontour\"}],\"mesh3d\":[{\"colorbar\":{\"outlinewidth\":0,\"ticks\":\"\"},\"type\":\"mesh3d\"}],\"parcoords\":[{\"line\":{\"colorbar\":{\"outlinewidth\":0,\"ticks\":\"\"}},\"type\":\"parcoords\"}],\"pie\":[{\"automargin\":true,\"type\":\"pie\"}],\"scatter\":[{\"marker\":{\"colorbar\":{\"outlinewidth\":0,\"ticks\":\"\"}},\"type\":\"scatter\"}],\"scatter3d\":[{\"line\":{\"colorbar\":{\"outlinewidth\":0,\"ticks\":\"\"}},\"marker\":{\"colorbar\":{\"outlinewidth\":0,\"ticks\":\"\"}},\"type\":\"scatter3d\"}],\"scattercarpet\":[{\"marker\":{\"colorbar\":{\"outlinewidth\":0,\"ticks\":\"\"}},\"type\":\"scattercarpet\"}],\"scattergeo\":[{\"marker\":{\"colorbar\":{\"outlinewidth\":0,\"ticks\":\"\"}},\"type\":\"scattergeo\"}],\"scattergl\":[{\"marker\":{\"colorbar\":{\"outlinewidth\":0,\"ticks\":\"\"}},\"type\":\"scattergl\"}],\"scattermapbox\":[{\"marker\":{\"colorbar\":{\"outlinewidth\":0,\"ticks\":\"\"}},\"type\":\"scattermapbox\"}],\"scatterpolar\":[{\"marker\":{\"colorbar\":{\"outlinewidth\":0,\"ticks\":\"\"}},\"type\":\"scatterpolar\"}],\"scatterpolargl\":[{\"marker\":{\"colorbar\":{\"outlinewidth\":0,\"ticks\":\"\"}},\"type\":\"scatterpolargl\"}],\"scatterternary\":[{\"marker\":{\"colorbar\":{\"outlinewidth\":0,\"ticks\":\"\"}},\"type\":\"scatterternary\"}],\"surface\":[{\"colorbar\":{\"outlinewidth\":0,\"ticks\":\"\"},\"colorscale\":[[0.0,\"#0d0887\"],[0.1111111111111111,\"#46039f\"],[0.2222222222222222,\"#7201a8\"],[0.3333333333333333,\"#9c179e\"],[0.4444444444444444,\"#bd3786\"],[0.5555555555555556,\"#d8576b\"],[0.6666666666666666,\"#ed7953\"],[0.7777777777777778,\"#fb9f3a\"],[0.8888888888888888,\"#fdca26\"],[1.0,\"#f0f921\"]],\"type\":\"surface\"}],\"table\":[{\"cells\":{\"fill\":{\"color\":\"#EBF0F8\"},\"line\":{\"color\":\"white\"}},\"header\":{\"fill\":{\"color\":\"#C8D4E3\"},\"line\":{\"color\":\"white\"}},\"type\":\"table\"}]},\"layout\":{\"annotationdefaults\":{\"arrowcolor\":\"#2a3f5f\",\"arrowhead\":0,\"arrowwidth\":1},\"autotypenumbers\":\"strict\",\"coloraxis\":{\"colorbar\":{\"outlinewidth\":0,\"ticks\":\"\"}},\"colorscale\":{\"diverging\":[[0,\"#8e0152\"],[0.1,\"#c51b7d\"],[0.2,\"#de77ae\"],[0.3,\"#f1b6da\"],[0.4,\"#fde0ef\"],[0.5,\"#f7f7f7\"],[0.6,\"#e6f5d0\"],[0.7,\"#b8e186\"],[0.8,\"#7fbc41\"],[0.9,\"#4d9221\"],[1,\"#276419\"]],\"sequential\":[[0.0,\"#0d0887\"],[0.1111111111111111,\"#46039f\"],[0.2222222222222222,\"#7201a8\"],[0.3333333333333333,\"#9c179e\"],[0.4444444444444444,\"#bd3786\"],[0.5555555555555556,\"#d8576b\"],[0.6666666666666666,\"#ed7953\"],[0.7777777777777778,\"#fb9f3a\"],[0.8888888888888888,\"#fdca26\"],[1.0,\"#f0f921\"]],\"sequentialminus\":[[0.0,\"#0d0887\"],[0.1111111111111111,\"#46039f\"],[0.2222222222222222,\"#7201a8\"],[0.3333333333333333,\"#9c179e\"],[0.4444444444444444,\"#bd3786\"],[0.5555555555555556,\"#d8576b\"],[0.6666666666666666,\"#ed7953\"],[0.7777777777777778,\"#fb9f3a\"],[0.8888888888888888,\"#fdca26\"],[1.0,\"#f0f921\"]]},\"colorway\":[\"#636efa\",\"#EF553B\",\"#00cc96\",\"#ab63fa\",\"#FFA15A\",\"#19d3f3\",\"#FF6692\",\"#B6E880\",\"#FF97FF\",\"#FECB52\"],\"font\":{\"color\":\"#2a3f5f\"},\"geo\":{\"bgcolor\":\"white\",\"lakecolor\":\"white\",\"landcolor\":\"#E5ECF6\",\"showlakes\":true,\"showland\":true,\"subunitcolor\":\"white\"},\"hoverlabel\":{\"align\":\"left\"},\"hovermode\":\"closest\",\"mapbox\":{\"style\":\"light\"},\"paper_bgcolor\":\"white\",\"plot_bgcolor\":\"#E5ECF6\",\"polar\":{\"angularaxis\":{\"gridcolor\":\"white\",\"linecolor\":\"white\",\"ticks\":\"\"},\"bgcolor\":\"#E5ECF6\",\"radialaxis\":{\"gridcolor\":\"white\",\"linecolor\":\"white\",\"ticks\":\"\"}},\"scene\":{\"xaxis\":{\"backgroundcolor\":\"#E5ECF6\",\"gridcolor\":\"white\",\"gridwidth\":2,\"linecolor\":\"white\",\"showbackground\":true,\"ticks\":\"\",\"zerolinecolor\":\"white\"},\"yaxis\":{\"backgroundcolor\":\"#E5ECF6\",\"gridcolor\":\"white\",\"gridwidth\":2,\"linecolor\":\"white\",\"showbackground\":true,\"ticks\":\"\",\"zerolinecolor\":\"white\"},\"zaxis\":{\"backgroundcolor\":\"#E5ECF6\",\"gridcolor\":\"white\",\"gridwidth\":2,\"linecolor\":\"white\",\"showbackground\":true,\"ticks\":\"\",\"zerolinecolor\":\"white\"}},\"shapedefaults\":{\"line\":{\"color\":\"#2a3f5f\"}},\"ternary\":{\"aaxis\":{\"gridcolor\":\"white\",\"linecolor\":\"white\",\"ticks\":\"\"},\"baxis\":{\"gridcolor\":\"white\",\"linecolor\":\"white\",\"ticks\":\"\"},\"bgcolor\":\"#E5ECF6\",\"caxis\":{\"gridcolor\":\"white\",\"linecolor\":\"white\",\"ticks\":\"\"}},\"title\":{\"x\":0.05},\"xaxis\":{\"automargin\":true,\"gridcolor\":\"white\",\"linecolor\":\"white\",\"ticks\":\"\",\"title\":{\"standoff\":15},\"zerolinecolor\":\"white\",\"zerolinewidth\":2},\"yaxis\":{\"automargin\":true,\"gridcolor\":\"white\",\"linecolor\":\"white\",\"ticks\":\"\",\"title\":{\"standoff\":15},\"zerolinecolor\":\"white\",\"zerolinewidth\":2}}},\"xaxis\":{\"rangeslider\":{\"visible\":false}},\"title\":{\"text\":\"Bradesco\"}},                        {\"responsive\": true}                    ).then(function(){\n",
              "                            \n",
              "var gd = document.getElementById('776cf925-8c34-4e06-a61c-0eb3ff88ea05');\n",
              "var x = new MutationObserver(function (mutations, observer) {{\n",
              "        var display = window.getComputedStyle(gd).display;\n",
              "        if (!display || display === 'none') {{\n",
              "            console.log([gd, 'removed!']);\n",
              "            Plotly.purge(gd);\n",
              "            observer.disconnect();\n",
              "        }}\n",
              "}});\n",
              "\n",
              "// Listen for the removal of the full notebook cells\n",
              "var notebookContainer = gd.closest('#notebook-container');\n",
              "if (notebookContainer) {{\n",
              "    x.observe(notebookContainer, {childList: true});\n",
              "}}\n",
              "\n",
              "// Listen for the clearing of the current output cell\n",
              "var outputEl = gd.closest('.output');\n",
              "if (outputEl) {{\n",
              "    x.observe(outputEl, {childList: true});\n",
              "}}\n",
              "\n",
              "                        })                };                            </script>        </div>\n",
              "</body>\n",
              "</html>"
            ]
          },
          "metadata": {}
        },
        {
          "output_type": "display_data",
          "data": {
            "text/html": [
              "<html>\n",
              "<head><meta charset=\"utf-8\" /></head>\n",
              "<body>\n",
              "    <div>            <script src=\"https://cdnjs.cloudflare.com/ajax/libs/mathjax/2.7.5/MathJax.js?config=TeX-AMS-MML_SVG\"></script><script type=\"text/javascript\">if (window.MathJax) {MathJax.Hub.Config({SVG: {font: \"STIX-Web\"}});}</script>                <script type=\"text/javascript\">window.PlotlyConfig = {MathJaxConfig: 'local'};</script>\n",
              "        <script src=\"https://cdn.plot.ly/plotly-2.8.3.min.js\"></script>                <div id=\"2dd2c787-d61f-4bbf-bc83-5cba62d403a4\" class=\"plotly-graph-div\" style=\"height:525px; width:100%;\"></div>            <script type=\"text/javascript\">                                    window.PLOTLYENV=window.PLOTLYENV || {};                                    if (document.getElementById(\"2dd2c787-d61f-4bbf-bc83-5cba62d403a4\")) {                    Plotly.newPlot(                        \"2dd2c787-d61f-4bbf-bc83-5cba62d403a4\",                        [{\"close\":[7.329999923706055,7.409999847412109,7.269999980926514,7.210000038146973,7.099999904632568,7.059999942779541,7.050000190734863,6.949999809265137,6.889999866485596,6.900000095367432,7.019999980926514,7.0,7.010000228881836,6.880000114440918,7.03000020980835,6.880000114440918,6.929999828338623,7.039999961853027,6.989999771118164,6.849999904632568,6.829999923706055,6.980000019073486,6.869999885559082,6.800000190734863,6.769999980926514,6.789999961853027,6.849999904632568,6.840000152587891,6.900000095367432,6.800000190734863,6.820000171661377,6.920000076293945,6.820000171661377,6.829999923706055,6.849999904632568,6.849999904632568,6.900000095367432,7.010000228881836,6.849999904632568,6.880000114440918,6.940000057220459,6.989999771118164],\"high\":[7.380000114440918,7.46999979019165,7.449999809265137,7.320000171661377,7.239999771118164,7.139999866485596,7.179999828338623,7.03000020980835,6.96999979019165,7.019999980926514,7.079999923706055,7.0,7.059999942779541,7.079999923706055,7.059999942779541,7.079999923706055,6.96999979019165,7.130000114440918,7.130000114440918,7.050000190734863,6.920000076293945,7.070000171661377,6.989999771118164,6.880000114440918,6.800000190734863,6.849999904632568,6.920000076293945,6.909999847412109,6.960000038146973,6.929999828338623,6.849999904632568,6.949999809265137,6.989999771118164,6.880000114440918,6.909999847412109,6.900000095367432,6.940000057220459,7.03000020980835,7.079999923706055,6.929999828338623,6.980000019073486,7.03000020980835],\"low\":[7.260000228881836,7.300000190734863,7.269999980926514,7.159999847412109,7.059999942779541,7.03000020980835,7.010000228881836,6.900000095367432,6.809999942779541,6.829999923706055,6.929999828338623,6.869999885559082,6.920000076293945,6.880000114440918,6.869999885559082,6.869999885559082,6.809999942779541,6.869999885559082,6.920000076293945,6.820000171661377,6.71999979019165,6.800000190734863,6.860000133514404,6.710000038146973,6.690000057220459,6.760000228881836,6.800000190734863,6.78000020980835,6.840000152587891,6.800000190734863,6.730000019073486,6.760000228881836,6.800000190734863,6.809999942779541,6.789999961853027,6.760000228881836,6.809999942779541,6.929999828338623,6.800000190734863,6.800000190734863,6.869999885559082,6.849999904632568],\"name\":\"CPLE6\",\"open\":[7.369999885559082,7.389999866485596,7.429999828338623,7.289999961853027,7.21999979019165,7.079999923706055,7.059999942779541,7.010000228881836,6.860000133514404,6.920000076293945,6.949999809265137,6.940000057220459,7.010000228881836,7.050000190734863,6.900000095367432,7.070000171661377,6.920000076293945,6.940000057220459,7.090000152587891,7.019999980926514,6.800000190734863,6.829999923706055,6.980000019073486,6.849999904632568,6.769999980926514,6.800000190734863,6.820000171661377,6.820000171661377,6.869999885559082,6.869999885559082,6.769999980926514,6.829999923706055,6.940000057220459,6.860000133514404,6.809999942779541,6.840000152587891,6.869999885559082,6.929999828338623,7.039999961853027,6.880000114440918,6.889999866485596,6.929999828338623],\"x\":[\"2022-06-01T00:00:00\",\"2022-06-02T00:00:00\",\"2022-06-03T00:00:00\",\"2022-06-06T00:00:00\",\"2022-06-07T00:00:00\",\"2022-06-08T00:00:00\",\"2022-06-09T00:00:00\",\"2022-06-10T00:00:00\",\"2022-06-13T00:00:00\",\"2022-06-14T00:00:00\",\"2022-06-15T00:00:00\",\"2022-06-17T00:00:00\",\"2022-06-20T00:00:00\",\"2022-06-21T00:00:00\",\"2022-06-22T00:00:00\",\"2022-06-23T00:00:00\",\"2022-06-24T00:00:00\",\"2022-06-27T00:00:00\",\"2022-06-28T00:00:00\",\"2022-06-29T00:00:00\",\"2022-06-30T00:00:00\",\"2022-07-01T00:00:00\",\"2022-07-04T00:00:00\",\"2022-07-05T00:00:00\",\"2022-07-06T00:00:00\",\"2022-07-07T00:00:00\",\"2022-07-08T00:00:00\",\"2022-07-11T00:00:00\",\"2022-07-12T00:00:00\",\"2022-07-13T00:00:00\",\"2022-07-14T00:00:00\",\"2022-07-15T00:00:00\",\"2022-07-18T00:00:00\",\"2022-07-19T00:00:00\",\"2022-07-20T00:00:00\",\"2022-07-21T00:00:00\",\"2022-07-22T00:00:00\",\"2022-07-25T00:00:00\",\"2022-07-26T00:00:00\",\"2022-07-27T00:00:00\",\"2022-07-28T00:00:00\",\"2022-07-29T00:00:00\"],\"type\":\"candlestick\"}],                        {\"template\":{\"data\":{\"bar\":[{\"error_x\":{\"color\":\"#2a3f5f\"},\"error_y\":{\"color\":\"#2a3f5f\"},\"marker\":{\"line\":{\"color\":\"#E5ECF6\",\"width\":0.5},\"pattern\":{\"fillmode\":\"overlay\",\"size\":10,\"solidity\":0.2}},\"type\":\"bar\"}],\"barpolar\":[{\"marker\":{\"line\":{\"color\":\"#E5ECF6\",\"width\":0.5},\"pattern\":{\"fillmode\":\"overlay\",\"size\":10,\"solidity\":0.2}},\"type\":\"barpolar\"}],\"carpet\":[{\"aaxis\":{\"endlinecolor\":\"#2a3f5f\",\"gridcolor\":\"white\",\"linecolor\":\"white\",\"minorgridcolor\":\"white\",\"startlinecolor\":\"#2a3f5f\"},\"baxis\":{\"endlinecolor\":\"#2a3f5f\",\"gridcolor\":\"white\",\"linecolor\":\"white\",\"minorgridcolor\":\"white\",\"startlinecolor\":\"#2a3f5f\"},\"type\":\"carpet\"}],\"choropleth\":[{\"colorbar\":{\"outlinewidth\":0,\"ticks\":\"\"},\"type\":\"choropleth\"}],\"contour\":[{\"colorbar\":{\"outlinewidth\":0,\"ticks\":\"\"},\"colorscale\":[[0.0,\"#0d0887\"],[0.1111111111111111,\"#46039f\"],[0.2222222222222222,\"#7201a8\"],[0.3333333333333333,\"#9c179e\"],[0.4444444444444444,\"#bd3786\"],[0.5555555555555556,\"#d8576b\"],[0.6666666666666666,\"#ed7953\"],[0.7777777777777778,\"#fb9f3a\"],[0.8888888888888888,\"#fdca26\"],[1.0,\"#f0f921\"]],\"type\":\"contour\"}],\"contourcarpet\":[{\"colorbar\":{\"outlinewidth\":0,\"ticks\":\"\"},\"type\":\"contourcarpet\"}],\"heatmap\":[{\"colorbar\":{\"outlinewidth\":0,\"ticks\":\"\"},\"colorscale\":[[0.0,\"#0d0887\"],[0.1111111111111111,\"#46039f\"],[0.2222222222222222,\"#7201a8\"],[0.3333333333333333,\"#9c179e\"],[0.4444444444444444,\"#bd3786\"],[0.5555555555555556,\"#d8576b\"],[0.6666666666666666,\"#ed7953\"],[0.7777777777777778,\"#fb9f3a\"],[0.8888888888888888,\"#fdca26\"],[1.0,\"#f0f921\"]],\"type\":\"heatmap\"}],\"heatmapgl\":[{\"colorbar\":{\"outlinewidth\":0,\"ticks\":\"\"},\"colorscale\":[[0.0,\"#0d0887\"],[0.1111111111111111,\"#46039f\"],[0.2222222222222222,\"#7201a8\"],[0.3333333333333333,\"#9c179e\"],[0.4444444444444444,\"#bd3786\"],[0.5555555555555556,\"#d8576b\"],[0.6666666666666666,\"#ed7953\"],[0.7777777777777778,\"#fb9f3a\"],[0.8888888888888888,\"#fdca26\"],[1.0,\"#f0f921\"]],\"type\":\"heatmapgl\"}],\"histogram\":[{\"marker\":{\"pattern\":{\"fillmode\":\"overlay\",\"size\":10,\"solidity\":0.2}},\"type\":\"histogram\"}],\"histogram2d\":[{\"colorbar\":{\"outlinewidth\":0,\"ticks\":\"\"},\"colorscale\":[[0.0,\"#0d0887\"],[0.1111111111111111,\"#46039f\"],[0.2222222222222222,\"#7201a8\"],[0.3333333333333333,\"#9c179e\"],[0.4444444444444444,\"#bd3786\"],[0.5555555555555556,\"#d8576b\"],[0.6666666666666666,\"#ed7953\"],[0.7777777777777778,\"#fb9f3a\"],[0.8888888888888888,\"#fdca26\"],[1.0,\"#f0f921\"]],\"type\":\"histogram2d\"}],\"histogram2dcontour\":[{\"colorbar\":{\"outlinewidth\":0,\"ticks\":\"\"},\"colorscale\":[[0.0,\"#0d0887\"],[0.1111111111111111,\"#46039f\"],[0.2222222222222222,\"#7201a8\"],[0.3333333333333333,\"#9c179e\"],[0.4444444444444444,\"#bd3786\"],[0.5555555555555556,\"#d8576b\"],[0.6666666666666666,\"#ed7953\"],[0.7777777777777778,\"#fb9f3a\"],[0.8888888888888888,\"#fdca26\"],[1.0,\"#f0f921\"]],\"type\":\"histogram2dcontour\"}],\"mesh3d\":[{\"colorbar\":{\"outlinewidth\":0,\"ticks\":\"\"},\"type\":\"mesh3d\"}],\"parcoords\":[{\"line\":{\"colorbar\":{\"outlinewidth\":0,\"ticks\":\"\"}},\"type\":\"parcoords\"}],\"pie\":[{\"automargin\":true,\"type\":\"pie\"}],\"scatter\":[{\"marker\":{\"colorbar\":{\"outlinewidth\":0,\"ticks\":\"\"}},\"type\":\"scatter\"}],\"scatter3d\":[{\"line\":{\"colorbar\":{\"outlinewidth\":0,\"ticks\":\"\"}},\"marker\":{\"colorbar\":{\"outlinewidth\":0,\"ticks\":\"\"}},\"type\":\"scatter3d\"}],\"scattercarpet\":[{\"marker\":{\"colorbar\":{\"outlinewidth\":0,\"ticks\":\"\"}},\"type\":\"scattercarpet\"}],\"scattergeo\":[{\"marker\":{\"colorbar\":{\"outlinewidth\":0,\"ticks\":\"\"}},\"type\":\"scattergeo\"}],\"scattergl\":[{\"marker\":{\"colorbar\":{\"outlinewidth\":0,\"ticks\":\"\"}},\"type\":\"scattergl\"}],\"scattermapbox\":[{\"marker\":{\"colorbar\":{\"outlinewidth\":0,\"ticks\":\"\"}},\"type\":\"scattermapbox\"}],\"scatterpolar\":[{\"marker\":{\"colorbar\":{\"outlinewidth\":0,\"ticks\":\"\"}},\"type\":\"scatterpolar\"}],\"scatterpolargl\":[{\"marker\":{\"colorbar\":{\"outlinewidth\":0,\"ticks\":\"\"}},\"type\":\"scatterpolargl\"}],\"scatterternary\":[{\"marker\":{\"colorbar\":{\"outlinewidth\":0,\"ticks\":\"\"}},\"type\":\"scatterternary\"}],\"surface\":[{\"colorbar\":{\"outlinewidth\":0,\"ticks\":\"\"},\"colorscale\":[[0.0,\"#0d0887\"],[0.1111111111111111,\"#46039f\"],[0.2222222222222222,\"#7201a8\"],[0.3333333333333333,\"#9c179e\"],[0.4444444444444444,\"#bd3786\"],[0.5555555555555556,\"#d8576b\"],[0.6666666666666666,\"#ed7953\"],[0.7777777777777778,\"#fb9f3a\"],[0.8888888888888888,\"#fdca26\"],[1.0,\"#f0f921\"]],\"type\":\"surface\"}],\"table\":[{\"cells\":{\"fill\":{\"color\":\"#EBF0F8\"},\"line\":{\"color\":\"white\"}},\"header\":{\"fill\":{\"color\":\"#C8D4E3\"},\"line\":{\"color\":\"white\"}},\"type\":\"table\"}]},\"layout\":{\"annotationdefaults\":{\"arrowcolor\":\"#2a3f5f\",\"arrowhead\":0,\"arrowwidth\":1},\"autotypenumbers\":\"strict\",\"coloraxis\":{\"colorbar\":{\"outlinewidth\":0,\"ticks\":\"\"}},\"colorscale\":{\"diverging\":[[0,\"#8e0152\"],[0.1,\"#c51b7d\"],[0.2,\"#de77ae\"],[0.3,\"#f1b6da\"],[0.4,\"#fde0ef\"],[0.5,\"#f7f7f7\"],[0.6,\"#e6f5d0\"],[0.7,\"#b8e186\"],[0.8,\"#7fbc41\"],[0.9,\"#4d9221\"],[1,\"#276419\"]],\"sequential\":[[0.0,\"#0d0887\"],[0.1111111111111111,\"#46039f\"],[0.2222222222222222,\"#7201a8\"],[0.3333333333333333,\"#9c179e\"],[0.4444444444444444,\"#bd3786\"],[0.5555555555555556,\"#d8576b\"],[0.6666666666666666,\"#ed7953\"],[0.7777777777777778,\"#fb9f3a\"],[0.8888888888888888,\"#fdca26\"],[1.0,\"#f0f921\"]],\"sequentialminus\":[[0.0,\"#0d0887\"],[0.1111111111111111,\"#46039f\"],[0.2222222222222222,\"#7201a8\"],[0.3333333333333333,\"#9c179e\"],[0.4444444444444444,\"#bd3786\"],[0.5555555555555556,\"#d8576b\"],[0.6666666666666666,\"#ed7953\"],[0.7777777777777778,\"#fb9f3a\"],[0.8888888888888888,\"#fdca26\"],[1.0,\"#f0f921\"]]},\"colorway\":[\"#636efa\",\"#EF553B\",\"#00cc96\",\"#ab63fa\",\"#FFA15A\",\"#19d3f3\",\"#FF6692\",\"#B6E880\",\"#FF97FF\",\"#FECB52\"],\"font\":{\"color\":\"#2a3f5f\"},\"geo\":{\"bgcolor\":\"white\",\"lakecolor\":\"white\",\"landcolor\":\"#E5ECF6\",\"showlakes\":true,\"showland\":true,\"subunitcolor\":\"white\"},\"hoverlabel\":{\"align\":\"left\"},\"hovermode\":\"closest\",\"mapbox\":{\"style\":\"light\"},\"paper_bgcolor\":\"white\",\"plot_bgcolor\":\"#E5ECF6\",\"polar\":{\"angularaxis\":{\"gridcolor\":\"white\",\"linecolor\":\"white\",\"ticks\":\"\"},\"bgcolor\":\"#E5ECF6\",\"radialaxis\":{\"gridcolor\":\"white\",\"linecolor\":\"white\",\"ticks\":\"\"}},\"scene\":{\"xaxis\":{\"backgroundcolor\":\"#E5ECF6\",\"gridcolor\":\"white\",\"gridwidth\":2,\"linecolor\":\"white\",\"showbackground\":true,\"ticks\":\"\",\"zerolinecolor\":\"white\"},\"yaxis\":{\"backgroundcolor\":\"#E5ECF6\",\"gridcolor\":\"white\",\"gridwidth\":2,\"linecolor\":\"white\",\"showbackground\":true,\"ticks\":\"\",\"zerolinecolor\":\"white\"},\"zaxis\":{\"backgroundcolor\":\"#E5ECF6\",\"gridcolor\":\"white\",\"gridwidth\":2,\"linecolor\":\"white\",\"showbackground\":true,\"ticks\":\"\",\"zerolinecolor\":\"white\"}},\"shapedefaults\":{\"line\":{\"color\":\"#2a3f5f\"}},\"ternary\":{\"aaxis\":{\"gridcolor\":\"white\",\"linecolor\":\"white\",\"ticks\":\"\"},\"baxis\":{\"gridcolor\":\"white\",\"linecolor\":\"white\",\"ticks\":\"\"},\"bgcolor\":\"#E5ECF6\",\"caxis\":{\"gridcolor\":\"white\",\"linecolor\":\"white\",\"ticks\":\"\"}},\"title\":{\"x\":0.05},\"xaxis\":{\"automargin\":true,\"gridcolor\":\"white\",\"linecolor\":\"white\",\"ticks\":\"\",\"title\":{\"standoff\":15},\"zerolinecolor\":\"white\",\"zerolinewidth\":2},\"yaxis\":{\"automargin\":true,\"gridcolor\":\"white\",\"linecolor\":\"white\",\"ticks\":\"\",\"title\":{\"standoff\":15},\"zerolinecolor\":\"white\",\"zerolinewidth\":2}}},\"xaxis\":{\"rangeslider\":{\"visible\":false}},\"title\":{\"text\":\"Copel\"}},                        {\"responsive\": true}                    ).then(function(){\n",
              "                            \n",
              "var gd = document.getElementById('2dd2c787-d61f-4bbf-bc83-5cba62d403a4');\n",
              "var x = new MutationObserver(function (mutations, observer) {{\n",
              "        var display = window.getComputedStyle(gd).display;\n",
              "        if (!display || display === 'none') {{\n",
              "            console.log([gd, 'removed!']);\n",
              "            Plotly.purge(gd);\n",
              "            observer.disconnect();\n",
              "        }}\n",
              "}});\n",
              "\n",
              "// Listen for the removal of the full notebook cells\n",
              "var notebookContainer = gd.closest('#notebook-container');\n",
              "if (notebookContainer) {{\n",
              "    x.observe(notebookContainer, {childList: true});\n",
              "}}\n",
              "\n",
              "// Listen for the clearing of the current output cell\n",
              "var outputEl = gd.closest('.output');\n",
              "if (outputEl) {{\n",
              "    x.observe(outputEl, {childList: true});\n",
              "}}\n",
              "\n",
              "                        })                };                            </script>        </div>\n",
              "</body>\n",
              "</html>"
            ]
          },
          "metadata": {}
        },
        {
          "output_type": "display_data",
          "data": {
            "text/html": [
              "<html>\n",
              "<head><meta charset=\"utf-8\" /></head>\n",
              "<body>\n",
              "    <div>            <script src=\"https://cdnjs.cloudflare.com/ajax/libs/mathjax/2.7.5/MathJax.js?config=TeX-AMS-MML_SVG\"></script><script type=\"text/javascript\">if (window.MathJax) {MathJax.Hub.Config({SVG: {font: \"STIX-Web\"}});}</script>                <script type=\"text/javascript\">window.PlotlyConfig = {MathJaxConfig: 'local'};</script>\n",
              "        <script src=\"https://cdn.plot.ly/plotly-2.8.3.min.js\"></script>                <div id=\"2c451374-c4db-4215-8061-1a9f6dc4b964\" class=\"plotly-graph-div\" style=\"height:525px; width:100%;\"></div>            <script type=\"text/javascript\">                                    window.PLOTLYENV=window.PLOTLYENV || {};                                    if (document.getElementById(\"2c451374-c4db-4215-8061-1a9f6dc4b964\")) {                    Plotly.newPlot(                        \"2c451374-c4db-4215-8061-1a9f6dc4b964\",                        [{\"close\":[9.489999771118164,9.529999732971191,9.390000343322754,9.430000305175781,9.329999923706055,9.199999809265137,9.069999694824219,8.890000343322754,8.75,8.720000267028809,8.789999961853027,8.630000114440918,8.899999618530273,8.819999694824219,8.859999656677246,8.670000076293945,8.630000114440918,8.739999771118164,8.630000114440918,8.539999961853027,8.34000015258789,8.319999694824219,8.25,8.260000228881836,8.25,8.34000015258789,8.390000343322754,8.220000267028809,8.199999809265137,8.119999885559082,8.100000381469727,8.350000381469727,8.430000305175781,8.59000015258789,8.460000038146973,8.5600004196167,8.470000267028809,8.539999961853027,8.520000457763672,8.5600004196167,8.649999618530273,8.630000114440918],\"high\":[9.600000381469727,9.609999656677246,9.529999732971191,9.470000267028809,9.4399995803833,9.350000381469727,9.289999961853027,9.050000190734863,8.850000381469727,8.84000015258789,8.880000114440918,8.880000114440918,9.010000228881836,9.0,8.890000343322754,8.890000343322754,8.770000457763672,8.760000228881836,8.829999923706055,8.729999542236328,8.510000228881836,8.34000015258789,8.329999923706055,8.289999961853027,8.34000015258789,8.430000305175781,8.470000267028809,8.34000015258789,8.279999732971191,8.260000228881836,8.170000076293945,8.390000343322754,8.539999961853027,8.640000343322754,8.59000015258789,8.579999923706055,8.600000381469727,8.59000015258789,8.609999656677246,8.59000015258789,8.680000305175781,8.760000228881836],\"low\":[9.460000038146973,9.420000076293945,9.369999885559082,9.34000015258789,9.300000190734863,9.149999618530273,9.069999694824219,8.850000381469727,8.6899995803833,8.649999618530273,8.739999771118164,8.569999694824219,8.630000114440918,8.760000228881836,8.739999771118164,8.670000076293945,8.630000114440918,8.649999618530273,8.569999694824219,8.529999732971191,8.3100004196167,8.199999809265137,8.199999809265137,8.130000114440918,8.15999984741211,8.279999732971191,8.329999923706055,8.149999618530273,8.130000114440918,8.100000381469727,7.960000038146973,8.050000190734863,8.279999732971191,8.420000076293945,8.4399995803833,8.380000114440918,8.390000343322754,8.489999771118164,8.4399995803833,8.489999771118164,8.5,8.59000015258789],\"name\":\"ITSA4\",\"open\":[9.579999923706055,9.529999732971191,9.479999542236328,9.430000305175781,9.369999885559082,9.289999961853027,9.239999771118164,9.010000228881836,8.829999923706055,8.770000457763672,8.800000190734863,8.710000038146973,8.65999984741211,8.970000267028809,8.789999961853027,8.859999656677246,8.720000267028809,8.680000305175781,8.789999961853027,8.6899995803833,8.5,8.289999961853027,8.319999694824219,8.199999809265137,8.270000457763672,8.289999961853027,8.399999618530273,8.319999694824219,8.220000267028809,8.170000076293945,8.069999694824219,8.109999656677246,8.289999961853027,8.479999542236328,8.579999923706055,8.470000267028809,8.579999923706055,8.5,8.520000457763672,8.539999961853027,8.539999961853027,8.649999618530273],\"x\":[\"2022-06-01T00:00:00\",\"2022-06-02T00:00:00\",\"2022-06-03T00:00:00\",\"2022-06-06T00:00:00\",\"2022-06-07T00:00:00\",\"2022-06-08T00:00:00\",\"2022-06-09T00:00:00\",\"2022-06-10T00:00:00\",\"2022-06-13T00:00:00\",\"2022-06-14T00:00:00\",\"2022-06-15T00:00:00\",\"2022-06-17T00:00:00\",\"2022-06-20T00:00:00\",\"2022-06-21T00:00:00\",\"2022-06-22T00:00:00\",\"2022-06-23T00:00:00\",\"2022-06-24T00:00:00\",\"2022-06-27T00:00:00\",\"2022-06-28T00:00:00\",\"2022-06-29T00:00:00\",\"2022-06-30T00:00:00\",\"2022-07-01T00:00:00\",\"2022-07-04T00:00:00\",\"2022-07-05T00:00:00\",\"2022-07-06T00:00:00\",\"2022-07-07T00:00:00\",\"2022-07-08T00:00:00\",\"2022-07-11T00:00:00\",\"2022-07-12T00:00:00\",\"2022-07-13T00:00:00\",\"2022-07-14T00:00:00\",\"2022-07-15T00:00:00\",\"2022-07-18T00:00:00\",\"2022-07-19T00:00:00\",\"2022-07-20T00:00:00\",\"2022-07-21T00:00:00\",\"2022-07-22T00:00:00\",\"2022-07-25T00:00:00\",\"2022-07-26T00:00:00\",\"2022-07-27T00:00:00\",\"2022-07-28T00:00:00\",\"2022-07-29T00:00:00\"],\"type\":\"candlestick\"}],                        {\"template\":{\"data\":{\"bar\":[{\"error_x\":{\"color\":\"#2a3f5f\"},\"error_y\":{\"color\":\"#2a3f5f\"},\"marker\":{\"line\":{\"color\":\"#E5ECF6\",\"width\":0.5},\"pattern\":{\"fillmode\":\"overlay\",\"size\":10,\"solidity\":0.2}},\"type\":\"bar\"}],\"barpolar\":[{\"marker\":{\"line\":{\"color\":\"#E5ECF6\",\"width\":0.5},\"pattern\":{\"fillmode\":\"overlay\",\"size\":10,\"solidity\":0.2}},\"type\":\"barpolar\"}],\"carpet\":[{\"aaxis\":{\"endlinecolor\":\"#2a3f5f\",\"gridcolor\":\"white\",\"linecolor\":\"white\",\"minorgridcolor\":\"white\",\"startlinecolor\":\"#2a3f5f\"},\"baxis\":{\"endlinecolor\":\"#2a3f5f\",\"gridcolor\":\"white\",\"linecolor\":\"white\",\"minorgridcolor\":\"white\",\"startlinecolor\":\"#2a3f5f\"},\"type\":\"carpet\"}],\"choropleth\":[{\"colorbar\":{\"outlinewidth\":0,\"ticks\":\"\"},\"type\":\"choropleth\"}],\"contour\":[{\"colorbar\":{\"outlinewidth\":0,\"ticks\":\"\"},\"colorscale\":[[0.0,\"#0d0887\"],[0.1111111111111111,\"#46039f\"],[0.2222222222222222,\"#7201a8\"],[0.3333333333333333,\"#9c179e\"],[0.4444444444444444,\"#bd3786\"],[0.5555555555555556,\"#d8576b\"],[0.6666666666666666,\"#ed7953\"],[0.7777777777777778,\"#fb9f3a\"],[0.8888888888888888,\"#fdca26\"],[1.0,\"#f0f921\"]],\"type\":\"contour\"}],\"contourcarpet\":[{\"colorbar\":{\"outlinewidth\":0,\"ticks\":\"\"},\"type\":\"contourcarpet\"}],\"heatmap\":[{\"colorbar\":{\"outlinewidth\":0,\"ticks\":\"\"},\"colorscale\":[[0.0,\"#0d0887\"],[0.1111111111111111,\"#46039f\"],[0.2222222222222222,\"#7201a8\"],[0.3333333333333333,\"#9c179e\"],[0.4444444444444444,\"#bd3786\"],[0.5555555555555556,\"#d8576b\"],[0.6666666666666666,\"#ed7953\"],[0.7777777777777778,\"#fb9f3a\"],[0.8888888888888888,\"#fdca26\"],[1.0,\"#f0f921\"]],\"type\":\"heatmap\"}],\"heatmapgl\":[{\"colorbar\":{\"outlinewidth\":0,\"ticks\":\"\"},\"colorscale\":[[0.0,\"#0d0887\"],[0.1111111111111111,\"#46039f\"],[0.2222222222222222,\"#7201a8\"],[0.3333333333333333,\"#9c179e\"],[0.4444444444444444,\"#bd3786\"],[0.5555555555555556,\"#d8576b\"],[0.6666666666666666,\"#ed7953\"],[0.7777777777777778,\"#fb9f3a\"],[0.8888888888888888,\"#fdca26\"],[1.0,\"#f0f921\"]],\"type\":\"heatmapgl\"}],\"histogram\":[{\"marker\":{\"pattern\":{\"fillmode\":\"overlay\",\"size\":10,\"solidity\":0.2}},\"type\":\"histogram\"}],\"histogram2d\":[{\"colorbar\":{\"outlinewidth\":0,\"ticks\":\"\"},\"colorscale\":[[0.0,\"#0d0887\"],[0.1111111111111111,\"#46039f\"],[0.2222222222222222,\"#7201a8\"],[0.3333333333333333,\"#9c179e\"],[0.4444444444444444,\"#bd3786\"],[0.5555555555555556,\"#d8576b\"],[0.6666666666666666,\"#ed7953\"],[0.7777777777777778,\"#fb9f3a\"],[0.8888888888888888,\"#fdca26\"],[1.0,\"#f0f921\"]],\"type\":\"histogram2d\"}],\"histogram2dcontour\":[{\"colorbar\":{\"outlinewidth\":0,\"ticks\":\"\"},\"colorscale\":[[0.0,\"#0d0887\"],[0.1111111111111111,\"#46039f\"],[0.2222222222222222,\"#7201a8\"],[0.3333333333333333,\"#9c179e\"],[0.4444444444444444,\"#bd3786\"],[0.5555555555555556,\"#d8576b\"],[0.6666666666666666,\"#ed7953\"],[0.7777777777777778,\"#fb9f3a\"],[0.8888888888888888,\"#fdca26\"],[1.0,\"#f0f921\"]],\"type\":\"histogram2dcontour\"}],\"mesh3d\":[{\"colorbar\":{\"outlinewidth\":0,\"ticks\":\"\"},\"type\":\"mesh3d\"}],\"parcoords\":[{\"line\":{\"colorbar\":{\"outlinewidth\":0,\"ticks\":\"\"}},\"type\":\"parcoords\"}],\"pie\":[{\"automargin\":true,\"type\":\"pie\"}],\"scatter\":[{\"marker\":{\"colorbar\":{\"outlinewidth\":0,\"ticks\":\"\"}},\"type\":\"scatter\"}],\"scatter3d\":[{\"line\":{\"colorbar\":{\"outlinewidth\":0,\"ticks\":\"\"}},\"marker\":{\"colorbar\":{\"outlinewidth\":0,\"ticks\":\"\"}},\"type\":\"scatter3d\"}],\"scattercarpet\":[{\"marker\":{\"colorbar\":{\"outlinewidth\":0,\"ticks\":\"\"}},\"type\":\"scattercarpet\"}],\"scattergeo\":[{\"marker\":{\"colorbar\":{\"outlinewidth\":0,\"ticks\":\"\"}},\"type\":\"scattergeo\"}],\"scattergl\":[{\"marker\":{\"colorbar\":{\"outlinewidth\":0,\"ticks\":\"\"}},\"type\":\"scattergl\"}],\"scattermapbox\":[{\"marker\":{\"colorbar\":{\"outlinewidth\":0,\"ticks\":\"\"}},\"type\":\"scattermapbox\"}],\"scatterpolar\":[{\"marker\":{\"colorbar\":{\"outlinewidth\":0,\"ticks\":\"\"}},\"type\":\"scatterpolar\"}],\"scatterpolargl\":[{\"marker\":{\"colorbar\":{\"outlinewidth\":0,\"ticks\":\"\"}},\"type\":\"scatterpolargl\"}],\"scatterternary\":[{\"marker\":{\"colorbar\":{\"outlinewidth\":0,\"ticks\":\"\"}},\"type\":\"scatterternary\"}],\"surface\":[{\"colorbar\":{\"outlinewidth\":0,\"ticks\":\"\"},\"colorscale\":[[0.0,\"#0d0887\"],[0.1111111111111111,\"#46039f\"],[0.2222222222222222,\"#7201a8\"],[0.3333333333333333,\"#9c179e\"],[0.4444444444444444,\"#bd3786\"],[0.5555555555555556,\"#d8576b\"],[0.6666666666666666,\"#ed7953\"],[0.7777777777777778,\"#fb9f3a\"],[0.8888888888888888,\"#fdca26\"],[1.0,\"#f0f921\"]],\"type\":\"surface\"}],\"table\":[{\"cells\":{\"fill\":{\"color\":\"#EBF0F8\"},\"line\":{\"color\":\"white\"}},\"header\":{\"fill\":{\"color\":\"#C8D4E3\"},\"line\":{\"color\":\"white\"}},\"type\":\"table\"}]},\"layout\":{\"annotationdefaults\":{\"arrowcolor\":\"#2a3f5f\",\"arrowhead\":0,\"arrowwidth\":1},\"autotypenumbers\":\"strict\",\"coloraxis\":{\"colorbar\":{\"outlinewidth\":0,\"ticks\":\"\"}},\"colorscale\":{\"diverging\":[[0,\"#8e0152\"],[0.1,\"#c51b7d\"],[0.2,\"#de77ae\"],[0.3,\"#f1b6da\"],[0.4,\"#fde0ef\"],[0.5,\"#f7f7f7\"],[0.6,\"#e6f5d0\"],[0.7,\"#b8e186\"],[0.8,\"#7fbc41\"],[0.9,\"#4d9221\"],[1,\"#276419\"]],\"sequential\":[[0.0,\"#0d0887\"],[0.1111111111111111,\"#46039f\"],[0.2222222222222222,\"#7201a8\"],[0.3333333333333333,\"#9c179e\"],[0.4444444444444444,\"#bd3786\"],[0.5555555555555556,\"#d8576b\"],[0.6666666666666666,\"#ed7953\"],[0.7777777777777778,\"#fb9f3a\"],[0.8888888888888888,\"#fdca26\"],[1.0,\"#f0f921\"]],\"sequentialminus\":[[0.0,\"#0d0887\"],[0.1111111111111111,\"#46039f\"],[0.2222222222222222,\"#7201a8\"],[0.3333333333333333,\"#9c179e\"],[0.4444444444444444,\"#bd3786\"],[0.5555555555555556,\"#d8576b\"],[0.6666666666666666,\"#ed7953\"],[0.7777777777777778,\"#fb9f3a\"],[0.8888888888888888,\"#fdca26\"],[1.0,\"#f0f921\"]]},\"colorway\":[\"#636efa\",\"#EF553B\",\"#00cc96\",\"#ab63fa\",\"#FFA15A\",\"#19d3f3\",\"#FF6692\",\"#B6E880\",\"#FF97FF\",\"#FECB52\"],\"font\":{\"color\":\"#2a3f5f\"},\"geo\":{\"bgcolor\":\"white\",\"lakecolor\":\"white\",\"landcolor\":\"#E5ECF6\",\"showlakes\":true,\"showland\":true,\"subunitcolor\":\"white\"},\"hoverlabel\":{\"align\":\"left\"},\"hovermode\":\"closest\",\"mapbox\":{\"style\":\"light\"},\"paper_bgcolor\":\"white\",\"plot_bgcolor\":\"#E5ECF6\",\"polar\":{\"angularaxis\":{\"gridcolor\":\"white\",\"linecolor\":\"white\",\"ticks\":\"\"},\"bgcolor\":\"#E5ECF6\",\"radialaxis\":{\"gridcolor\":\"white\",\"linecolor\":\"white\",\"ticks\":\"\"}},\"scene\":{\"xaxis\":{\"backgroundcolor\":\"#E5ECF6\",\"gridcolor\":\"white\",\"gridwidth\":2,\"linecolor\":\"white\",\"showbackground\":true,\"ticks\":\"\",\"zerolinecolor\":\"white\"},\"yaxis\":{\"backgroundcolor\":\"#E5ECF6\",\"gridcolor\":\"white\",\"gridwidth\":2,\"linecolor\":\"white\",\"showbackground\":true,\"ticks\":\"\",\"zerolinecolor\":\"white\"},\"zaxis\":{\"backgroundcolor\":\"#E5ECF6\",\"gridcolor\":\"white\",\"gridwidth\":2,\"linecolor\":\"white\",\"showbackground\":true,\"ticks\":\"\",\"zerolinecolor\":\"white\"}},\"shapedefaults\":{\"line\":{\"color\":\"#2a3f5f\"}},\"ternary\":{\"aaxis\":{\"gridcolor\":\"white\",\"linecolor\":\"white\",\"ticks\":\"\"},\"baxis\":{\"gridcolor\":\"white\",\"linecolor\":\"white\",\"ticks\":\"\"},\"bgcolor\":\"#E5ECF6\",\"caxis\":{\"gridcolor\":\"white\",\"linecolor\":\"white\",\"ticks\":\"\"}},\"title\":{\"x\":0.05},\"xaxis\":{\"automargin\":true,\"gridcolor\":\"white\",\"linecolor\":\"white\",\"ticks\":\"\",\"title\":{\"standoff\":15},\"zerolinecolor\":\"white\",\"zerolinewidth\":2},\"yaxis\":{\"automargin\":true,\"gridcolor\":\"white\",\"linecolor\":\"white\",\"ticks\":\"\",\"title\":{\"standoff\":15},\"zerolinecolor\":\"white\",\"zerolinewidth\":2}}},\"xaxis\":{\"rangeslider\":{\"visible\":false}},\"title\":{\"text\":\"Ita\\u00fasa\"}},                        {\"responsive\": true}                    ).then(function(){\n",
              "                            \n",
              "var gd = document.getElementById('2c451374-c4db-4215-8061-1a9f6dc4b964');\n",
              "var x = new MutationObserver(function (mutations, observer) {{\n",
              "        var display = window.getComputedStyle(gd).display;\n",
              "        if (!display || display === 'none') {{\n",
              "            console.log([gd, 'removed!']);\n",
              "            Plotly.purge(gd);\n",
              "            observer.disconnect();\n",
              "        }}\n",
              "}});\n",
              "\n",
              "// Listen for the removal of the full notebook cells\n",
              "var notebookContainer = gd.closest('#notebook-container');\n",
              "if (notebookContainer) {{\n",
              "    x.observe(notebookContainer, {childList: true});\n",
              "}}\n",
              "\n",
              "// Listen for the clearing of the current output cell\n",
              "var outputEl = gd.closest('.output');\n",
              "if (outputEl) {{\n",
              "    x.observe(outputEl, {childList: true});\n",
              "}}\n",
              "\n",
              "                        })                };                            </script>        </div>\n",
              "</body>\n",
              "</html>"
            ]
          },
          "metadata": {}
        }
      ]
    },
    {
      "cell_type": "code",
      "source": [
        "# com o interval de horas apareceram saltos muito grandes\n",
        "# na aula 1 do módulo 3 do python para traders ele mostra algo que talvez eu possa usar\n",
        "\n",
        "fig_b32 = go.Figure()\n",
        "fig_b32.add_trace(go.Candlestick(name='B3SA3',x=df_b3.index, close=df_b3['Close'], open=df_b3['Open'],high=df_b3['High'], low=df_b3['Low']))\n",
        "fig_b32.update_xaxes(\n",
        "                          rangebreaks=[\n",
        "    dict(bounds=[\"sat\", \"mon\"]), # não mostrar finais de semana (usei mon igual a aula, mesmo achando que está errado, porque o resultado é melhor)\n",
        "    dict(values=[\"2022-06-16\",\"2022-07-09\"]) # não mostrar corpus christi e 9 de julho\n",
        "    ])\n",
        "fig_b32.update_layout(xaxis_rangeslider_visible=False, title_text = 'B3')\n",
        "fig_b32.show()\n",
        "\n",
        "# VERSÃO ANTERIOR (HORAS):\n",
        "# quando eu coloquei para ignorar corpus christi e 9 de julho deu algum problema e os condlesticks ficaram sobrepostos\n",
        "# dia 16 que deu problema, tirei\n",
        "\n",
        "# VERSÃO ATUAL (DIA): não deu problema de sobreposição"
      ],
      "metadata": {
        "colab": {
          "base_uri": "https://localhost:8080/",
          "height": 542
        },
        "id": "b2CX8OJQMMif",
        "outputId": "c1acb7ed-4647-4ad1-d218-370952360cc0"
      },
      "execution_count": null,
      "outputs": [
        {
          "output_type": "display_data",
          "data": {
            "text/html": [
              "<html>\n",
              "<head><meta charset=\"utf-8\" /></head>\n",
              "<body>\n",
              "    <div>            <script src=\"https://cdnjs.cloudflare.com/ajax/libs/mathjax/2.7.5/MathJax.js?config=TeX-AMS-MML_SVG\"></script><script type=\"text/javascript\">if (window.MathJax) {MathJax.Hub.Config({SVG: {font: \"STIX-Web\"}});}</script>                <script type=\"text/javascript\">window.PlotlyConfig = {MathJaxConfig: 'local'};</script>\n",
              "        <script src=\"https://cdn.plot.ly/plotly-2.8.3.min.js\"></script>                <div id=\"4a00677e-1ae3-4cfa-8ad3-b03b2c8c5975\" class=\"plotly-graph-div\" style=\"height:525px; width:100%;\"></div>            <script type=\"text/javascript\">                                    window.PLOTLYENV=window.PLOTLYENV || {};                                    if (document.getElementById(\"4a00677e-1ae3-4cfa-8ad3-b03b2c8c5975\")) {                    Plotly.newPlot(                        \"4a00677e-1ae3-4cfa-8ad3-b03b2c8c5975\",                        [{\"close\":[12.5,12.890000343322754,12.670000076293945,12.279999732971191,11.890000343322754,11.789999961853027,11.949999809265137,11.65999984741211,11.539999961853027,11.489999771118164,11.609999656677246,11.449999809265137,11.550000190734863,11.489999771118164,11.649999618530273,11.579999923706055,11.600000381469727,11.600000381469727,11.270000457763672,10.949999809265137,10.960000038146973,11.1899995803833,11.079999923706055,11.270000457763672,11.109999656677246,11.359999656677246,11.4399995803833,10.770000457763672,10.539999961853027,10.279999732971191,10.279999732971191,10.029999732971191,10.270000457763672,10.210000038146973,10.539999961853027,11.010000228881836,10.720000267028809,10.729999542236328,10.729999542236328,10.880000114440918,11.260000228881836,11.09000015258789],\"high\":[12.829999923706055,12.989999771118164,12.920000076293945,12.789999961853027,12.25,12.050000190734863,12.15999984741211,11.9399995803833,11.680000305175781,11.619999885559082,11.800000190734863,11.489999771118164,11.619999885559082,11.770000457763672,11.670000076293945,11.899999618530273,11.819999694824219,11.760000228881836,11.819999694824219,11.300000190734863,11.079999923706055,11.3100004196167,11.350000381469727,11.34000015258789,11.430000305175781,11.420000076293945,11.529999732971191,11.220000267028809,10.819999694824219,10.609999656677246,10.359999656677246,10.329999923706055,10.4399995803833,10.5,10.59000015258789,11.069999694824219,11.180000305175781,10.789999961853027,10.850000381469727,10.930000305175781,11.369999885559082,11.359999656677246],\"low\":[12.489999771118164,12.59000015258789,12.59000015258789,12.220000267028809,11.8100004196167,11.739999771118164,11.760000228881836,11.649999618530273,11.3100004196167,11.380000114440918,11.449999809265137,11.170000076293945,11.289999961853027,11.399999618530273,11.350000381469727,11.550000190734863,11.539999961853027,11.510000228881836,11.180000305175781,10.890000343322754,10.619999885559082,10.729999542236328,11.020000457763672,10.9399995803833,10.90999984741211,11.15999984741211,11.319999694824219,10.6899995803833,10.420000076293945,10.229999542236328,9.710000038146973,9.979999542236328,10.020000457763672,10.130000114440918,10.140000343322754,10.510000228881836,10.619999885559082,10.489999771118164,10.649999618530273,10.619999885559082,10.739999771118164,11.050000190734863],\"name\":\"B3SA3\",\"open\":[12.770000457763672,12.59000015258789,12.850000381469727,12.770000457763672,12.170000076293945,11.800000190734863,11.779999732971191,11.800000190734863,11.489999771118164,11.529999732971191,11.710000038146973,11.399999618530273,11.460000038146973,11.600000381469727,11.479999542236328,11.630000114440918,11.739999771118164,11.680000305175781,11.640000343322754,11.279999732971191,10.630000114440918,10.75,11.109999656677246,11.0,11.229999542236328,11.289999961853027,11.390000343322754,11.210000038146973,10.819999694824219,10.420000076293945,10.069999694824219,10.210000038146973,10.09000015258789,10.270000457763672,10.1899995803833,10.5600004196167,11.079999923706055,10.789999961853027,10.720000267028809,10.869999885559082,10.75,11.359999656677246],\"x\":[\"2022-06-01T00:00:00\",\"2022-06-02T00:00:00\",\"2022-06-03T00:00:00\",\"2022-06-06T00:00:00\",\"2022-06-07T00:00:00\",\"2022-06-08T00:00:00\",\"2022-06-09T00:00:00\",\"2022-06-10T00:00:00\",\"2022-06-13T00:00:00\",\"2022-06-14T00:00:00\",\"2022-06-15T00:00:00\",\"2022-06-17T00:00:00\",\"2022-06-20T00:00:00\",\"2022-06-21T00:00:00\",\"2022-06-22T00:00:00\",\"2022-06-23T00:00:00\",\"2022-06-24T00:00:00\",\"2022-06-27T00:00:00\",\"2022-06-28T00:00:00\",\"2022-06-29T00:00:00\",\"2022-06-30T00:00:00\",\"2022-07-01T00:00:00\",\"2022-07-04T00:00:00\",\"2022-07-05T00:00:00\",\"2022-07-06T00:00:00\",\"2022-07-07T00:00:00\",\"2022-07-08T00:00:00\",\"2022-07-11T00:00:00\",\"2022-07-12T00:00:00\",\"2022-07-13T00:00:00\",\"2022-07-14T00:00:00\",\"2022-07-15T00:00:00\",\"2022-07-18T00:00:00\",\"2022-07-19T00:00:00\",\"2022-07-20T00:00:00\",\"2022-07-21T00:00:00\",\"2022-07-22T00:00:00\",\"2022-07-25T00:00:00\",\"2022-07-26T00:00:00\",\"2022-07-27T00:00:00\",\"2022-07-28T00:00:00\",\"2022-07-29T00:00:00\"],\"type\":\"candlestick\"}],                        {\"template\":{\"data\":{\"bar\":[{\"error_x\":{\"color\":\"#2a3f5f\"},\"error_y\":{\"color\":\"#2a3f5f\"},\"marker\":{\"line\":{\"color\":\"#E5ECF6\",\"width\":0.5},\"pattern\":{\"fillmode\":\"overlay\",\"size\":10,\"solidity\":0.2}},\"type\":\"bar\"}],\"barpolar\":[{\"marker\":{\"line\":{\"color\":\"#E5ECF6\",\"width\":0.5},\"pattern\":{\"fillmode\":\"overlay\",\"size\":10,\"solidity\":0.2}},\"type\":\"barpolar\"}],\"carpet\":[{\"aaxis\":{\"endlinecolor\":\"#2a3f5f\",\"gridcolor\":\"white\",\"linecolor\":\"white\",\"minorgridcolor\":\"white\",\"startlinecolor\":\"#2a3f5f\"},\"baxis\":{\"endlinecolor\":\"#2a3f5f\",\"gridcolor\":\"white\",\"linecolor\":\"white\",\"minorgridcolor\":\"white\",\"startlinecolor\":\"#2a3f5f\"},\"type\":\"carpet\"}],\"choropleth\":[{\"colorbar\":{\"outlinewidth\":0,\"ticks\":\"\"},\"type\":\"choropleth\"}],\"contour\":[{\"colorbar\":{\"outlinewidth\":0,\"ticks\":\"\"},\"colorscale\":[[0.0,\"#0d0887\"],[0.1111111111111111,\"#46039f\"],[0.2222222222222222,\"#7201a8\"],[0.3333333333333333,\"#9c179e\"],[0.4444444444444444,\"#bd3786\"],[0.5555555555555556,\"#d8576b\"],[0.6666666666666666,\"#ed7953\"],[0.7777777777777778,\"#fb9f3a\"],[0.8888888888888888,\"#fdca26\"],[1.0,\"#f0f921\"]],\"type\":\"contour\"}],\"contourcarpet\":[{\"colorbar\":{\"outlinewidth\":0,\"ticks\":\"\"},\"type\":\"contourcarpet\"}],\"heatmap\":[{\"colorbar\":{\"outlinewidth\":0,\"ticks\":\"\"},\"colorscale\":[[0.0,\"#0d0887\"],[0.1111111111111111,\"#46039f\"],[0.2222222222222222,\"#7201a8\"],[0.3333333333333333,\"#9c179e\"],[0.4444444444444444,\"#bd3786\"],[0.5555555555555556,\"#d8576b\"],[0.6666666666666666,\"#ed7953\"],[0.7777777777777778,\"#fb9f3a\"],[0.8888888888888888,\"#fdca26\"],[1.0,\"#f0f921\"]],\"type\":\"heatmap\"}],\"heatmapgl\":[{\"colorbar\":{\"outlinewidth\":0,\"ticks\":\"\"},\"colorscale\":[[0.0,\"#0d0887\"],[0.1111111111111111,\"#46039f\"],[0.2222222222222222,\"#7201a8\"],[0.3333333333333333,\"#9c179e\"],[0.4444444444444444,\"#bd3786\"],[0.5555555555555556,\"#d8576b\"],[0.6666666666666666,\"#ed7953\"],[0.7777777777777778,\"#fb9f3a\"],[0.8888888888888888,\"#fdca26\"],[1.0,\"#f0f921\"]],\"type\":\"heatmapgl\"}],\"histogram\":[{\"marker\":{\"pattern\":{\"fillmode\":\"overlay\",\"size\":10,\"solidity\":0.2}},\"type\":\"histogram\"}],\"histogram2d\":[{\"colorbar\":{\"outlinewidth\":0,\"ticks\":\"\"},\"colorscale\":[[0.0,\"#0d0887\"],[0.1111111111111111,\"#46039f\"],[0.2222222222222222,\"#7201a8\"],[0.3333333333333333,\"#9c179e\"],[0.4444444444444444,\"#bd3786\"],[0.5555555555555556,\"#d8576b\"],[0.6666666666666666,\"#ed7953\"],[0.7777777777777778,\"#fb9f3a\"],[0.8888888888888888,\"#fdca26\"],[1.0,\"#f0f921\"]],\"type\":\"histogram2d\"}],\"histogram2dcontour\":[{\"colorbar\":{\"outlinewidth\":0,\"ticks\":\"\"},\"colorscale\":[[0.0,\"#0d0887\"],[0.1111111111111111,\"#46039f\"],[0.2222222222222222,\"#7201a8\"],[0.3333333333333333,\"#9c179e\"],[0.4444444444444444,\"#bd3786\"],[0.5555555555555556,\"#d8576b\"],[0.6666666666666666,\"#ed7953\"],[0.7777777777777778,\"#fb9f3a\"],[0.8888888888888888,\"#fdca26\"],[1.0,\"#f0f921\"]],\"type\":\"histogram2dcontour\"}],\"mesh3d\":[{\"colorbar\":{\"outlinewidth\":0,\"ticks\":\"\"},\"type\":\"mesh3d\"}],\"parcoords\":[{\"line\":{\"colorbar\":{\"outlinewidth\":0,\"ticks\":\"\"}},\"type\":\"parcoords\"}],\"pie\":[{\"automargin\":true,\"type\":\"pie\"}],\"scatter\":[{\"marker\":{\"colorbar\":{\"outlinewidth\":0,\"ticks\":\"\"}},\"type\":\"scatter\"}],\"scatter3d\":[{\"line\":{\"colorbar\":{\"outlinewidth\":0,\"ticks\":\"\"}},\"marker\":{\"colorbar\":{\"outlinewidth\":0,\"ticks\":\"\"}},\"type\":\"scatter3d\"}],\"scattercarpet\":[{\"marker\":{\"colorbar\":{\"outlinewidth\":0,\"ticks\":\"\"}},\"type\":\"scattercarpet\"}],\"scattergeo\":[{\"marker\":{\"colorbar\":{\"outlinewidth\":0,\"ticks\":\"\"}},\"type\":\"scattergeo\"}],\"scattergl\":[{\"marker\":{\"colorbar\":{\"outlinewidth\":0,\"ticks\":\"\"}},\"type\":\"scattergl\"}],\"scattermapbox\":[{\"marker\":{\"colorbar\":{\"outlinewidth\":0,\"ticks\":\"\"}},\"type\":\"scattermapbox\"}],\"scatterpolar\":[{\"marker\":{\"colorbar\":{\"outlinewidth\":0,\"ticks\":\"\"}},\"type\":\"scatterpolar\"}],\"scatterpolargl\":[{\"marker\":{\"colorbar\":{\"outlinewidth\":0,\"ticks\":\"\"}},\"type\":\"scatterpolargl\"}],\"scatterternary\":[{\"marker\":{\"colorbar\":{\"outlinewidth\":0,\"ticks\":\"\"}},\"type\":\"scatterternary\"}],\"surface\":[{\"colorbar\":{\"outlinewidth\":0,\"ticks\":\"\"},\"colorscale\":[[0.0,\"#0d0887\"],[0.1111111111111111,\"#46039f\"],[0.2222222222222222,\"#7201a8\"],[0.3333333333333333,\"#9c179e\"],[0.4444444444444444,\"#bd3786\"],[0.5555555555555556,\"#d8576b\"],[0.6666666666666666,\"#ed7953\"],[0.7777777777777778,\"#fb9f3a\"],[0.8888888888888888,\"#fdca26\"],[1.0,\"#f0f921\"]],\"type\":\"surface\"}],\"table\":[{\"cells\":{\"fill\":{\"color\":\"#EBF0F8\"},\"line\":{\"color\":\"white\"}},\"header\":{\"fill\":{\"color\":\"#C8D4E3\"},\"line\":{\"color\":\"white\"}},\"type\":\"table\"}]},\"layout\":{\"annotationdefaults\":{\"arrowcolor\":\"#2a3f5f\",\"arrowhead\":0,\"arrowwidth\":1},\"autotypenumbers\":\"strict\",\"coloraxis\":{\"colorbar\":{\"outlinewidth\":0,\"ticks\":\"\"}},\"colorscale\":{\"diverging\":[[0,\"#8e0152\"],[0.1,\"#c51b7d\"],[0.2,\"#de77ae\"],[0.3,\"#f1b6da\"],[0.4,\"#fde0ef\"],[0.5,\"#f7f7f7\"],[0.6,\"#e6f5d0\"],[0.7,\"#b8e186\"],[0.8,\"#7fbc41\"],[0.9,\"#4d9221\"],[1,\"#276419\"]],\"sequential\":[[0.0,\"#0d0887\"],[0.1111111111111111,\"#46039f\"],[0.2222222222222222,\"#7201a8\"],[0.3333333333333333,\"#9c179e\"],[0.4444444444444444,\"#bd3786\"],[0.5555555555555556,\"#d8576b\"],[0.6666666666666666,\"#ed7953\"],[0.7777777777777778,\"#fb9f3a\"],[0.8888888888888888,\"#fdca26\"],[1.0,\"#f0f921\"]],\"sequentialminus\":[[0.0,\"#0d0887\"],[0.1111111111111111,\"#46039f\"],[0.2222222222222222,\"#7201a8\"],[0.3333333333333333,\"#9c179e\"],[0.4444444444444444,\"#bd3786\"],[0.5555555555555556,\"#d8576b\"],[0.6666666666666666,\"#ed7953\"],[0.7777777777777778,\"#fb9f3a\"],[0.8888888888888888,\"#fdca26\"],[1.0,\"#f0f921\"]]},\"colorway\":[\"#636efa\",\"#EF553B\",\"#00cc96\",\"#ab63fa\",\"#FFA15A\",\"#19d3f3\",\"#FF6692\",\"#B6E880\",\"#FF97FF\",\"#FECB52\"],\"font\":{\"color\":\"#2a3f5f\"},\"geo\":{\"bgcolor\":\"white\",\"lakecolor\":\"white\",\"landcolor\":\"#E5ECF6\",\"showlakes\":true,\"showland\":true,\"subunitcolor\":\"white\"},\"hoverlabel\":{\"align\":\"left\"},\"hovermode\":\"closest\",\"mapbox\":{\"style\":\"light\"},\"paper_bgcolor\":\"white\",\"plot_bgcolor\":\"#E5ECF6\",\"polar\":{\"angularaxis\":{\"gridcolor\":\"white\",\"linecolor\":\"white\",\"ticks\":\"\"},\"bgcolor\":\"#E5ECF6\",\"radialaxis\":{\"gridcolor\":\"white\",\"linecolor\":\"white\",\"ticks\":\"\"}},\"scene\":{\"xaxis\":{\"backgroundcolor\":\"#E5ECF6\",\"gridcolor\":\"white\",\"gridwidth\":2,\"linecolor\":\"white\",\"showbackground\":true,\"ticks\":\"\",\"zerolinecolor\":\"white\"},\"yaxis\":{\"backgroundcolor\":\"#E5ECF6\",\"gridcolor\":\"white\",\"gridwidth\":2,\"linecolor\":\"white\",\"showbackground\":true,\"ticks\":\"\",\"zerolinecolor\":\"white\"},\"zaxis\":{\"backgroundcolor\":\"#E5ECF6\",\"gridcolor\":\"white\",\"gridwidth\":2,\"linecolor\":\"white\",\"showbackground\":true,\"ticks\":\"\",\"zerolinecolor\":\"white\"}},\"shapedefaults\":{\"line\":{\"color\":\"#2a3f5f\"}},\"ternary\":{\"aaxis\":{\"gridcolor\":\"white\",\"linecolor\":\"white\",\"ticks\":\"\"},\"baxis\":{\"gridcolor\":\"white\",\"linecolor\":\"white\",\"ticks\":\"\"},\"bgcolor\":\"#E5ECF6\",\"caxis\":{\"gridcolor\":\"white\",\"linecolor\":\"white\",\"ticks\":\"\"}},\"title\":{\"x\":0.05},\"xaxis\":{\"automargin\":true,\"gridcolor\":\"white\",\"linecolor\":\"white\",\"ticks\":\"\",\"title\":{\"standoff\":15},\"zerolinecolor\":\"white\",\"zerolinewidth\":2},\"yaxis\":{\"automargin\":true,\"gridcolor\":\"white\",\"linecolor\":\"white\",\"ticks\":\"\",\"title\":{\"standoff\":15},\"zerolinecolor\":\"white\",\"zerolinewidth\":2}}},\"xaxis\":{\"rangebreaks\":[{\"bounds\":[\"sat\",\"mon\"]},{\"values\":[\"2022-06-16\",\"2022-07-09\"]}],\"rangeslider\":{\"visible\":false}},\"title\":{\"text\":\"B3\"}},                        {\"responsive\": true}                    ).then(function(){\n",
              "                            \n",
              "var gd = document.getElementById('4a00677e-1ae3-4cfa-8ad3-b03b2c8c5975');\n",
              "var x = new MutationObserver(function (mutations, observer) {{\n",
              "        var display = window.getComputedStyle(gd).display;\n",
              "        if (!display || display === 'none') {{\n",
              "            console.log([gd, 'removed!']);\n",
              "            Plotly.purge(gd);\n",
              "            observer.disconnect();\n",
              "        }}\n",
              "}});\n",
              "\n",
              "// Listen for the removal of the full notebook cells\n",
              "var notebookContainer = gd.closest('#notebook-container');\n",
              "if (notebookContainer) {{\n",
              "    x.observe(notebookContainer, {childList: true});\n",
              "}}\n",
              "\n",
              "// Listen for the clearing of the current output cell\n",
              "var outputEl = gd.closest('.output');\n",
              "if (outputEl) {{\n",
              "    x.observe(outputEl, {childList: true});\n",
              "}}\n",
              "\n",
              "                        })                };                            </script>        </div>\n",
              "</body>\n",
              "</html>"
            ]
          },
          "metadata": {}
        }
      ]
    },
    {
      "cell_type": "markdown",
      "source": [
        "####Colocando marcações"
      ],
      "metadata": {
        "id": "14M6YZzRYuWy"
      }
    },
    {
      "cell_type": "code",
      "source": [
        "# vou tentar colocar os pontos de compra e venda com annotations\n",
        "# https://plotly.com/python/reference/layout/annotations/#layout-annotations\n",
        "\n",
        "fig_b32 = go.Figure()\n",
        "fig_b32.add_trace(go.Candlestick(name='B3SA3',x=df_b3.index, close=df_b3['Close'], open=df_b3['Open'],high=df_b3['High'], low=df_b3['Low']))\n",
        "fig_b32.update_xaxes(\n",
        "                          rangebreaks=[\n",
        "    dict(bounds=[\"sat\", \"mon\"]), # não mostrar finais de semana (usei mon igual a aula, mesmo achando que está errado, porque o resultado é melhor)\n",
        "    dict(values=[\"2022-06-16\",\"2022-07-09\"]) # não mostrar corpus christi e 9 de julho\n",
        "    ])\n",
        "fig_b32.add_annotation(text = 'compra', x = '2022-06-17', y = 11.27)\n",
        "fig_b32.update_layout(xaxis_rangeslider_visible=False, title_text = 'B3')\n",
        "fig_b32.show()\n",
        "\n",
        "# ficou esquisito rs, vou tentar descobrir um jeito de colocar um ponto, triângulo, alguma figura que indique a compra"
      ],
      "metadata": {
        "colab": {
          "base_uri": "https://localhost:8080/",
          "height": 542
        },
        "id": "2P6GLAGDiFFE",
        "outputId": "d284f36b-ebb4-44d7-c9dd-899351cb6527"
      },
      "execution_count": null,
      "outputs": [
        {
          "output_type": "display_data",
          "data": {
            "text/html": [
              "<html>\n",
              "<head><meta charset=\"utf-8\" /></head>\n",
              "<body>\n",
              "    <div>            <script src=\"https://cdnjs.cloudflare.com/ajax/libs/mathjax/2.7.5/MathJax.js?config=TeX-AMS-MML_SVG\"></script><script type=\"text/javascript\">if (window.MathJax) {MathJax.Hub.Config({SVG: {font: \"STIX-Web\"}});}</script>                <script type=\"text/javascript\">window.PlotlyConfig = {MathJaxConfig: 'local'};</script>\n",
              "        <script src=\"https://cdn.plot.ly/plotly-2.8.3.min.js\"></script>                <div id=\"fa26dd65-1760-478e-9767-78359d7992d8\" class=\"plotly-graph-div\" style=\"height:525px; width:100%;\"></div>            <script type=\"text/javascript\">                                    window.PLOTLYENV=window.PLOTLYENV || {};                                    if (document.getElementById(\"fa26dd65-1760-478e-9767-78359d7992d8\")) {                    Plotly.newPlot(                        \"fa26dd65-1760-478e-9767-78359d7992d8\",                        [{\"close\":[12.5,12.890000343322754,12.670000076293945,12.279999732971191,11.890000343322754,11.789999961853027,11.949999809265137,11.65999984741211,11.539999961853027,11.489999771118164,11.609999656677246,11.449999809265137,11.550000190734863,11.489999771118164,11.649999618530273,11.579999923706055,11.600000381469727,11.600000381469727,11.270000457763672,10.949999809265137,10.960000038146973,11.1899995803833,11.079999923706055,11.270000457763672,11.109999656677246,11.359999656677246,11.4399995803833,10.770000457763672,10.539999961853027,10.279999732971191,10.279999732971191,10.029999732971191,10.270000457763672,10.210000038146973,10.539999961853027,11.010000228881836,10.720000267028809,10.729999542236328,10.729999542236328,10.880000114440918,11.260000228881836,11.09000015258789],\"high\":[12.829999923706055,12.989999771118164,12.920000076293945,12.789999961853027,12.25,12.050000190734863,12.15999984741211,11.9399995803833,11.680000305175781,11.619999885559082,11.800000190734863,11.489999771118164,11.619999885559082,11.770000457763672,11.670000076293945,11.899999618530273,11.819999694824219,11.760000228881836,11.819999694824219,11.300000190734863,11.079999923706055,11.3100004196167,11.350000381469727,11.34000015258789,11.430000305175781,11.420000076293945,11.529999732971191,11.220000267028809,10.819999694824219,10.609999656677246,10.359999656677246,10.329999923706055,10.4399995803833,10.5,10.59000015258789,11.069999694824219,11.180000305175781,10.789999961853027,10.850000381469727,10.930000305175781,11.369999885559082,11.359999656677246],\"low\":[12.489999771118164,12.59000015258789,12.59000015258789,12.220000267028809,11.8100004196167,11.739999771118164,11.760000228881836,11.649999618530273,11.3100004196167,11.380000114440918,11.449999809265137,11.170000076293945,11.289999961853027,11.399999618530273,11.350000381469727,11.550000190734863,11.539999961853027,11.510000228881836,11.180000305175781,10.890000343322754,10.619999885559082,10.729999542236328,11.020000457763672,10.9399995803833,10.90999984741211,11.15999984741211,11.319999694824219,10.6899995803833,10.420000076293945,10.229999542236328,9.710000038146973,9.979999542236328,10.020000457763672,10.130000114440918,10.140000343322754,10.510000228881836,10.619999885559082,10.489999771118164,10.649999618530273,10.619999885559082,10.739999771118164,11.050000190734863],\"name\":\"B3SA3\",\"open\":[12.770000457763672,12.59000015258789,12.850000381469727,12.770000457763672,12.170000076293945,11.800000190734863,11.779999732971191,11.800000190734863,11.489999771118164,11.529999732971191,11.710000038146973,11.399999618530273,11.460000038146973,11.600000381469727,11.479999542236328,11.630000114440918,11.739999771118164,11.680000305175781,11.640000343322754,11.279999732971191,10.630000114440918,10.75,11.109999656677246,11.0,11.229999542236328,11.289999961853027,11.390000343322754,11.210000038146973,10.819999694824219,10.420000076293945,10.069999694824219,10.210000038146973,10.09000015258789,10.270000457763672,10.1899995803833,10.5600004196167,11.079999923706055,10.789999961853027,10.720000267028809,10.869999885559082,10.75,11.359999656677246],\"x\":[\"2022-06-01T00:00:00\",\"2022-06-02T00:00:00\",\"2022-06-03T00:00:00\",\"2022-06-06T00:00:00\",\"2022-06-07T00:00:00\",\"2022-06-08T00:00:00\",\"2022-06-09T00:00:00\",\"2022-06-10T00:00:00\",\"2022-06-13T00:00:00\",\"2022-06-14T00:00:00\",\"2022-06-15T00:00:00\",\"2022-06-17T00:00:00\",\"2022-06-20T00:00:00\",\"2022-06-21T00:00:00\",\"2022-06-22T00:00:00\",\"2022-06-23T00:00:00\",\"2022-06-24T00:00:00\",\"2022-06-27T00:00:00\",\"2022-06-28T00:00:00\",\"2022-06-29T00:00:00\",\"2022-06-30T00:00:00\",\"2022-07-01T00:00:00\",\"2022-07-04T00:00:00\",\"2022-07-05T00:00:00\",\"2022-07-06T00:00:00\",\"2022-07-07T00:00:00\",\"2022-07-08T00:00:00\",\"2022-07-11T00:00:00\",\"2022-07-12T00:00:00\",\"2022-07-13T00:00:00\",\"2022-07-14T00:00:00\",\"2022-07-15T00:00:00\",\"2022-07-18T00:00:00\",\"2022-07-19T00:00:00\",\"2022-07-20T00:00:00\",\"2022-07-21T00:00:00\",\"2022-07-22T00:00:00\",\"2022-07-25T00:00:00\",\"2022-07-26T00:00:00\",\"2022-07-27T00:00:00\",\"2022-07-28T00:00:00\",\"2022-07-29T00:00:00\"],\"type\":\"candlestick\"}],                        {\"template\":{\"data\":{\"bar\":[{\"error_x\":{\"color\":\"#2a3f5f\"},\"error_y\":{\"color\":\"#2a3f5f\"},\"marker\":{\"line\":{\"color\":\"#E5ECF6\",\"width\":0.5},\"pattern\":{\"fillmode\":\"overlay\",\"size\":10,\"solidity\":0.2}},\"type\":\"bar\"}],\"barpolar\":[{\"marker\":{\"line\":{\"color\":\"#E5ECF6\",\"width\":0.5},\"pattern\":{\"fillmode\":\"overlay\",\"size\":10,\"solidity\":0.2}},\"type\":\"barpolar\"}],\"carpet\":[{\"aaxis\":{\"endlinecolor\":\"#2a3f5f\",\"gridcolor\":\"white\",\"linecolor\":\"white\",\"minorgridcolor\":\"white\",\"startlinecolor\":\"#2a3f5f\"},\"baxis\":{\"endlinecolor\":\"#2a3f5f\",\"gridcolor\":\"white\",\"linecolor\":\"white\",\"minorgridcolor\":\"white\",\"startlinecolor\":\"#2a3f5f\"},\"type\":\"carpet\"}],\"choropleth\":[{\"colorbar\":{\"outlinewidth\":0,\"ticks\":\"\"},\"type\":\"choropleth\"}],\"contour\":[{\"colorbar\":{\"outlinewidth\":0,\"ticks\":\"\"},\"colorscale\":[[0.0,\"#0d0887\"],[0.1111111111111111,\"#46039f\"],[0.2222222222222222,\"#7201a8\"],[0.3333333333333333,\"#9c179e\"],[0.4444444444444444,\"#bd3786\"],[0.5555555555555556,\"#d8576b\"],[0.6666666666666666,\"#ed7953\"],[0.7777777777777778,\"#fb9f3a\"],[0.8888888888888888,\"#fdca26\"],[1.0,\"#f0f921\"]],\"type\":\"contour\"}],\"contourcarpet\":[{\"colorbar\":{\"outlinewidth\":0,\"ticks\":\"\"},\"type\":\"contourcarpet\"}],\"heatmap\":[{\"colorbar\":{\"outlinewidth\":0,\"ticks\":\"\"},\"colorscale\":[[0.0,\"#0d0887\"],[0.1111111111111111,\"#46039f\"],[0.2222222222222222,\"#7201a8\"],[0.3333333333333333,\"#9c179e\"],[0.4444444444444444,\"#bd3786\"],[0.5555555555555556,\"#d8576b\"],[0.6666666666666666,\"#ed7953\"],[0.7777777777777778,\"#fb9f3a\"],[0.8888888888888888,\"#fdca26\"],[1.0,\"#f0f921\"]],\"type\":\"heatmap\"}],\"heatmapgl\":[{\"colorbar\":{\"outlinewidth\":0,\"ticks\":\"\"},\"colorscale\":[[0.0,\"#0d0887\"],[0.1111111111111111,\"#46039f\"],[0.2222222222222222,\"#7201a8\"],[0.3333333333333333,\"#9c179e\"],[0.4444444444444444,\"#bd3786\"],[0.5555555555555556,\"#d8576b\"],[0.6666666666666666,\"#ed7953\"],[0.7777777777777778,\"#fb9f3a\"],[0.8888888888888888,\"#fdca26\"],[1.0,\"#f0f921\"]],\"type\":\"heatmapgl\"}],\"histogram\":[{\"marker\":{\"pattern\":{\"fillmode\":\"overlay\",\"size\":10,\"solidity\":0.2}},\"type\":\"histogram\"}],\"histogram2d\":[{\"colorbar\":{\"outlinewidth\":0,\"ticks\":\"\"},\"colorscale\":[[0.0,\"#0d0887\"],[0.1111111111111111,\"#46039f\"],[0.2222222222222222,\"#7201a8\"],[0.3333333333333333,\"#9c179e\"],[0.4444444444444444,\"#bd3786\"],[0.5555555555555556,\"#d8576b\"],[0.6666666666666666,\"#ed7953\"],[0.7777777777777778,\"#fb9f3a\"],[0.8888888888888888,\"#fdca26\"],[1.0,\"#f0f921\"]],\"type\":\"histogram2d\"}],\"histogram2dcontour\":[{\"colorbar\":{\"outlinewidth\":0,\"ticks\":\"\"},\"colorscale\":[[0.0,\"#0d0887\"],[0.1111111111111111,\"#46039f\"],[0.2222222222222222,\"#7201a8\"],[0.3333333333333333,\"#9c179e\"],[0.4444444444444444,\"#bd3786\"],[0.5555555555555556,\"#d8576b\"],[0.6666666666666666,\"#ed7953\"],[0.7777777777777778,\"#fb9f3a\"],[0.8888888888888888,\"#fdca26\"],[1.0,\"#f0f921\"]],\"type\":\"histogram2dcontour\"}],\"mesh3d\":[{\"colorbar\":{\"outlinewidth\":0,\"ticks\":\"\"},\"type\":\"mesh3d\"}],\"parcoords\":[{\"line\":{\"colorbar\":{\"outlinewidth\":0,\"ticks\":\"\"}},\"type\":\"parcoords\"}],\"pie\":[{\"automargin\":true,\"type\":\"pie\"}],\"scatter\":[{\"marker\":{\"colorbar\":{\"outlinewidth\":0,\"ticks\":\"\"}},\"type\":\"scatter\"}],\"scatter3d\":[{\"line\":{\"colorbar\":{\"outlinewidth\":0,\"ticks\":\"\"}},\"marker\":{\"colorbar\":{\"outlinewidth\":0,\"ticks\":\"\"}},\"type\":\"scatter3d\"}],\"scattercarpet\":[{\"marker\":{\"colorbar\":{\"outlinewidth\":0,\"ticks\":\"\"}},\"type\":\"scattercarpet\"}],\"scattergeo\":[{\"marker\":{\"colorbar\":{\"outlinewidth\":0,\"ticks\":\"\"}},\"type\":\"scattergeo\"}],\"scattergl\":[{\"marker\":{\"colorbar\":{\"outlinewidth\":0,\"ticks\":\"\"}},\"type\":\"scattergl\"}],\"scattermapbox\":[{\"marker\":{\"colorbar\":{\"outlinewidth\":0,\"ticks\":\"\"}},\"type\":\"scattermapbox\"}],\"scatterpolar\":[{\"marker\":{\"colorbar\":{\"outlinewidth\":0,\"ticks\":\"\"}},\"type\":\"scatterpolar\"}],\"scatterpolargl\":[{\"marker\":{\"colorbar\":{\"outlinewidth\":0,\"ticks\":\"\"}},\"type\":\"scatterpolargl\"}],\"scatterternary\":[{\"marker\":{\"colorbar\":{\"outlinewidth\":0,\"ticks\":\"\"}},\"type\":\"scatterternary\"}],\"surface\":[{\"colorbar\":{\"outlinewidth\":0,\"ticks\":\"\"},\"colorscale\":[[0.0,\"#0d0887\"],[0.1111111111111111,\"#46039f\"],[0.2222222222222222,\"#7201a8\"],[0.3333333333333333,\"#9c179e\"],[0.4444444444444444,\"#bd3786\"],[0.5555555555555556,\"#d8576b\"],[0.6666666666666666,\"#ed7953\"],[0.7777777777777778,\"#fb9f3a\"],[0.8888888888888888,\"#fdca26\"],[1.0,\"#f0f921\"]],\"type\":\"surface\"}],\"table\":[{\"cells\":{\"fill\":{\"color\":\"#EBF0F8\"},\"line\":{\"color\":\"white\"}},\"header\":{\"fill\":{\"color\":\"#C8D4E3\"},\"line\":{\"color\":\"white\"}},\"type\":\"table\"}]},\"layout\":{\"annotationdefaults\":{\"arrowcolor\":\"#2a3f5f\",\"arrowhead\":0,\"arrowwidth\":1},\"autotypenumbers\":\"strict\",\"coloraxis\":{\"colorbar\":{\"outlinewidth\":0,\"ticks\":\"\"}},\"colorscale\":{\"diverging\":[[0,\"#8e0152\"],[0.1,\"#c51b7d\"],[0.2,\"#de77ae\"],[0.3,\"#f1b6da\"],[0.4,\"#fde0ef\"],[0.5,\"#f7f7f7\"],[0.6,\"#e6f5d0\"],[0.7,\"#b8e186\"],[0.8,\"#7fbc41\"],[0.9,\"#4d9221\"],[1,\"#276419\"]],\"sequential\":[[0.0,\"#0d0887\"],[0.1111111111111111,\"#46039f\"],[0.2222222222222222,\"#7201a8\"],[0.3333333333333333,\"#9c179e\"],[0.4444444444444444,\"#bd3786\"],[0.5555555555555556,\"#d8576b\"],[0.6666666666666666,\"#ed7953\"],[0.7777777777777778,\"#fb9f3a\"],[0.8888888888888888,\"#fdca26\"],[1.0,\"#f0f921\"]],\"sequentialminus\":[[0.0,\"#0d0887\"],[0.1111111111111111,\"#46039f\"],[0.2222222222222222,\"#7201a8\"],[0.3333333333333333,\"#9c179e\"],[0.4444444444444444,\"#bd3786\"],[0.5555555555555556,\"#d8576b\"],[0.6666666666666666,\"#ed7953\"],[0.7777777777777778,\"#fb9f3a\"],[0.8888888888888888,\"#fdca26\"],[1.0,\"#f0f921\"]]},\"colorway\":[\"#636efa\",\"#EF553B\",\"#00cc96\",\"#ab63fa\",\"#FFA15A\",\"#19d3f3\",\"#FF6692\",\"#B6E880\",\"#FF97FF\",\"#FECB52\"],\"font\":{\"color\":\"#2a3f5f\"},\"geo\":{\"bgcolor\":\"white\",\"lakecolor\":\"white\",\"landcolor\":\"#E5ECF6\",\"showlakes\":true,\"showland\":true,\"subunitcolor\":\"white\"},\"hoverlabel\":{\"align\":\"left\"},\"hovermode\":\"closest\",\"mapbox\":{\"style\":\"light\"},\"paper_bgcolor\":\"white\",\"plot_bgcolor\":\"#E5ECF6\",\"polar\":{\"angularaxis\":{\"gridcolor\":\"white\",\"linecolor\":\"white\",\"ticks\":\"\"},\"bgcolor\":\"#E5ECF6\",\"radialaxis\":{\"gridcolor\":\"white\",\"linecolor\":\"white\",\"ticks\":\"\"}},\"scene\":{\"xaxis\":{\"backgroundcolor\":\"#E5ECF6\",\"gridcolor\":\"white\",\"gridwidth\":2,\"linecolor\":\"white\",\"showbackground\":true,\"ticks\":\"\",\"zerolinecolor\":\"white\"},\"yaxis\":{\"backgroundcolor\":\"#E5ECF6\",\"gridcolor\":\"white\",\"gridwidth\":2,\"linecolor\":\"white\",\"showbackground\":true,\"ticks\":\"\",\"zerolinecolor\":\"white\"},\"zaxis\":{\"backgroundcolor\":\"#E5ECF6\",\"gridcolor\":\"white\",\"gridwidth\":2,\"linecolor\":\"white\",\"showbackground\":true,\"ticks\":\"\",\"zerolinecolor\":\"white\"}},\"shapedefaults\":{\"line\":{\"color\":\"#2a3f5f\"}},\"ternary\":{\"aaxis\":{\"gridcolor\":\"white\",\"linecolor\":\"white\",\"ticks\":\"\"},\"baxis\":{\"gridcolor\":\"white\",\"linecolor\":\"white\",\"ticks\":\"\"},\"bgcolor\":\"#E5ECF6\",\"caxis\":{\"gridcolor\":\"white\",\"linecolor\":\"white\",\"ticks\":\"\"}},\"title\":{\"x\":0.05},\"xaxis\":{\"automargin\":true,\"gridcolor\":\"white\",\"linecolor\":\"white\",\"ticks\":\"\",\"title\":{\"standoff\":15},\"zerolinecolor\":\"white\",\"zerolinewidth\":2},\"yaxis\":{\"automargin\":true,\"gridcolor\":\"white\",\"linecolor\":\"white\",\"ticks\":\"\",\"title\":{\"standoff\":15},\"zerolinecolor\":\"white\",\"zerolinewidth\":2}}},\"xaxis\":{\"rangebreaks\":[{\"bounds\":[\"sat\",\"mon\"]},{\"values\":[\"2022-06-16\",\"2022-07-09\"]}],\"rangeslider\":{\"visible\":false}},\"annotations\":[{\"text\":\"compra\",\"x\":\"2022-06-17\",\"y\":11.27}],\"title\":{\"text\":\"B3\"}},                        {\"responsive\": true}                    ).then(function(){\n",
              "                            \n",
              "var gd = document.getElementById('fa26dd65-1760-478e-9767-78359d7992d8');\n",
              "var x = new MutationObserver(function (mutations, observer) {{\n",
              "        var display = window.getComputedStyle(gd).display;\n",
              "        if (!display || display === 'none') {{\n",
              "            console.log([gd, 'removed!']);\n",
              "            Plotly.purge(gd);\n",
              "            observer.disconnect();\n",
              "        }}\n",
              "}});\n",
              "\n",
              "// Listen for the removal of the full notebook cells\n",
              "var notebookContainer = gd.closest('#notebook-container');\n",
              "if (notebookContainer) {{\n",
              "    x.observe(notebookContainer, {childList: true});\n",
              "}}\n",
              "\n",
              "// Listen for the clearing of the current output cell\n",
              "var outputEl = gd.closest('.output');\n",
              "if (outputEl) {{\n",
              "    x.observe(outputEl, {childList: true});\n",
              "}}\n",
              "\n",
              "                        })                };                            </script>        </div>\n",
              "</body>\n",
              "</html>"
            ]
          },
          "metadata": {}
        }
      ]
    },
    {
      "cell_type": "code",
      "source": [
        "# tentando com .add_trace(go.Scatter...)\n",
        "# https://plotly.com/python/marker-style/\n",
        "\n",
        "fig_b32 = go.Figure()\n",
        "fig_b32.add_trace(go.Candlestick(name='B3SA3',x=df_b3.index, close=df_b3['Close'], open=df_b3['Open'],high=df_b3['High'], low=df_b3['Low']))\n",
        "fig_b32.update_xaxes(\n",
        "                          rangebreaks=[\n",
        "    dict(bounds=[\"sat\", \"mon\"]), # não mostrar finais de semana (usei mon igual a aula, mesmo achando que está errado, porque o resultado é melhor)\n",
        "    dict(values=[\"2022-06-16\",\"2022-07-09\"]) # não mostrar corpus christi e 9 de julho\n",
        "    ])\n",
        "fig_b32.add_trace(go.Scatter(name = 'compras', #nome do traço (pontos)\n",
        "                             mode='markers', # plota como pontos e não traço/linha\n",
        "                             marker_symbol = 0, # tipo do marcador\n",
        "                             marker_size= 10, # tamanho do marcador \n",
        "                             marker_line_color = '#1616A7', #contorno do marcador\n",
        "                             marker_line_width=1, # espessura do contorno\n",
        "                             x = ['2022-06-17', '2022-06-29'], y = [11.27, 10.95], # coordenadas dos pontos\n",
        "                           marker_color= '#19D3F3')) # cor dos pontos\n",
        "fig_b32.add_trace(go.Scatter(name = 'vendas', #nome do traço (pontos)\n",
        "                             mode='markers', # plota como pontos e não traço/linha\n",
        "                             marker_symbol = 0, # tipo do marcador\n",
        "                             marker_size= 10, # tamanho do marcador \n",
        "                             marker_line_color = '#FF9900', #contorno do marcador\n",
        "                             marker_line_width=1,\n",
        "                             x = ['2022-07-04', '2022-07-04'], y = [11.30, 11.26], # coordenadas dos pontos\n",
        "                             marker_color= 'yellow')) # cor dos pontos\n",
        "fig_b32.update_layout(xaxis_rangeslider_visible=False, title_text = 'B3')\n",
        "fig_b32.show()\n",
        "\n",
        "# deu certo! que lindo"
      ],
      "metadata": {
        "colab": {
          "base_uri": "https://localhost:8080/",
          "height": 542
        },
        "id": "7s04oa1XqV97",
        "outputId": "2f3ad73b-a5a5-4cd7-dc7a-c928f41bc4a3"
      },
      "execution_count": null,
      "outputs": [
        {
          "output_type": "display_data",
          "data": {
            "text/html": [
              "<html>\n",
              "<head><meta charset=\"utf-8\" /></head>\n",
              "<body>\n",
              "    <div>            <script src=\"https://cdnjs.cloudflare.com/ajax/libs/mathjax/2.7.5/MathJax.js?config=TeX-AMS-MML_SVG\"></script><script type=\"text/javascript\">if (window.MathJax) {MathJax.Hub.Config({SVG: {font: \"STIX-Web\"}});}</script>                <script type=\"text/javascript\">window.PlotlyConfig = {MathJaxConfig: 'local'};</script>\n",
              "        <script src=\"https://cdn.plot.ly/plotly-2.8.3.min.js\"></script>                <div id=\"26e282bf-a1c6-419b-aa75-dd7a52a0a9f9\" class=\"plotly-graph-div\" style=\"height:525px; width:100%;\"></div>            <script type=\"text/javascript\">                                    window.PLOTLYENV=window.PLOTLYENV || {};                                    if (document.getElementById(\"26e282bf-a1c6-419b-aa75-dd7a52a0a9f9\")) {                    Plotly.newPlot(                        \"26e282bf-a1c6-419b-aa75-dd7a52a0a9f9\",                        [{\"close\":[12.5,12.890000343322754,12.670000076293945,12.279999732971191,11.890000343322754,11.789999961853027,11.949999809265137,11.65999984741211,11.539999961853027,11.489999771118164,11.609999656677246,11.449999809265137,11.550000190734863,11.489999771118164,11.649999618530273,11.579999923706055,11.600000381469727,11.600000381469727,11.270000457763672,10.949999809265137,10.960000038146973,11.1899995803833,11.079999923706055,11.270000457763672,11.109999656677246,11.359999656677246,11.4399995803833,10.770000457763672,10.539999961853027,10.279999732971191,10.279999732971191,10.029999732971191,10.270000457763672,10.210000038146973,10.539999961853027,11.010000228881836,10.720000267028809,10.729999542236328,10.729999542236328,10.880000114440918,11.260000228881836,11.09000015258789],\"high\":[12.829999923706055,12.989999771118164,12.920000076293945,12.789999961853027,12.25,12.050000190734863,12.15999984741211,11.9399995803833,11.680000305175781,11.619999885559082,11.800000190734863,11.489999771118164,11.619999885559082,11.770000457763672,11.670000076293945,11.899999618530273,11.819999694824219,11.760000228881836,11.819999694824219,11.300000190734863,11.079999923706055,11.3100004196167,11.350000381469727,11.34000015258789,11.430000305175781,11.420000076293945,11.529999732971191,11.220000267028809,10.819999694824219,10.609999656677246,10.359999656677246,10.329999923706055,10.4399995803833,10.5,10.59000015258789,11.069999694824219,11.180000305175781,10.789999961853027,10.850000381469727,10.930000305175781,11.369999885559082,11.359999656677246],\"low\":[12.489999771118164,12.59000015258789,12.59000015258789,12.220000267028809,11.8100004196167,11.739999771118164,11.760000228881836,11.649999618530273,11.3100004196167,11.380000114440918,11.449999809265137,11.170000076293945,11.289999961853027,11.399999618530273,11.350000381469727,11.550000190734863,11.539999961853027,11.510000228881836,11.180000305175781,10.890000343322754,10.619999885559082,10.729999542236328,11.020000457763672,10.9399995803833,10.90999984741211,11.15999984741211,11.319999694824219,10.6899995803833,10.420000076293945,10.229999542236328,9.710000038146973,9.979999542236328,10.020000457763672,10.130000114440918,10.140000343322754,10.510000228881836,10.619999885559082,10.489999771118164,10.649999618530273,10.619999885559082,10.739999771118164,11.050000190734863],\"name\":\"B3SA3\",\"open\":[12.770000457763672,12.59000015258789,12.850000381469727,12.770000457763672,12.170000076293945,11.800000190734863,11.779999732971191,11.800000190734863,11.489999771118164,11.529999732971191,11.710000038146973,11.399999618530273,11.460000038146973,11.600000381469727,11.479999542236328,11.630000114440918,11.739999771118164,11.680000305175781,11.640000343322754,11.279999732971191,10.630000114440918,10.75,11.109999656677246,11.0,11.229999542236328,11.289999961853027,11.390000343322754,11.210000038146973,10.819999694824219,10.420000076293945,10.069999694824219,10.210000038146973,10.09000015258789,10.270000457763672,10.1899995803833,10.5600004196167,11.079999923706055,10.789999961853027,10.720000267028809,10.869999885559082,10.75,11.359999656677246],\"x\":[\"2022-06-01T00:00:00\",\"2022-06-02T00:00:00\",\"2022-06-03T00:00:00\",\"2022-06-06T00:00:00\",\"2022-06-07T00:00:00\",\"2022-06-08T00:00:00\",\"2022-06-09T00:00:00\",\"2022-06-10T00:00:00\",\"2022-06-13T00:00:00\",\"2022-06-14T00:00:00\",\"2022-06-15T00:00:00\",\"2022-06-17T00:00:00\",\"2022-06-20T00:00:00\",\"2022-06-21T00:00:00\",\"2022-06-22T00:00:00\",\"2022-06-23T00:00:00\",\"2022-06-24T00:00:00\",\"2022-06-27T00:00:00\",\"2022-06-28T00:00:00\",\"2022-06-29T00:00:00\",\"2022-06-30T00:00:00\",\"2022-07-01T00:00:00\",\"2022-07-04T00:00:00\",\"2022-07-05T00:00:00\",\"2022-07-06T00:00:00\",\"2022-07-07T00:00:00\",\"2022-07-08T00:00:00\",\"2022-07-11T00:00:00\",\"2022-07-12T00:00:00\",\"2022-07-13T00:00:00\",\"2022-07-14T00:00:00\",\"2022-07-15T00:00:00\",\"2022-07-18T00:00:00\",\"2022-07-19T00:00:00\",\"2022-07-20T00:00:00\",\"2022-07-21T00:00:00\",\"2022-07-22T00:00:00\",\"2022-07-25T00:00:00\",\"2022-07-26T00:00:00\",\"2022-07-27T00:00:00\",\"2022-07-28T00:00:00\",\"2022-07-29T00:00:00\"],\"type\":\"candlestick\"},{\"marker\":{\"color\":\"#19D3F3\",\"line\":{\"color\":\"#1616A7\",\"width\":1},\"size\":10,\"symbol\":0},\"mode\":\"markers\",\"name\":\"compras\",\"x\":[\"2022-06-17\",\"2022-06-29\"],\"y\":[11.27,10.95],\"type\":\"scatter\"},{\"marker\":{\"color\":\"yellow\",\"line\":{\"color\":\"#FF9900\",\"width\":1},\"size\":10,\"symbol\":0},\"mode\":\"markers\",\"name\":\"vendas\",\"x\":[\"2022-07-04\",\"2022-07-04\"],\"y\":[11.3,11.26],\"type\":\"scatter\"}],                        {\"template\":{\"data\":{\"bar\":[{\"error_x\":{\"color\":\"#2a3f5f\"},\"error_y\":{\"color\":\"#2a3f5f\"},\"marker\":{\"line\":{\"color\":\"#E5ECF6\",\"width\":0.5},\"pattern\":{\"fillmode\":\"overlay\",\"size\":10,\"solidity\":0.2}},\"type\":\"bar\"}],\"barpolar\":[{\"marker\":{\"line\":{\"color\":\"#E5ECF6\",\"width\":0.5},\"pattern\":{\"fillmode\":\"overlay\",\"size\":10,\"solidity\":0.2}},\"type\":\"barpolar\"}],\"carpet\":[{\"aaxis\":{\"endlinecolor\":\"#2a3f5f\",\"gridcolor\":\"white\",\"linecolor\":\"white\",\"minorgridcolor\":\"white\",\"startlinecolor\":\"#2a3f5f\"},\"baxis\":{\"endlinecolor\":\"#2a3f5f\",\"gridcolor\":\"white\",\"linecolor\":\"white\",\"minorgridcolor\":\"white\",\"startlinecolor\":\"#2a3f5f\"},\"type\":\"carpet\"}],\"choropleth\":[{\"colorbar\":{\"outlinewidth\":0,\"ticks\":\"\"},\"type\":\"choropleth\"}],\"contour\":[{\"colorbar\":{\"outlinewidth\":0,\"ticks\":\"\"},\"colorscale\":[[0.0,\"#0d0887\"],[0.1111111111111111,\"#46039f\"],[0.2222222222222222,\"#7201a8\"],[0.3333333333333333,\"#9c179e\"],[0.4444444444444444,\"#bd3786\"],[0.5555555555555556,\"#d8576b\"],[0.6666666666666666,\"#ed7953\"],[0.7777777777777778,\"#fb9f3a\"],[0.8888888888888888,\"#fdca26\"],[1.0,\"#f0f921\"]],\"type\":\"contour\"}],\"contourcarpet\":[{\"colorbar\":{\"outlinewidth\":0,\"ticks\":\"\"},\"type\":\"contourcarpet\"}],\"heatmap\":[{\"colorbar\":{\"outlinewidth\":0,\"ticks\":\"\"},\"colorscale\":[[0.0,\"#0d0887\"],[0.1111111111111111,\"#46039f\"],[0.2222222222222222,\"#7201a8\"],[0.3333333333333333,\"#9c179e\"],[0.4444444444444444,\"#bd3786\"],[0.5555555555555556,\"#d8576b\"],[0.6666666666666666,\"#ed7953\"],[0.7777777777777778,\"#fb9f3a\"],[0.8888888888888888,\"#fdca26\"],[1.0,\"#f0f921\"]],\"type\":\"heatmap\"}],\"heatmapgl\":[{\"colorbar\":{\"outlinewidth\":0,\"ticks\":\"\"},\"colorscale\":[[0.0,\"#0d0887\"],[0.1111111111111111,\"#46039f\"],[0.2222222222222222,\"#7201a8\"],[0.3333333333333333,\"#9c179e\"],[0.4444444444444444,\"#bd3786\"],[0.5555555555555556,\"#d8576b\"],[0.6666666666666666,\"#ed7953\"],[0.7777777777777778,\"#fb9f3a\"],[0.8888888888888888,\"#fdca26\"],[1.0,\"#f0f921\"]],\"type\":\"heatmapgl\"}],\"histogram\":[{\"marker\":{\"pattern\":{\"fillmode\":\"overlay\",\"size\":10,\"solidity\":0.2}},\"type\":\"histogram\"}],\"histogram2d\":[{\"colorbar\":{\"outlinewidth\":0,\"ticks\":\"\"},\"colorscale\":[[0.0,\"#0d0887\"],[0.1111111111111111,\"#46039f\"],[0.2222222222222222,\"#7201a8\"],[0.3333333333333333,\"#9c179e\"],[0.4444444444444444,\"#bd3786\"],[0.5555555555555556,\"#d8576b\"],[0.6666666666666666,\"#ed7953\"],[0.7777777777777778,\"#fb9f3a\"],[0.8888888888888888,\"#fdca26\"],[1.0,\"#f0f921\"]],\"type\":\"histogram2d\"}],\"histogram2dcontour\":[{\"colorbar\":{\"outlinewidth\":0,\"ticks\":\"\"},\"colorscale\":[[0.0,\"#0d0887\"],[0.1111111111111111,\"#46039f\"],[0.2222222222222222,\"#7201a8\"],[0.3333333333333333,\"#9c179e\"],[0.4444444444444444,\"#bd3786\"],[0.5555555555555556,\"#d8576b\"],[0.6666666666666666,\"#ed7953\"],[0.7777777777777778,\"#fb9f3a\"],[0.8888888888888888,\"#fdca26\"],[1.0,\"#f0f921\"]],\"type\":\"histogram2dcontour\"}],\"mesh3d\":[{\"colorbar\":{\"outlinewidth\":0,\"ticks\":\"\"},\"type\":\"mesh3d\"}],\"parcoords\":[{\"line\":{\"colorbar\":{\"outlinewidth\":0,\"ticks\":\"\"}},\"type\":\"parcoords\"}],\"pie\":[{\"automargin\":true,\"type\":\"pie\"}],\"scatter\":[{\"marker\":{\"colorbar\":{\"outlinewidth\":0,\"ticks\":\"\"}},\"type\":\"scatter\"}],\"scatter3d\":[{\"line\":{\"colorbar\":{\"outlinewidth\":0,\"ticks\":\"\"}},\"marker\":{\"colorbar\":{\"outlinewidth\":0,\"ticks\":\"\"}},\"type\":\"scatter3d\"}],\"scattercarpet\":[{\"marker\":{\"colorbar\":{\"outlinewidth\":0,\"ticks\":\"\"}},\"type\":\"scattercarpet\"}],\"scattergeo\":[{\"marker\":{\"colorbar\":{\"outlinewidth\":0,\"ticks\":\"\"}},\"type\":\"scattergeo\"}],\"scattergl\":[{\"marker\":{\"colorbar\":{\"outlinewidth\":0,\"ticks\":\"\"}},\"type\":\"scattergl\"}],\"scattermapbox\":[{\"marker\":{\"colorbar\":{\"outlinewidth\":0,\"ticks\":\"\"}},\"type\":\"scattermapbox\"}],\"scatterpolar\":[{\"marker\":{\"colorbar\":{\"outlinewidth\":0,\"ticks\":\"\"}},\"type\":\"scatterpolar\"}],\"scatterpolargl\":[{\"marker\":{\"colorbar\":{\"outlinewidth\":0,\"ticks\":\"\"}},\"type\":\"scatterpolargl\"}],\"scatterternary\":[{\"marker\":{\"colorbar\":{\"outlinewidth\":0,\"ticks\":\"\"}},\"type\":\"scatterternary\"}],\"surface\":[{\"colorbar\":{\"outlinewidth\":0,\"ticks\":\"\"},\"colorscale\":[[0.0,\"#0d0887\"],[0.1111111111111111,\"#46039f\"],[0.2222222222222222,\"#7201a8\"],[0.3333333333333333,\"#9c179e\"],[0.4444444444444444,\"#bd3786\"],[0.5555555555555556,\"#d8576b\"],[0.6666666666666666,\"#ed7953\"],[0.7777777777777778,\"#fb9f3a\"],[0.8888888888888888,\"#fdca26\"],[1.0,\"#f0f921\"]],\"type\":\"surface\"}],\"table\":[{\"cells\":{\"fill\":{\"color\":\"#EBF0F8\"},\"line\":{\"color\":\"white\"}},\"header\":{\"fill\":{\"color\":\"#C8D4E3\"},\"line\":{\"color\":\"white\"}},\"type\":\"table\"}]},\"layout\":{\"annotationdefaults\":{\"arrowcolor\":\"#2a3f5f\",\"arrowhead\":0,\"arrowwidth\":1},\"autotypenumbers\":\"strict\",\"coloraxis\":{\"colorbar\":{\"outlinewidth\":0,\"ticks\":\"\"}},\"colorscale\":{\"diverging\":[[0,\"#8e0152\"],[0.1,\"#c51b7d\"],[0.2,\"#de77ae\"],[0.3,\"#f1b6da\"],[0.4,\"#fde0ef\"],[0.5,\"#f7f7f7\"],[0.6,\"#e6f5d0\"],[0.7,\"#b8e186\"],[0.8,\"#7fbc41\"],[0.9,\"#4d9221\"],[1,\"#276419\"]],\"sequential\":[[0.0,\"#0d0887\"],[0.1111111111111111,\"#46039f\"],[0.2222222222222222,\"#7201a8\"],[0.3333333333333333,\"#9c179e\"],[0.4444444444444444,\"#bd3786\"],[0.5555555555555556,\"#d8576b\"],[0.6666666666666666,\"#ed7953\"],[0.7777777777777778,\"#fb9f3a\"],[0.8888888888888888,\"#fdca26\"],[1.0,\"#f0f921\"]],\"sequentialminus\":[[0.0,\"#0d0887\"],[0.1111111111111111,\"#46039f\"],[0.2222222222222222,\"#7201a8\"],[0.3333333333333333,\"#9c179e\"],[0.4444444444444444,\"#bd3786\"],[0.5555555555555556,\"#d8576b\"],[0.6666666666666666,\"#ed7953\"],[0.7777777777777778,\"#fb9f3a\"],[0.8888888888888888,\"#fdca26\"],[1.0,\"#f0f921\"]]},\"colorway\":[\"#636efa\",\"#EF553B\",\"#00cc96\",\"#ab63fa\",\"#FFA15A\",\"#19d3f3\",\"#FF6692\",\"#B6E880\",\"#FF97FF\",\"#FECB52\"],\"font\":{\"color\":\"#2a3f5f\"},\"geo\":{\"bgcolor\":\"white\",\"lakecolor\":\"white\",\"landcolor\":\"#E5ECF6\",\"showlakes\":true,\"showland\":true,\"subunitcolor\":\"white\"},\"hoverlabel\":{\"align\":\"left\"},\"hovermode\":\"closest\",\"mapbox\":{\"style\":\"light\"},\"paper_bgcolor\":\"white\",\"plot_bgcolor\":\"#E5ECF6\",\"polar\":{\"angularaxis\":{\"gridcolor\":\"white\",\"linecolor\":\"white\",\"ticks\":\"\"},\"bgcolor\":\"#E5ECF6\",\"radialaxis\":{\"gridcolor\":\"white\",\"linecolor\":\"white\",\"ticks\":\"\"}},\"scene\":{\"xaxis\":{\"backgroundcolor\":\"#E5ECF6\",\"gridcolor\":\"white\",\"gridwidth\":2,\"linecolor\":\"white\",\"showbackground\":true,\"ticks\":\"\",\"zerolinecolor\":\"white\"},\"yaxis\":{\"backgroundcolor\":\"#E5ECF6\",\"gridcolor\":\"white\",\"gridwidth\":2,\"linecolor\":\"white\",\"showbackground\":true,\"ticks\":\"\",\"zerolinecolor\":\"white\"},\"zaxis\":{\"backgroundcolor\":\"#E5ECF6\",\"gridcolor\":\"white\",\"gridwidth\":2,\"linecolor\":\"white\",\"showbackground\":true,\"ticks\":\"\",\"zerolinecolor\":\"white\"}},\"shapedefaults\":{\"line\":{\"color\":\"#2a3f5f\"}},\"ternary\":{\"aaxis\":{\"gridcolor\":\"white\",\"linecolor\":\"white\",\"ticks\":\"\"},\"baxis\":{\"gridcolor\":\"white\",\"linecolor\":\"white\",\"ticks\":\"\"},\"bgcolor\":\"#E5ECF6\",\"caxis\":{\"gridcolor\":\"white\",\"linecolor\":\"white\",\"ticks\":\"\"}},\"title\":{\"x\":0.05},\"xaxis\":{\"automargin\":true,\"gridcolor\":\"white\",\"linecolor\":\"white\",\"ticks\":\"\",\"title\":{\"standoff\":15},\"zerolinecolor\":\"white\",\"zerolinewidth\":2},\"yaxis\":{\"automargin\":true,\"gridcolor\":\"white\",\"linecolor\":\"white\",\"ticks\":\"\",\"title\":{\"standoff\":15},\"zerolinecolor\":\"white\",\"zerolinewidth\":2}}},\"xaxis\":{\"rangebreaks\":[{\"bounds\":[\"sat\",\"mon\"]},{\"values\":[\"2022-06-16\",\"2022-07-09\"]}],\"rangeslider\":{\"visible\":false}},\"title\":{\"text\":\"B3\"}},                        {\"responsive\": true}                    ).then(function(){\n",
              "                            \n",
              "var gd = document.getElementById('26e282bf-a1c6-419b-aa75-dd7a52a0a9f9');\n",
              "var x = new MutationObserver(function (mutations, observer) {{\n",
              "        var display = window.getComputedStyle(gd).display;\n",
              "        if (!display || display === 'none') {{\n",
              "            console.log([gd, 'removed!']);\n",
              "            Plotly.purge(gd);\n",
              "            observer.disconnect();\n",
              "        }}\n",
              "}});\n",
              "\n",
              "// Listen for the removal of the full notebook cells\n",
              "var notebookContainer = gd.closest('#notebook-container');\n",
              "if (notebookContainer) {{\n",
              "    x.observe(notebookContainer, {childList: true});\n",
              "}}\n",
              "\n",
              "// Listen for the clearing of the current output cell\n",
              "var outputEl = gd.closest('.output');\n",
              "if (outputEl) {{\n",
              "    x.observe(outputEl, {childList: true});\n",
              "}}\n",
              "\n",
              "                        })                };                            </script>        </div>\n",
              "</body>\n",
              "</html>"
            ]
          },
          "metadata": {}
        }
      ]
    },
    {
      "cell_type": "markdown",
      "source": [
        "###Obtendo a base de investimentos e corrigindo formatos"
      ],
      "metadata": {
        "id": "MSktz2sEEKVo"
      }
    },
    {
      "cell_type": "markdown",
      "source": [
        "o próximo passo é conseguir os dados de compras e vendas\n",
        "\n",
        "cheguei à conclusão que usar a planilha original dá muito trabalho\n",
        "\n",
        "problemas: valores com R$, data no formato errado, colunas com problema de formatação\n",
        "\n",
        "melhor criar um df novo e limpo\n",
        "\n",
        "\n",
        "\n",
        "1.   obter os dados de compra e venda\n",
        "2.   corrigir o formato das datas\n",
        "3.   corrigir o formato dos preços\n",
        "\n"
      ],
      "metadata": {
        "id": "OspSC74JEWnj"
      }
    },
    {
      "cell_type": "code",
      "source": [
        "investimentos = pd.read_csv('Investimentos - Mesa Mac.csv', sep = ';')"
      ],
      "metadata": {
        "id": "ep-gaL_xRM_5"
      },
      "execution_count": null,
      "outputs": []
    },
    {
      "cell_type": "code",
      "source": [
        "# vamos tentar corrigir as datas\n",
        "\n",
        "data_compra_nova = []\n",
        "for data in investimentos['data_compra']:\n",
        "  data_nova = str(pd.to_datetime\n",
        "                  (data, dayfirst=True))[:10]\n",
        "                  # tentei fatiando como string mesmo, quase pirei tentando este resultado\n",
        "  data_compra_nova.append(data_nova)\n",
        "\n",
        "data_compra_form = pd.DataFrame(data_compra_nova) #fazendo a lista criada no laço for virar um df\n",
        "data_compra_form.columns=['data_compra_nova'] #renomeando a coluna\n",
        "investimentos = pd.concat([investimentos, data_compra_form], axis = 1) #concatenando\n",
        "\n",
        "investimentos\n",
        "\n",
        "# assim deu pra criar uma coluna nova de data de compra\n",
        "# vou fazer o mesmo para data de venda e ver se dá certo\n",
        "\n",
        "# PS: a primeira correção deu errado, deixei o infer_datetime_format=True do pd.to_datetime e ele errou\n",
        "# com dayfirst = True deu certo"
      ],
      "metadata": {
        "id": "y4IckCXqy7b1"
      },
      "execution_count": null,
      "outputs": []
    },
    {
      "cell_type": "code",
      "source": [
        "# versão vendas\n",
        "\n",
        "data_venda_nova = []\n",
        "for data in investimentos['data_venda']:\n",
        "  data_nova = str(pd.to_datetime\n",
        "                  (data, dayfirst=True))[:10]\n",
        "                  # tentei fatiando como string mesmo, quase pirei tentando este resultado\n",
        "  data_venda_nova.append(data_nova)\n",
        "\n",
        "data_venda_form = pd.DataFrame(data_venda_nova) #fazendo a lista criada no laço for virar um df\n",
        "data_venda_form.columns=['data_venda_nova'] #renomeando a coluna\n",
        "investimentos = pd.concat([investimentos, data_venda_form], axis = 1) #concatenando\n",
        "\n",
        "# PS: a primeira correção deu errado, deixei o infer_datetime_format=True do pd.to_datetime e ele errou"
      ],
      "metadata": {
        "id": "K095MPXXB0Ec"
      },
      "execution_count": null,
      "outputs": []
    },
    {
      "cell_type": "code",
      "source": [
        "# preciso obter as listas:\n",
        "# preços e datas de compra por ativo\n",
        "# preços e datas de venda por ativo\n",
        "\n",
        "list(investimentos.compra[investimentos.Cod == 'B3SA3F'])\n",
        "\n",
        "# o filtro deu certo\n",
        "# problema: preços também precisam ser formatados"
      ],
      "metadata": {
        "id": "gQ58Dxy8IW2m"
      },
      "execution_count": null,
      "outputs": []
    },
    {
      "cell_type": "code",
      "source": [
        "# resolvido o formato dos preços, mas vai aumentar mais o código\n",
        "\n",
        "b3_compra = []\n",
        "for valor in list(investimentos.compra[investimentos.Cod == 'B3SA3F']):\n",
        "  valor = valor.replace(',', '.')\n",
        "  b3_compra.append(valor)"
      ],
      "metadata": {
        "id": "Q_zQFhX1KMx3"
      },
      "execution_count": null,
      "outputs": []
    },
    {
      "cell_type": "code",
      "source": [
        "# agora a venda, que precisa eliminar os Nan\n",
        "# primeiro criar um df sem nan, depois aplicar o corretor de formato\n",
        "# aplicando o corretor antes deu erro\n",
        "\n",
        "df_sem_nan = investimentos.dropna(subset = ['venda'])\n",
        "\n",
        "b3_venda = []\n",
        "for valor in list(df_sem_nan.venda[df_sem_nan.Cod == 'B3SA3F']):\n",
        "  valor = valor.replace(',', '.')\n",
        "  b3_venda.append(valor)"
      ],
      "metadata": {
        "id": "hu_xj_18MYUK"
      },
      "execution_count": null,
      "outputs": []
    },
    {
      "cell_type": "markdown",
      "source": [
        "###Criando um gráfico teste"
      ],
      "metadata": {
        "id": "KnsjYhtmHxbe"
      }
    },
    {
      "cell_type": "code",
      "source": [
        "#TESTE gráfico B3\n",
        "\n",
        "# lista de preços\n",
        "\n",
        "b3_compra = []\n",
        "for valor in list(investimentos.compra[investimentos.Cod == 'B3SA3F']):\n",
        "  valor = valor.replace(',', '.')\n",
        "  b3_compra.append(float(valor))\n",
        "\n",
        "b3_venda = []\n",
        "for valor in list(df_sem_nan.venda[df_sem_nan.Cod == 'B3SA3F']):\n",
        "  valor = valor.replace(',', '.')\n",
        "  b3_venda.append(float(valor))\n",
        "\n",
        "# lista de datas\n",
        "b3_data_compra = list(investimentos.data_compra_nova[investimentos.Cod == 'B3SA3F'])\n",
        "b3_data_venda = list(df_sem_nan.data_venda_nova[df_sem_nan.Cod == 'B3SA3F'])\n",
        "\n",
        "\n",
        "# gráfico\n",
        "\n",
        "fig_b3 = go.Figure()\n",
        "fig_b3.add_trace(go.Candlestick(name='B3SA3',x=df_b3.index, close=df_b3['Close'], open=df_b3['Open'], high=df_b3['High'], low=df_b3['Low']))\n",
        "fig_b3.update_xaxes(rangebreaks=[\n",
        "    dict(bounds=[\"sat\", \"mon\"]), # não mostrar finais de semana (usei mon igual a aula, mesmo achando que está errado, porque o resultado é melhor)\n",
        "    dict(values=[\"2022-06-16\",\"2022-07-09\"]) # não mostrar corpus christi e 9 de julho\n",
        "    ])\n",
        "fig_b3.add_trace(go.Scatter(name = 'compras', #nome do traço (pontos)\n",
        "                             mode='markers', # plota como pontos e não traço/linha\n",
        "                             marker_symbol = 0, # tipo do marcador\n",
        "                             marker_size= 10, # tamanho do marcador \n",
        "                             marker_line_color = '#1616A7', #contorno do marcador\n",
        "                             marker_line_width=1, # espessura do contorno\n",
        "                             x = b3_data_compra, \n",
        "                             y = b3_compra, \n",
        "                             marker_color= '#19D3F3')) # cor dos pontos\n",
        "fig_b3.add_trace(go.Scatter(name = 'vendas', #nome do traço (pontos)\n",
        "                             mode='markers', # plota como pontos e não traço/linha\n",
        "                             marker_symbol = 0, # tipo do marcador\n",
        "                             marker_size= 10, # tamanho do marcador \n",
        "                             marker_line_color = '#FF9900', #contorno do marcador\n",
        "                             marker_line_width=1,\n",
        "                             x = b3_data_venda,\n",
        "                             y = b3_venda, \n",
        "                             marker_color= 'yellow')) # cor dos pontos\n",
        "fig_b3.update_layout(xaxis_rangeslider_visible=False, title_text = 'B3')\n",
        "fig_b3.show()\n",
        "\n",
        "# vixe, não deu certo\n",
        "# as datas estão erradas e os preços saíram do lugar\n",
        "# datas erradas corrigindo com dayfirst = True\n",
        "# preços estavam como string\n",
        "\n",
        "# agora sim!!"
      ],
      "metadata": {
        "colab": {
          "base_uri": "https://localhost:8080/",
          "height": 542
        },
        "id": "khUAouGKHPbt",
        "outputId": "7ba6a469-7162-4a23-e505-f07119e99a0a"
      },
      "execution_count": null,
      "outputs": [
        {
          "output_type": "display_data",
          "data": {
            "text/html": [
              "<html>\n",
              "<head><meta charset=\"utf-8\" /></head>\n",
              "<body>\n",
              "    <div>            <script src=\"https://cdnjs.cloudflare.com/ajax/libs/mathjax/2.7.5/MathJax.js?config=TeX-AMS-MML_SVG\"></script><script type=\"text/javascript\">if (window.MathJax) {MathJax.Hub.Config({SVG: {font: \"STIX-Web\"}});}</script>                <script type=\"text/javascript\">window.PlotlyConfig = {MathJaxConfig: 'local'};</script>\n",
              "        <script src=\"https://cdn.plot.ly/plotly-2.8.3.min.js\"></script>                <div id=\"e2d66315-f9f8-4397-865a-60b3e658c016\" class=\"plotly-graph-div\" style=\"height:525px; width:100%;\"></div>            <script type=\"text/javascript\">                                    window.PLOTLYENV=window.PLOTLYENV || {};                                    if (document.getElementById(\"e2d66315-f9f8-4397-865a-60b3e658c016\")) {                    Plotly.newPlot(                        \"e2d66315-f9f8-4397-865a-60b3e658c016\",                        [{\"close\":[12.5,12.890000343322754,12.670000076293945,12.279999732971191,11.890000343322754,11.789999961853027,11.949999809265137,11.65999984741211,11.539999961853027,11.489999771118164,11.609999656677246,11.449999809265137,11.550000190734863,11.489999771118164,11.649999618530273,11.579999923706055,11.600000381469727,11.600000381469727,11.270000457763672,10.949999809265137,10.960000038146973,11.1899995803833,11.079999923706055,11.270000457763672,11.109999656677246,11.359999656677246,11.4399995803833,10.770000457763672,10.539999961853027,10.279999732971191,10.279999732971191,10.029999732971191,10.270000457763672,10.210000038146973,10.539999961853027,11.010000228881836,10.720000267028809,10.729999542236328,10.729999542236328,10.880000114440918,11.260000228881836,11.09000015258789],\"high\":[12.829999923706055,12.989999771118164,12.920000076293945,12.789999961853027,12.25,12.050000190734863,12.15999984741211,11.9399995803833,11.680000305175781,11.619999885559082,11.800000190734863,11.489999771118164,11.619999885559082,11.770000457763672,11.670000076293945,11.899999618530273,11.819999694824219,11.760000228881836,11.819999694824219,11.300000190734863,11.079999923706055,11.3100004196167,11.350000381469727,11.34000015258789,11.430000305175781,11.420000076293945,11.529999732971191,11.220000267028809,10.819999694824219,10.609999656677246,10.359999656677246,10.329999923706055,10.4399995803833,10.5,10.59000015258789,11.069999694824219,11.180000305175781,10.789999961853027,10.850000381469727,10.930000305175781,11.369999885559082,11.359999656677246],\"low\":[12.489999771118164,12.59000015258789,12.59000015258789,12.220000267028809,11.8100004196167,11.739999771118164,11.760000228881836,11.649999618530273,11.3100004196167,11.380000114440918,11.449999809265137,11.170000076293945,11.289999961853027,11.399999618530273,11.350000381469727,11.550000190734863,11.539999961853027,11.510000228881836,11.180000305175781,10.890000343322754,10.619999885559082,10.729999542236328,11.020000457763672,10.9399995803833,10.90999984741211,11.15999984741211,11.319999694824219,10.6899995803833,10.420000076293945,10.229999542236328,9.710000038146973,9.979999542236328,10.020000457763672,10.130000114440918,10.140000343322754,10.510000228881836,10.619999885559082,10.489999771118164,10.649999618530273,10.619999885559082,10.739999771118164,11.050000190734863],\"name\":\"B3SA3\",\"open\":[12.770000457763672,12.59000015258789,12.850000381469727,12.770000457763672,12.170000076293945,11.800000190734863,11.779999732971191,11.800000190734863,11.489999771118164,11.529999732971191,11.710000038146973,11.399999618530273,11.460000038146973,11.600000381469727,11.479999542236328,11.630000114440918,11.739999771118164,11.680000305175781,11.640000343322754,11.279999732971191,10.630000114440918,10.75,11.109999656677246,11.0,11.229999542236328,11.289999961853027,11.390000343322754,11.210000038146973,10.819999694824219,10.420000076293945,10.069999694824219,10.210000038146973,10.09000015258789,10.270000457763672,10.1899995803833,10.5600004196167,11.079999923706055,10.789999961853027,10.720000267028809,10.869999885559082,10.75,11.359999656677246],\"x\":[\"2022-06-01T00:00:00\",\"2022-06-02T00:00:00\",\"2022-06-03T00:00:00\",\"2022-06-06T00:00:00\",\"2022-06-07T00:00:00\",\"2022-06-08T00:00:00\",\"2022-06-09T00:00:00\",\"2022-06-10T00:00:00\",\"2022-06-13T00:00:00\",\"2022-06-14T00:00:00\",\"2022-06-15T00:00:00\",\"2022-06-17T00:00:00\",\"2022-06-20T00:00:00\",\"2022-06-21T00:00:00\",\"2022-06-22T00:00:00\",\"2022-06-23T00:00:00\",\"2022-06-24T00:00:00\",\"2022-06-27T00:00:00\",\"2022-06-28T00:00:00\",\"2022-06-29T00:00:00\",\"2022-06-30T00:00:00\",\"2022-07-01T00:00:00\",\"2022-07-04T00:00:00\",\"2022-07-05T00:00:00\",\"2022-07-06T00:00:00\",\"2022-07-07T00:00:00\",\"2022-07-08T00:00:00\",\"2022-07-11T00:00:00\",\"2022-07-12T00:00:00\",\"2022-07-13T00:00:00\",\"2022-07-14T00:00:00\",\"2022-07-15T00:00:00\",\"2022-07-18T00:00:00\",\"2022-07-19T00:00:00\",\"2022-07-20T00:00:00\",\"2022-07-21T00:00:00\",\"2022-07-22T00:00:00\",\"2022-07-25T00:00:00\",\"2022-07-26T00:00:00\",\"2022-07-27T00:00:00\",\"2022-07-28T00:00:00\",\"2022-07-29T00:00:00\"],\"type\":\"candlestick\"},{\"marker\":{\"color\":\"#19D3F3\",\"line\":{\"color\":\"#1616A7\",\"width\":1},\"size\":10,\"symbol\":0},\"mode\":\"markers\",\"name\":\"compras\",\"x\":[\"2022-06-17\",\"2022-06-29\",\"2022-06-30\",\"2022-07-07\",\"2022-07-11\",\"2022-07-11\",\"2022-07-12\",\"2022-07-12\",\"2022-07-14\",\"2022-07-14\",\"2022-07-19\",\"2022-08-02\",\"2022-08-02\"],\"y\":[11.27,10.95,10.63,11.25,10.99,10.88,10.63,10.62,9.96,9.9,10.16,10.75,10.68],\"type\":\"scatter\"},{\"marker\":{\"color\":\"yellow\",\"line\":{\"color\":\"#FF9900\",\"width\":1},\"size\":10,\"symbol\":0},\"mode\":\"markers\",\"name\":\"vendas\",\"x\":[\"2022-07-04\",\"2022-07-04\",\"2022-07-05\",\"2022-08-03\",\"2022-08-01\",\"2022-08-01\",\"2022-07-21\",\"2022-07-18\",\"2022-08-01\"],\"y\":[11.3,11.26,11.15,11.11,10.87,10.85,11.01,10.4,10.82],\"type\":\"scatter\"}],                        {\"template\":{\"data\":{\"bar\":[{\"error_x\":{\"color\":\"#2a3f5f\"},\"error_y\":{\"color\":\"#2a3f5f\"},\"marker\":{\"line\":{\"color\":\"#E5ECF6\",\"width\":0.5},\"pattern\":{\"fillmode\":\"overlay\",\"size\":10,\"solidity\":0.2}},\"type\":\"bar\"}],\"barpolar\":[{\"marker\":{\"line\":{\"color\":\"#E5ECF6\",\"width\":0.5},\"pattern\":{\"fillmode\":\"overlay\",\"size\":10,\"solidity\":0.2}},\"type\":\"barpolar\"}],\"carpet\":[{\"aaxis\":{\"endlinecolor\":\"#2a3f5f\",\"gridcolor\":\"white\",\"linecolor\":\"white\",\"minorgridcolor\":\"white\",\"startlinecolor\":\"#2a3f5f\"},\"baxis\":{\"endlinecolor\":\"#2a3f5f\",\"gridcolor\":\"white\",\"linecolor\":\"white\",\"minorgridcolor\":\"white\",\"startlinecolor\":\"#2a3f5f\"},\"type\":\"carpet\"}],\"choropleth\":[{\"colorbar\":{\"outlinewidth\":0,\"ticks\":\"\"},\"type\":\"choropleth\"}],\"contour\":[{\"colorbar\":{\"outlinewidth\":0,\"ticks\":\"\"},\"colorscale\":[[0.0,\"#0d0887\"],[0.1111111111111111,\"#46039f\"],[0.2222222222222222,\"#7201a8\"],[0.3333333333333333,\"#9c179e\"],[0.4444444444444444,\"#bd3786\"],[0.5555555555555556,\"#d8576b\"],[0.6666666666666666,\"#ed7953\"],[0.7777777777777778,\"#fb9f3a\"],[0.8888888888888888,\"#fdca26\"],[1.0,\"#f0f921\"]],\"type\":\"contour\"}],\"contourcarpet\":[{\"colorbar\":{\"outlinewidth\":0,\"ticks\":\"\"},\"type\":\"contourcarpet\"}],\"heatmap\":[{\"colorbar\":{\"outlinewidth\":0,\"ticks\":\"\"},\"colorscale\":[[0.0,\"#0d0887\"],[0.1111111111111111,\"#46039f\"],[0.2222222222222222,\"#7201a8\"],[0.3333333333333333,\"#9c179e\"],[0.4444444444444444,\"#bd3786\"],[0.5555555555555556,\"#d8576b\"],[0.6666666666666666,\"#ed7953\"],[0.7777777777777778,\"#fb9f3a\"],[0.8888888888888888,\"#fdca26\"],[1.0,\"#f0f921\"]],\"type\":\"heatmap\"}],\"heatmapgl\":[{\"colorbar\":{\"outlinewidth\":0,\"ticks\":\"\"},\"colorscale\":[[0.0,\"#0d0887\"],[0.1111111111111111,\"#46039f\"],[0.2222222222222222,\"#7201a8\"],[0.3333333333333333,\"#9c179e\"],[0.4444444444444444,\"#bd3786\"],[0.5555555555555556,\"#d8576b\"],[0.6666666666666666,\"#ed7953\"],[0.7777777777777778,\"#fb9f3a\"],[0.8888888888888888,\"#fdca26\"],[1.0,\"#f0f921\"]],\"type\":\"heatmapgl\"}],\"histogram\":[{\"marker\":{\"pattern\":{\"fillmode\":\"overlay\",\"size\":10,\"solidity\":0.2}},\"type\":\"histogram\"}],\"histogram2d\":[{\"colorbar\":{\"outlinewidth\":0,\"ticks\":\"\"},\"colorscale\":[[0.0,\"#0d0887\"],[0.1111111111111111,\"#46039f\"],[0.2222222222222222,\"#7201a8\"],[0.3333333333333333,\"#9c179e\"],[0.4444444444444444,\"#bd3786\"],[0.5555555555555556,\"#d8576b\"],[0.6666666666666666,\"#ed7953\"],[0.7777777777777778,\"#fb9f3a\"],[0.8888888888888888,\"#fdca26\"],[1.0,\"#f0f921\"]],\"type\":\"histogram2d\"}],\"histogram2dcontour\":[{\"colorbar\":{\"outlinewidth\":0,\"ticks\":\"\"},\"colorscale\":[[0.0,\"#0d0887\"],[0.1111111111111111,\"#46039f\"],[0.2222222222222222,\"#7201a8\"],[0.3333333333333333,\"#9c179e\"],[0.4444444444444444,\"#bd3786\"],[0.5555555555555556,\"#d8576b\"],[0.6666666666666666,\"#ed7953\"],[0.7777777777777778,\"#fb9f3a\"],[0.8888888888888888,\"#fdca26\"],[1.0,\"#f0f921\"]],\"type\":\"histogram2dcontour\"}],\"mesh3d\":[{\"colorbar\":{\"outlinewidth\":0,\"ticks\":\"\"},\"type\":\"mesh3d\"}],\"parcoords\":[{\"line\":{\"colorbar\":{\"outlinewidth\":0,\"ticks\":\"\"}},\"type\":\"parcoords\"}],\"pie\":[{\"automargin\":true,\"type\":\"pie\"}],\"scatter\":[{\"marker\":{\"colorbar\":{\"outlinewidth\":0,\"ticks\":\"\"}},\"type\":\"scatter\"}],\"scatter3d\":[{\"line\":{\"colorbar\":{\"outlinewidth\":0,\"ticks\":\"\"}},\"marker\":{\"colorbar\":{\"outlinewidth\":0,\"ticks\":\"\"}},\"type\":\"scatter3d\"}],\"scattercarpet\":[{\"marker\":{\"colorbar\":{\"outlinewidth\":0,\"ticks\":\"\"}},\"type\":\"scattercarpet\"}],\"scattergeo\":[{\"marker\":{\"colorbar\":{\"outlinewidth\":0,\"ticks\":\"\"}},\"type\":\"scattergeo\"}],\"scattergl\":[{\"marker\":{\"colorbar\":{\"outlinewidth\":0,\"ticks\":\"\"}},\"type\":\"scattergl\"}],\"scattermapbox\":[{\"marker\":{\"colorbar\":{\"outlinewidth\":0,\"ticks\":\"\"}},\"type\":\"scattermapbox\"}],\"scatterpolar\":[{\"marker\":{\"colorbar\":{\"outlinewidth\":0,\"ticks\":\"\"}},\"type\":\"scatterpolar\"}],\"scatterpolargl\":[{\"marker\":{\"colorbar\":{\"outlinewidth\":0,\"ticks\":\"\"}},\"type\":\"scatterpolargl\"}],\"scatterternary\":[{\"marker\":{\"colorbar\":{\"outlinewidth\":0,\"ticks\":\"\"}},\"type\":\"scatterternary\"}],\"surface\":[{\"colorbar\":{\"outlinewidth\":0,\"ticks\":\"\"},\"colorscale\":[[0.0,\"#0d0887\"],[0.1111111111111111,\"#46039f\"],[0.2222222222222222,\"#7201a8\"],[0.3333333333333333,\"#9c179e\"],[0.4444444444444444,\"#bd3786\"],[0.5555555555555556,\"#d8576b\"],[0.6666666666666666,\"#ed7953\"],[0.7777777777777778,\"#fb9f3a\"],[0.8888888888888888,\"#fdca26\"],[1.0,\"#f0f921\"]],\"type\":\"surface\"}],\"table\":[{\"cells\":{\"fill\":{\"color\":\"#EBF0F8\"},\"line\":{\"color\":\"white\"}},\"header\":{\"fill\":{\"color\":\"#C8D4E3\"},\"line\":{\"color\":\"white\"}},\"type\":\"table\"}]},\"layout\":{\"annotationdefaults\":{\"arrowcolor\":\"#2a3f5f\",\"arrowhead\":0,\"arrowwidth\":1},\"autotypenumbers\":\"strict\",\"coloraxis\":{\"colorbar\":{\"outlinewidth\":0,\"ticks\":\"\"}},\"colorscale\":{\"diverging\":[[0,\"#8e0152\"],[0.1,\"#c51b7d\"],[0.2,\"#de77ae\"],[0.3,\"#f1b6da\"],[0.4,\"#fde0ef\"],[0.5,\"#f7f7f7\"],[0.6,\"#e6f5d0\"],[0.7,\"#b8e186\"],[0.8,\"#7fbc41\"],[0.9,\"#4d9221\"],[1,\"#276419\"]],\"sequential\":[[0.0,\"#0d0887\"],[0.1111111111111111,\"#46039f\"],[0.2222222222222222,\"#7201a8\"],[0.3333333333333333,\"#9c179e\"],[0.4444444444444444,\"#bd3786\"],[0.5555555555555556,\"#d8576b\"],[0.6666666666666666,\"#ed7953\"],[0.7777777777777778,\"#fb9f3a\"],[0.8888888888888888,\"#fdca26\"],[1.0,\"#f0f921\"]],\"sequentialminus\":[[0.0,\"#0d0887\"],[0.1111111111111111,\"#46039f\"],[0.2222222222222222,\"#7201a8\"],[0.3333333333333333,\"#9c179e\"],[0.4444444444444444,\"#bd3786\"],[0.5555555555555556,\"#d8576b\"],[0.6666666666666666,\"#ed7953\"],[0.7777777777777778,\"#fb9f3a\"],[0.8888888888888888,\"#fdca26\"],[1.0,\"#f0f921\"]]},\"colorway\":[\"#636efa\",\"#EF553B\",\"#00cc96\",\"#ab63fa\",\"#FFA15A\",\"#19d3f3\",\"#FF6692\",\"#B6E880\",\"#FF97FF\",\"#FECB52\"],\"font\":{\"color\":\"#2a3f5f\"},\"geo\":{\"bgcolor\":\"white\",\"lakecolor\":\"white\",\"landcolor\":\"#E5ECF6\",\"showlakes\":true,\"showland\":true,\"subunitcolor\":\"white\"},\"hoverlabel\":{\"align\":\"left\"},\"hovermode\":\"closest\",\"mapbox\":{\"style\":\"light\"},\"paper_bgcolor\":\"white\",\"plot_bgcolor\":\"#E5ECF6\",\"polar\":{\"angularaxis\":{\"gridcolor\":\"white\",\"linecolor\":\"white\",\"ticks\":\"\"},\"bgcolor\":\"#E5ECF6\",\"radialaxis\":{\"gridcolor\":\"white\",\"linecolor\":\"white\",\"ticks\":\"\"}},\"scene\":{\"xaxis\":{\"backgroundcolor\":\"#E5ECF6\",\"gridcolor\":\"white\",\"gridwidth\":2,\"linecolor\":\"white\",\"showbackground\":true,\"ticks\":\"\",\"zerolinecolor\":\"white\"},\"yaxis\":{\"backgroundcolor\":\"#E5ECF6\",\"gridcolor\":\"white\",\"gridwidth\":2,\"linecolor\":\"white\",\"showbackground\":true,\"ticks\":\"\",\"zerolinecolor\":\"white\"},\"zaxis\":{\"backgroundcolor\":\"#E5ECF6\",\"gridcolor\":\"white\",\"gridwidth\":2,\"linecolor\":\"white\",\"showbackground\":true,\"ticks\":\"\",\"zerolinecolor\":\"white\"}},\"shapedefaults\":{\"line\":{\"color\":\"#2a3f5f\"}},\"ternary\":{\"aaxis\":{\"gridcolor\":\"white\",\"linecolor\":\"white\",\"ticks\":\"\"},\"baxis\":{\"gridcolor\":\"white\",\"linecolor\":\"white\",\"ticks\":\"\"},\"bgcolor\":\"#E5ECF6\",\"caxis\":{\"gridcolor\":\"white\",\"linecolor\":\"white\",\"ticks\":\"\"}},\"title\":{\"x\":0.05},\"xaxis\":{\"automargin\":true,\"gridcolor\":\"white\",\"linecolor\":\"white\",\"ticks\":\"\",\"title\":{\"standoff\":15},\"zerolinecolor\":\"white\",\"zerolinewidth\":2},\"yaxis\":{\"automargin\":true,\"gridcolor\":\"white\",\"linecolor\":\"white\",\"ticks\":\"\",\"title\":{\"standoff\":15},\"zerolinecolor\":\"white\",\"zerolinewidth\":2}}},\"xaxis\":{\"rangebreaks\":[{\"bounds\":[\"sat\",\"mon\"]},{\"values\":[\"2022-06-16\",\"2022-07-09\"]}],\"rangeslider\":{\"visible\":false}},\"title\":{\"text\":\"B3\"}},                        {\"responsive\": true}                    ).then(function(){\n",
              "                            \n",
              "var gd = document.getElementById('e2d66315-f9f8-4397-865a-60b3e658c016');\n",
              "var x = new MutationObserver(function (mutations, observer) {{\n",
              "        var display = window.getComputedStyle(gd).display;\n",
              "        if (!display || display === 'none') {{\n",
              "            console.log([gd, 'removed!']);\n",
              "            Plotly.purge(gd);\n",
              "            observer.disconnect();\n",
              "        }}\n",
              "}});\n",
              "\n",
              "// Listen for the removal of the full notebook cells\n",
              "var notebookContainer = gd.closest('#notebook-container');\n",
              "if (notebookContainer) {{\n",
              "    x.observe(notebookContainer, {childList: true});\n",
              "}}\n",
              "\n",
              "// Listen for the clearing of the current output cell\n",
              "var outputEl = gd.closest('.output');\n",
              "if (outputEl) {{\n",
              "    x.observe(outputEl, {childList: true});\n",
              "}}\n",
              "\n",
              "                        })                };                            </script>        </div>\n",
              "</body>\n",
              "</html>"
            ]
          },
          "metadata": {}
        }
      ]
    }
  ]
}